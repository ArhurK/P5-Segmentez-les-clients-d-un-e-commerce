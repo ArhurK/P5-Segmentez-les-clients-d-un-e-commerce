{
 "cells": [
  {
   "cell_type": "code",
   "execution_count": 1,
   "id": "103b9fbc",
   "metadata": {},
   "outputs": [],
   "source": [
    "import pandas as pd\n",
    "import numpy as np \n",
    "import matplotlib.pyplot as plt \n",
    "import seaborn as sns\n",
    "from datetime import datetime\n",
    "sns.set_theme(style=\"darkgrid\")\n"
   ]
  },
  {
   "cell_type": "markdown",
   "id": "22abe61a",
   "metadata": {},
   "source": [
    "# Importation\n"
   ]
  },
  {
   "cell_type": "code",
   "execution_count": 2,
   "id": "78323c48",
   "metadata": {},
   "outputs": [],
   "source": [
    "dataset_list = [\n",
    "    'olist_order_reviews_dataset.csv.zip',\n",
    "    'olist_customers_dataset.csv.zip',\n",
    "    'olist_geolocation_dataset.csv.zip',\n",
    "    'olist_order_items_dataset.csv.zip',\n",
    "    'olist_order_payments_dataset.csv.zip'  ,\n",
    "    'olist_orders_dataset.csv.zip',\n",
    "    'olist_products_dataset.csv.zip',\n",
    "    'olist_sellers_dataset.csv',\n",
    "    'product_category_name_translation.csv'\n",
    "]\n",
    "\n",
    "data_name_list = [\n",
    "    'order_reviews',\n",
    "    'customers',\n",
    "    'geolocalisation',\n",
    "    'order_items',\n",
    "    'order_payments',\n",
    "    'orders',\n",
    "    'products',\n",
    "    'sellers',\n",
    "    'translation'\n",
    "]\n",
    "\n",
    "data =   {key : pd.read_csv(path) for key,path in zip(data_name_list, dataset_list)}"
   ]
  },
  {
   "cell_type": "code",
   "execution_count": 3,
   "id": "cc88f695",
   "metadata": {
    "scrolled": true
   },
   "outputs": [
    {
     "data": {
      "text/html": [
       "<div>\n",
       "<style scoped>\n",
       "    .dataframe tbody tr th:only-of-type {\n",
       "        vertical-align: middle;\n",
       "    }\n",
       "\n",
       "    .dataframe tbody tr th {\n",
       "        vertical-align: top;\n",
       "    }\n",
       "\n",
       "    .dataframe thead th {\n",
       "        text-align: right;\n",
       "    }\n",
       "</style>\n",
       "<table border=\"1\" class=\"dataframe\">\n",
       "  <thead>\n",
       "    <tr style=\"text-align: right;\">\n",
       "      <th></th>\n",
       "      <th>order_id</th>\n",
       "      <th>price</th>\n",
       "    </tr>\n",
       "  </thead>\n",
       "  <tbody>\n",
       "    <tr>\n",
       "      <th>0</th>\n",
       "      <td>00010242fe8c5a6d1ba2dd792cb16214</td>\n",
       "      <td>58.90</td>\n",
       "    </tr>\n",
       "    <tr>\n",
       "      <th>1</th>\n",
       "      <td>00018f77f2f0320c557190d7a144bdd3</td>\n",
       "      <td>239.90</td>\n",
       "    </tr>\n",
       "    <tr>\n",
       "      <th>2</th>\n",
       "      <td>000229ec398224ef6ca0657da4fc703e</td>\n",
       "      <td>199.00</td>\n",
       "    </tr>\n",
       "    <tr>\n",
       "      <th>3</th>\n",
       "      <td>00024acbcdf0a6daa1e931b038114c75</td>\n",
       "      <td>12.99</td>\n",
       "    </tr>\n",
       "    <tr>\n",
       "      <th>4</th>\n",
       "      <td>00042b26cf59d7ce69dfabb4e55b4fd9</td>\n",
       "      <td>199.90</td>\n",
       "    </tr>\n",
       "  </tbody>\n",
       "</table>\n",
       "</div>"
      ],
      "text/plain": [
       "                           order_id   price\n",
       "0  00010242fe8c5a6d1ba2dd792cb16214   58.90\n",
       "1  00018f77f2f0320c557190d7a144bdd3  239.90\n",
       "2  000229ec398224ef6ca0657da4fc703e  199.00\n",
       "3  00024acbcdf0a6daa1e931b038114c75   12.99\n",
       "4  00042b26cf59d7ce69dfabb4e55b4fd9  199.90"
      ]
     },
     "execution_count": 3,
     "metadata": {},
     "output_type": "execute_result"
    }
   ],
   "source": [
    "order = data['order_items'].groupby('order_id')['price'].sum().to_frame().reset_index()\n",
    "order.head()"
   ]
  },
  {
   "cell_type": "markdown",
   "id": "74863ad5",
   "metadata": {},
   "source": [
    "## à ajouter"
   ]
  },
  {
   "cell_type": "code",
   "execution_count": 4,
   "id": "0afa4f13",
   "metadata": {
    "scrolled": true
   },
   "outputs": [
    {
     "data": {
      "text/html": [
       "<div>\n",
       "<style scoped>\n",
       "    .dataframe tbody tr th:only-of-type {\n",
       "        vertical-align: middle;\n",
       "    }\n",
       "\n",
       "    .dataframe tbody tr th {\n",
       "        vertical-align: top;\n",
       "    }\n",
       "\n",
       "    .dataframe thead th {\n",
       "        text-align: right;\n",
       "    }\n",
       "</style>\n",
       "<table border=\"1\" class=\"dataframe\">\n",
       "  <thead>\n",
       "    <tr style=\"text-align: right;\">\n",
       "      <th></th>\n",
       "      <th>price</th>\n",
       "      <th>freight_value</th>\n",
       "    </tr>\n",
       "  </thead>\n",
       "  <tbody>\n",
       "    <tr>\n",
       "      <th>price</th>\n",
       "      <td>1.000000</td>\n",
       "      <td>0.412786</td>\n",
       "    </tr>\n",
       "    <tr>\n",
       "      <th>freight_value</th>\n",
       "      <td>0.412786</td>\n",
       "      <td>1.000000</td>\n",
       "    </tr>\n",
       "  </tbody>\n",
       "</table>\n",
       "</div>"
      ],
      "text/plain": [
       "                  price  freight_value\n",
       "price          1.000000       0.412786\n",
       "freight_value  0.412786       1.000000"
      ]
     },
     "execution_count": 4,
     "metadata": {},
     "output_type": "execute_result"
    }
   ],
   "source": [
    "tmp = data['order_items'].groupby('order_id')[['price','freight_value']].sum().reset_index()\n",
    "tmp.corr()"
   ]
  },
  {
   "cell_type": "markdown",
   "id": "1c39447b",
   "metadata": {},
   "source": [
    "## fin"
   ]
  },
  {
   "cell_type": "code",
   "execution_count": 5,
   "id": "51c3c75f",
   "metadata": {},
   "outputs": [],
   "source": [
    "order_2 = order.merge(\n",
    "    data['orders'], on ='order_id', how='left')[\n",
    "    ['order_id',\n",
    "     'price',\n",
    "     'customer_id',\n",
    "     'order_delivered_customer_date',\n",
    "       ]]"
   ]
  },
  {
   "cell_type": "markdown",
   "id": "8b1cae4c",
   "metadata": {},
   "source": [
    "# Prix = prix + fret"
   ]
  },
  {
   "cell_type": "code",
   "execution_count": 6,
   "id": "8a98e15f",
   "metadata": {},
   "outputs": [
    {
     "data": {
      "text/html": [
       "<div>\n",
       "<style scoped>\n",
       "    .dataframe tbody tr th:only-of-type {\n",
       "        vertical-align: middle;\n",
       "    }\n",
       "\n",
       "    .dataframe tbody tr th {\n",
       "        vertical-align: top;\n",
       "    }\n",
       "\n",
       "    .dataframe thead th {\n",
       "        text-align: right;\n",
       "    }\n",
       "</style>\n",
       "<table border=\"1\" class=\"dataframe\">\n",
       "  <thead>\n",
       "    <tr style=\"text-align: right;\">\n",
       "      <th></th>\n",
       "      <th>order_id</th>\n",
       "      <th>customer_id</th>\n",
       "      <th>order_status</th>\n",
       "      <th>order_purchase_timestamp</th>\n",
       "      <th>order_approved_at</th>\n",
       "      <th>order_delivered_carrier_date</th>\n",
       "      <th>order_delivered_customer_date</th>\n",
       "      <th>order_estimated_delivery_date</th>\n",
       "    </tr>\n",
       "  </thead>\n",
       "  <tbody>\n",
       "    <tr>\n",
       "      <th>0</th>\n",
       "      <td>e481f51cbdc54678b7cc49136f2d6af7</td>\n",
       "      <td>9ef432eb6251297304e76186b10a928d</td>\n",
       "      <td>delivered</td>\n",
       "      <td>2017-10-02 10:56:33</td>\n",
       "      <td>2017-10-02 11:07:15</td>\n",
       "      <td>2017-10-04 19:55:00</td>\n",
       "      <td>2017-10-10 21:25:13</td>\n",
       "      <td>2017-10-18 00:00:00</td>\n",
       "    </tr>\n",
       "    <tr>\n",
       "      <th>1</th>\n",
       "      <td>53cdb2fc8bc7dce0b6741e2150273451</td>\n",
       "      <td>b0830fb4747a6c6d20dea0b8c802d7ef</td>\n",
       "      <td>delivered</td>\n",
       "      <td>2018-07-24 20:41:37</td>\n",
       "      <td>2018-07-26 03:24:27</td>\n",
       "      <td>2018-07-26 14:31:00</td>\n",
       "      <td>2018-08-07 15:27:45</td>\n",
       "      <td>2018-08-13 00:00:00</td>\n",
       "    </tr>\n",
       "    <tr>\n",
       "      <th>2</th>\n",
       "      <td>47770eb9100c2d0c44946d9cf07ec65d</td>\n",
       "      <td>41ce2a54c0b03bf3443c3d931a367089</td>\n",
       "      <td>delivered</td>\n",
       "      <td>2018-08-08 08:38:49</td>\n",
       "      <td>2018-08-08 08:55:23</td>\n",
       "      <td>2018-08-08 13:50:00</td>\n",
       "      <td>2018-08-17 18:06:29</td>\n",
       "      <td>2018-09-04 00:00:00</td>\n",
       "    </tr>\n",
       "    <tr>\n",
       "      <th>3</th>\n",
       "      <td>949d5b44dbf5de918fe9c16f97b45f8a</td>\n",
       "      <td>f88197465ea7920adcdbec7375364d82</td>\n",
       "      <td>delivered</td>\n",
       "      <td>2017-11-18 19:28:06</td>\n",
       "      <td>2017-11-18 19:45:59</td>\n",
       "      <td>2017-11-22 13:39:59</td>\n",
       "      <td>2017-12-02 00:28:42</td>\n",
       "      <td>2017-12-15 00:00:00</td>\n",
       "    </tr>\n",
       "    <tr>\n",
       "      <th>4</th>\n",
       "      <td>ad21c59c0840e6cb83a9ceb5573f8159</td>\n",
       "      <td>8ab97904e6daea8866dbdbc4fb7aad2c</td>\n",
       "      <td>delivered</td>\n",
       "      <td>2018-02-13 21:18:39</td>\n",
       "      <td>2018-02-13 22:20:29</td>\n",
       "      <td>2018-02-14 19:46:34</td>\n",
       "      <td>2018-02-16 18:17:02</td>\n",
       "      <td>2018-02-26 00:00:00</td>\n",
       "    </tr>\n",
       "    <tr>\n",
       "      <th>...</th>\n",
       "      <td>...</td>\n",
       "      <td>...</td>\n",
       "      <td>...</td>\n",
       "      <td>...</td>\n",
       "      <td>...</td>\n",
       "      <td>...</td>\n",
       "      <td>...</td>\n",
       "      <td>...</td>\n",
       "    </tr>\n",
       "    <tr>\n",
       "      <th>99436</th>\n",
       "      <td>9c5dedf39a927c1b2549525ed64a053c</td>\n",
       "      <td>39bd1228ee8140590ac3aca26f2dfe00</td>\n",
       "      <td>delivered</td>\n",
       "      <td>2017-03-09 09:54:05</td>\n",
       "      <td>2017-03-09 09:54:05</td>\n",
       "      <td>2017-03-10 11:18:03</td>\n",
       "      <td>2017-03-17 15:08:01</td>\n",
       "      <td>2017-03-28 00:00:00</td>\n",
       "    </tr>\n",
       "    <tr>\n",
       "      <th>99437</th>\n",
       "      <td>63943bddc261676b46f01ca7ac2f7bd8</td>\n",
       "      <td>1fca14ff2861355f6e5f14306ff977a7</td>\n",
       "      <td>delivered</td>\n",
       "      <td>2018-02-06 12:58:58</td>\n",
       "      <td>2018-02-06 13:10:37</td>\n",
       "      <td>2018-02-07 23:22:42</td>\n",
       "      <td>2018-02-28 17:37:56</td>\n",
       "      <td>2018-03-02 00:00:00</td>\n",
       "    </tr>\n",
       "    <tr>\n",
       "      <th>99438</th>\n",
       "      <td>83c1379a015df1e13d02aae0204711ab</td>\n",
       "      <td>1aa71eb042121263aafbe80c1b562c9c</td>\n",
       "      <td>delivered</td>\n",
       "      <td>2017-08-27 14:46:43</td>\n",
       "      <td>2017-08-27 15:04:16</td>\n",
       "      <td>2017-08-28 20:52:26</td>\n",
       "      <td>2017-09-21 11:24:17</td>\n",
       "      <td>2017-09-27 00:00:00</td>\n",
       "    </tr>\n",
       "    <tr>\n",
       "      <th>99439</th>\n",
       "      <td>11c177c8e97725db2631073c19f07b62</td>\n",
       "      <td>b331b74b18dc79bcdf6532d51e1637c1</td>\n",
       "      <td>delivered</td>\n",
       "      <td>2018-01-08 21:28:27</td>\n",
       "      <td>2018-01-08 21:36:21</td>\n",
       "      <td>2018-01-12 15:35:03</td>\n",
       "      <td>2018-01-25 23:32:54</td>\n",
       "      <td>2018-02-15 00:00:00</td>\n",
       "    </tr>\n",
       "    <tr>\n",
       "      <th>99440</th>\n",
       "      <td>66dea50a8b16d9b4dee7af250b4be1a5</td>\n",
       "      <td>edb027a75a1449115f6b43211ae02a24</td>\n",
       "      <td>delivered</td>\n",
       "      <td>2018-03-08 20:57:30</td>\n",
       "      <td>2018-03-09 11:20:28</td>\n",
       "      <td>2018-03-09 22:11:59</td>\n",
       "      <td>2018-03-16 13:08:30</td>\n",
       "      <td>2018-04-03 00:00:00</td>\n",
       "    </tr>\n",
       "  </tbody>\n",
       "</table>\n",
       "<p>99441 rows × 8 columns</p>\n",
       "</div>"
      ],
      "text/plain": [
       "                               order_id                       customer_id  \\\n",
       "0      e481f51cbdc54678b7cc49136f2d6af7  9ef432eb6251297304e76186b10a928d   \n",
       "1      53cdb2fc8bc7dce0b6741e2150273451  b0830fb4747a6c6d20dea0b8c802d7ef   \n",
       "2      47770eb9100c2d0c44946d9cf07ec65d  41ce2a54c0b03bf3443c3d931a367089   \n",
       "3      949d5b44dbf5de918fe9c16f97b45f8a  f88197465ea7920adcdbec7375364d82   \n",
       "4      ad21c59c0840e6cb83a9ceb5573f8159  8ab97904e6daea8866dbdbc4fb7aad2c   \n",
       "...                                 ...                               ...   \n",
       "99436  9c5dedf39a927c1b2549525ed64a053c  39bd1228ee8140590ac3aca26f2dfe00   \n",
       "99437  63943bddc261676b46f01ca7ac2f7bd8  1fca14ff2861355f6e5f14306ff977a7   \n",
       "99438  83c1379a015df1e13d02aae0204711ab  1aa71eb042121263aafbe80c1b562c9c   \n",
       "99439  11c177c8e97725db2631073c19f07b62  b331b74b18dc79bcdf6532d51e1637c1   \n",
       "99440  66dea50a8b16d9b4dee7af250b4be1a5  edb027a75a1449115f6b43211ae02a24   \n",
       "\n",
       "      order_status order_purchase_timestamp    order_approved_at  \\\n",
       "0        delivered      2017-10-02 10:56:33  2017-10-02 11:07:15   \n",
       "1        delivered      2018-07-24 20:41:37  2018-07-26 03:24:27   \n",
       "2        delivered      2018-08-08 08:38:49  2018-08-08 08:55:23   \n",
       "3        delivered      2017-11-18 19:28:06  2017-11-18 19:45:59   \n",
       "4        delivered      2018-02-13 21:18:39  2018-02-13 22:20:29   \n",
       "...            ...                      ...                  ...   \n",
       "99436    delivered      2017-03-09 09:54:05  2017-03-09 09:54:05   \n",
       "99437    delivered      2018-02-06 12:58:58  2018-02-06 13:10:37   \n",
       "99438    delivered      2017-08-27 14:46:43  2017-08-27 15:04:16   \n",
       "99439    delivered      2018-01-08 21:28:27  2018-01-08 21:36:21   \n",
       "99440    delivered      2018-03-08 20:57:30  2018-03-09 11:20:28   \n",
       "\n",
       "      order_delivered_carrier_date order_delivered_customer_date  \\\n",
       "0              2017-10-04 19:55:00           2017-10-10 21:25:13   \n",
       "1              2018-07-26 14:31:00           2018-08-07 15:27:45   \n",
       "2              2018-08-08 13:50:00           2018-08-17 18:06:29   \n",
       "3              2017-11-22 13:39:59           2017-12-02 00:28:42   \n",
       "4              2018-02-14 19:46:34           2018-02-16 18:17:02   \n",
       "...                            ...                           ...   \n",
       "99436          2017-03-10 11:18:03           2017-03-17 15:08:01   \n",
       "99437          2018-02-07 23:22:42           2018-02-28 17:37:56   \n",
       "99438          2017-08-28 20:52:26           2017-09-21 11:24:17   \n",
       "99439          2018-01-12 15:35:03           2018-01-25 23:32:54   \n",
       "99440          2018-03-09 22:11:59           2018-03-16 13:08:30   \n",
       "\n",
       "      order_estimated_delivery_date  \n",
       "0               2017-10-18 00:00:00  \n",
       "1               2018-08-13 00:00:00  \n",
       "2               2018-09-04 00:00:00  \n",
       "3               2017-12-15 00:00:00  \n",
       "4               2018-02-26 00:00:00  \n",
       "...                             ...  \n",
       "99436           2017-03-28 00:00:00  \n",
       "99437           2018-03-02 00:00:00  \n",
       "99438           2017-09-27 00:00:00  \n",
       "99439           2018-02-15 00:00:00  \n",
       "99440           2018-04-03 00:00:00  \n",
       "\n",
       "[99441 rows x 8 columns]"
      ]
     },
     "execution_count": 6,
     "metadata": {},
     "output_type": "execute_result"
    }
   ],
   "source": [
    "data['orders']"
   ]
  },
  {
   "cell_type": "code",
   "execution_count": 7,
   "id": "c27bfee1",
   "metadata": {
    "scrolled": true
   },
   "outputs": [
    {
     "data": {
      "text/html": [
       "<div>\n",
       "<style scoped>\n",
       "    .dataframe tbody tr th:only-of-type {\n",
       "        vertical-align: middle;\n",
       "    }\n",
       "\n",
       "    .dataframe tbody tr th {\n",
       "        vertical-align: top;\n",
       "    }\n",
       "\n",
       "    .dataframe thead th {\n",
       "        text-align: right;\n",
       "    }\n",
       "</style>\n",
       "<table border=\"1\" class=\"dataframe\">\n",
       "  <thead>\n",
       "    <tr style=\"text-align: right;\">\n",
       "      <th></th>\n",
       "      <th>order_id</th>\n",
       "      <th>order_item_id</th>\n",
       "      <th>product_id</th>\n",
       "      <th>seller_id</th>\n",
       "      <th>shipping_limit_date</th>\n",
       "      <th>price</th>\n",
       "      <th>freight_value</th>\n",
       "    </tr>\n",
       "  </thead>\n",
       "  <tbody>\n",
       "    <tr>\n",
       "      <th>0</th>\n",
       "      <td>00010242fe8c5a6d1ba2dd792cb16214</td>\n",
       "      <td>1</td>\n",
       "      <td>4244733e06e7ecb4970a6e2683c13e61</td>\n",
       "      <td>48436dade18ac8b2bce089ec2a041202</td>\n",
       "      <td>2017-09-19 09:45:35</td>\n",
       "      <td>58.90</td>\n",
       "      <td>13.29</td>\n",
       "    </tr>\n",
       "    <tr>\n",
       "      <th>1</th>\n",
       "      <td>00018f77f2f0320c557190d7a144bdd3</td>\n",
       "      <td>1</td>\n",
       "      <td>e5f2d52b802189ee658865ca93d83a8f</td>\n",
       "      <td>dd7ddc04e1b6c2c614352b383efe2d36</td>\n",
       "      <td>2017-05-03 11:05:13</td>\n",
       "      <td>239.90</td>\n",
       "      <td>19.93</td>\n",
       "    </tr>\n",
       "    <tr>\n",
       "      <th>2</th>\n",
       "      <td>000229ec398224ef6ca0657da4fc703e</td>\n",
       "      <td>1</td>\n",
       "      <td>c777355d18b72b67abbeef9df44fd0fd</td>\n",
       "      <td>5b51032eddd242adc84c38acab88f23d</td>\n",
       "      <td>2018-01-18 14:48:30</td>\n",
       "      <td>199.00</td>\n",
       "      <td>17.87</td>\n",
       "    </tr>\n",
       "    <tr>\n",
       "      <th>3</th>\n",
       "      <td>00024acbcdf0a6daa1e931b038114c75</td>\n",
       "      <td>1</td>\n",
       "      <td>7634da152a4610f1595efa32f14722fc</td>\n",
       "      <td>9d7a1d34a5052409006425275ba1c2b4</td>\n",
       "      <td>2018-08-15 10:10:18</td>\n",
       "      <td>12.99</td>\n",
       "      <td>12.79</td>\n",
       "    </tr>\n",
       "    <tr>\n",
       "      <th>4</th>\n",
       "      <td>00042b26cf59d7ce69dfabb4e55b4fd9</td>\n",
       "      <td>1</td>\n",
       "      <td>ac6c3623068f30de03045865e4e10089</td>\n",
       "      <td>df560393f3a51e74553ab94004ba5c87</td>\n",
       "      <td>2017-02-13 13:57:51</td>\n",
       "      <td>199.90</td>\n",
       "      <td>18.14</td>\n",
       "    </tr>\n",
       "    <tr>\n",
       "      <th>...</th>\n",
       "      <td>...</td>\n",
       "      <td>...</td>\n",
       "      <td>...</td>\n",
       "      <td>...</td>\n",
       "      <td>...</td>\n",
       "      <td>...</td>\n",
       "      <td>...</td>\n",
       "    </tr>\n",
       "    <tr>\n",
       "      <th>112645</th>\n",
       "      <td>fffc94f6ce00a00581880bf54a75a037</td>\n",
       "      <td>1</td>\n",
       "      <td>4aa6014eceb682077f9dc4bffebc05b0</td>\n",
       "      <td>b8bc237ba3788b23da09c0f1f3a3288c</td>\n",
       "      <td>2018-05-02 04:11:01</td>\n",
       "      <td>299.99</td>\n",
       "      <td>43.41</td>\n",
       "    </tr>\n",
       "    <tr>\n",
       "      <th>112646</th>\n",
       "      <td>fffcd46ef2263f404302a634eb57f7eb</td>\n",
       "      <td>1</td>\n",
       "      <td>32e07fd915822b0765e448c4dd74c828</td>\n",
       "      <td>f3c38ab652836d21de61fb8314b69182</td>\n",
       "      <td>2018-07-20 04:31:48</td>\n",
       "      <td>350.00</td>\n",
       "      <td>36.53</td>\n",
       "    </tr>\n",
       "    <tr>\n",
       "      <th>112647</th>\n",
       "      <td>fffce4705a9662cd70adb13d4a31832d</td>\n",
       "      <td>1</td>\n",
       "      <td>72a30483855e2eafc67aee5dc2560482</td>\n",
       "      <td>c3cfdc648177fdbbbb35635a37472c53</td>\n",
       "      <td>2017-10-30 17:14:25</td>\n",
       "      <td>99.90</td>\n",
       "      <td>16.95</td>\n",
       "    </tr>\n",
       "    <tr>\n",
       "      <th>112648</th>\n",
       "      <td>fffe18544ffabc95dfada21779c9644f</td>\n",
       "      <td>1</td>\n",
       "      <td>9c422a519119dcad7575db5af1ba540e</td>\n",
       "      <td>2b3e4a2a3ea8e01938cabda2a3e5cc79</td>\n",
       "      <td>2017-08-21 00:04:32</td>\n",
       "      <td>55.99</td>\n",
       "      <td>8.72</td>\n",
       "    </tr>\n",
       "    <tr>\n",
       "      <th>112649</th>\n",
       "      <td>fffe41c64501cc87c801fd61db3f6244</td>\n",
       "      <td>1</td>\n",
       "      <td>350688d9dc1e75ff97be326363655e01</td>\n",
       "      <td>f7ccf836d21b2fb1de37564105216cc1</td>\n",
       "      <td>2018-06-12 17:10:13</td>\n",
       "      <td>43.00</td>\n",
       "      <td>12.79</td>\n",
       "    </tr>\n",
       "  </tbody>\n",
       "</table>\n",
       "<p>112650 rows × 7 columns</p>\n",
       "</div>"
      ],
      "text/plain": [
       "                                order_id  order_item_id  \\\n",
       "0       00010242fe8c5a6d1ba2dd792cb16214              1   \n",
       "1       00018f77f2f0320c557190d7a144bdd3              1   \n",
       "2       000229ec398224ef6ca0657da4fc703e              1   \n",
       "3       00024acbcdf0a6daa1e931b038114c75              1   \n",
       "4       00042b26cf59d7ce69dfabb4e55b4fd9              1   \n",
       "...                                  ...            ...   \n",
       "112645  fffc94f6ce00a00581880bf54a75a037              1   \n",
       "112646  fffcd46ef2263f404302a634eb57f7eb              1   \n",
       "112647  fffce4705a9662cd70adb13d4a31832d              1   \n",
       "112648  fffe18544ffabc95dfada21779c9644f              1   \n",
       "112649  fffe41c64501cc87c801fd61db3f6244              1   \n",
       "\n",
       "                              product_id                         seller_id  \\\n",
       "0       4244733e06e7ecb4970a6e2683c13e61  48436dade18ac8b2bce089ec2a041202   \n",
       "1       e5f2d52b802189ee658865ca93d83a8f  dd7ddc04e1b6c2c614352b383efe2d36   \n",
       "2       c777355d18b72b67abbeef9df44fd0fd  5b51032eddd242adc84c38acab88f23d   \n",
       "3       7634da152a4610f1595efa32f14722fc  9d7a1d34a5052409006425275ba1c2b4   \n",
       "4       ac6c3623068f30de03045865e4e10089  df560393f3a51e74553ab94004ba5c87   \n",
       "...                                  ...                               ...   \n",
       "112645  4aa6014eceb682077f9dc4bffebc05b0  b8bc237ba3788b23da09c0f1f3a3288c   \n",
       "112646  32e07fd915822b0765e448c4dd74c828  f3c38ab652836d21de61fb8314b69182   \n",
       "112647  72a30483855e2eafc67aee5dc2560482  c3cfdc648177fdbbbb35635a37472c53   \n",
       "112648  9c422a519119dcad7575db5af1ba540e  2b3e4a2a3ea8e01938cabda2a3e5cc79   \n",
       "112649  350688d9dc1e75ff97be326363655e01  f7ccf836d21b2fb1de37564105216cc1   \n",
       "\n",
       "        shipping_limit_date   price  freight_value  \n",
       "0       2017-09-19 09:45:35   58.90          13.29  \n",
       "1       2017-05-03 11:05:13  239.90          19.93  \n",
       "2       2018-01-18 14:48:30  199.00          17.87  \n",
       "3       2018-08-15 10:10:18   12.99          12.79  \n",
       "4       2017-02-13 13:57:51  199.90          18.14  \n",
       "...                     ...     ...            ...  \n",
       "112645  2018-05-02 04:11:01  299.99          43.41  \n",
       "112646  2018-07-20 04:31:48  350.00          36.53  \n",
       "112647  2017-10-30 17:14:25   99.90          16.95  \n",
       "112648  2017-08-21 00:04:32   55.99           8.72  \n",
       "112649  2018-06-12 17:10:13   43.00          12.79  \n",
       "\n",
       "[112650 rows x 7 columns]"
      ]
     },
     "execution_count": 7,
     "metadata": {},
     "output_type": "execute_result"
    }
   ],
   "source": [
    "data['order_items']"
   ]
  },
  {
   "cell_type": "code",
   "execution_count": 8,
   "id": "41c5f37e",
   "metadata": {},
   "outputs": [
    {
     "data": {
      "text/html": [
       "<div>\n",
       "<style scoped>\n",
       "    .dataframe tbody tr th:only-of-type {\n",
       "        vertical-align: middle;\n",
       "    }\n",
       "\n",
       "    .dataframe tbody tr th {\n",
       "        vertical-align: top;\n",
       "    }\n",
       "\n",
       "    .dataframe thead th {\n",
       "        text-align: right;\n",
       "    }\n",
       "</style>\n",
       "<table border=\"1\" class=\"dataframe\">\n",
       "  <thead>\n",
       "    <tr style=\"text-align: right;\">\n",
       "      <th></th>\n",
       "      <th>order_id</th>\n",
       "      <th>price</th>\n",
       "      <th>customer_id</th>\n",
       "      <th>order_delivered_customer_date</th>\n",
       "      <th>customer_unique_id</th>\n",
       "    </tr>\n",
       "  </thead>\n",
       "  <tbody>\n",
       "    <tr>\n",
       "      <th>0</th>\n",
       "      <td>00010242fe8c5a6d1ba2dd792cb16214</td>\n",
       "      <td>58.90</td>\n",
       "      <td>3ce436f183e68e07877b285a838db11a</td>\n",
       "      <td>2017-09-20 23:43:48</td>\n",
       "      <td>871766c5855e863f6eccc05f988b23cb</td>\n",
       "    </tr>\n",
       "    <tr>\n",
       "      <th>1</th>\n",
       "      <td>00018f77f2f0320c557190d7a144bdd3</td>\n",
       "      <td>239.90</td>\n",
       "      <td>f6dd3ec061db4e3987629fe6b26e5cce</td>\n",
       "      <td>2017-05-12 16:04:24</td>\n",
       "      <td>eb28e67c4c0b83846050ddfb8a35d051</td>\n",
       "    </tr>\n",
       "    <tr>\n",
       "      <th>2</th>\n",
       "      <td>000229ec398224ef6ca0657da4fc703e</td>\n",
       "      <td>199.00</td>\n",
       "      <td>6489ae5e4333f3693df5ad4372dab6d3</td>\n",
       "      <td>2018-01-22 13:19:16</td>\n",
       "      <td>3818d81c6709e39d06b2738a8d3a2474</td>\n",
       "    </tr>\n",
       "    <tr>\n",
       "      <th>3</th>\n",
       "      <td>00024acbcdf0a6daa1e931b038114c75</td>\n",
       "      <td>12.99</td>\n",
       "      <td>d4eb9395c8c0431ee92fce09860c5a06</td>\n",
       "      <td>2018-08-14 13:32:39</td>\n",
       "      <td>af861d436cfc08b2c2ddefd0ba074622</td>\n",
       "    </tr>\n",
       "    <tr>\n",
       "      <th>4</th>\n",
       "      <td>00042b26cf59d7ce69dfabb4e55b4fd9</td>\n",
       "      <td>199.90</td>\n",
       "      <td>58dbd0b2d70206bf40e62cd34e84d795</td>\n",
       "      <td>2017-03-01 16:42:31</td>\n",
       "      <td>64b576fb70d441e8f1b2d7d446e483c5</td>\n",
       "    </tr>\n",
       "  </tbody>\n",
       "</table>\n",
       "</div>"
      ],
      "text/plain": [
       "                           order_id   price                       customer_id  \\\n",
       "0  00010242fe8c5a6d1ba2dd792cb16214   58.90  3ce436f183e68e07877b285a838db11a   \n",
       "1  00018f77f2f0320c557190d7a144bdd3  239.90  f6dd3ec061db4e3987629fe6b26e5cce   \n",
       "2  000229ec398224ef6ca0657da4fc703e  199.00  6489ae5e4333f3693df5ad4372dab6d3   \n",
       "3  00024acbcdf0a6daa1e931b038114c75   12.99  d4eb9395c8c0431ee92fce09860c5a06   \n",
       "4  00042b26cf59d7ce69dfabb4e55b4fd9  199.90  58dbd0b2d70206bf40e62cd34e84d795   \n",
       "\n",
       "  order_delivered_customer_date                customer_unique_id  \n",
       "0           2017-09-20 23:43:48  871766c5855e863f6eccc05f988b23cb  \n",
       "1           2017-05-12 16:04:24  eb28e67c4c0b83846050ddfb8a35d051  \n",
       "2           2018-01-22 13:19:16  3818d81c6709e39d06b2738a8d3a2474  \n",
       "3           2018-08-14 13:32:39  af861d436cfc08b2c2ddefd0ba074622  \n",
       "4           2017-03-01 16:42:31  64b576fb70d441e8f1b2d7d446e483c5  "
      ]
     },
     "execution_count": 8,
     "metadata": {},
     "output_type": "execute_result"
    }
   ],
   "source": [
    "order_3 = order_2.merge(data['customers'][['customer_id','customer_unique_id']],on='customer_id',how='left')\n",
    "order_3.head()"
   ]
  },
  {
   "cell_type": "code",
   "execution_count": 9,
   "id": "c30145db",
   "metadata": {},
   "outputs": [
    {
     "data": {
      "text/html": [
       "<div>\n",
       "<style scoped>\n",
       "    .dataframe tbody tr th:only-of-type {\n",
       "        vertical-align: middle;\n",
       "    }\n",
       "\n",
       "    .dataframe tbody tr th {\n",
       "        vertical-align: top;\n",
       "    }\n",
       "\n",
       "    .dataframe thead th {\n",
       "        text-align: right;\n",
       "    }\n",
       "</style>\n",
       "<table border=\"1\" class=\"dataframe\">\n",
       "  <thead>\n",
       "    <tr style=\"text-align: right;\">\n",
       "      <th></th>\n",
       "      <th>order_id</th>\n",
       "      <th>review_score</th>\n",
       "    </tr>\n",
       "  </thead>\n",
       "  <tbody>\n",
       "    <tr>\n",
       "      <th>0</th>\n",
       "      <td>00010242fe8c5a6d1ba2dd792cb16214</td>\n",
       "      <td>5.0</td>\n",
       "    </tr>\n",
       "    <tr>\n",
       "      <th>1</th>\n",
       "      <td>00018f77f2f0320c557190d7a144bdd3</td>\n",
       "      <td>4.0</td>\n",
       "    </tr>\n",
       "    <tr>\n",
       "      <th>2</th>\n",
       "      <td>000229ec398224ef6ca0657da4fc703e</td>\n",
       "      <td>5.0</td>\n",
       "    </tr>\n",
       "    <tr>\n",
       "      <th>3</th>\n",
       "      <td>00024acbcdf0a6daa1e931b038114c75</td>\n",
       "      <td>4.0</td>\n",
       "    </tr>\n",
       "    <tr>\n",
       "      <th>4</th>\n",
       "      <td>00042b26cf59d7ce69dfabb4e55b4fd9</td>\n",
       "      <td>5.0</td>\n",
       "    </tr>\n",
       "  </tbody>\n",
       "</table>\n",
       "</div>"
      ],
      "text/plain": [
       "                           order_id  review_score\n",
       "0  00010242fe8c5a6d1ba2dd792cb16214           5.0\n",
       "1  00018f77f2f0320c557190d7a144bdd3           4.0\n",
       "2  000229ec398224ef6ca0657da4fc703e           5.0\n",
       "3  00024acbcdf0a6daa1e931b038114c75           4.0\n",
       "4  00042b26cf59d7ce69dfabb4e55b4fd9           5.0"
      ]
     },
     "execution_count": 9,
     "metadata": {},
     "output_type": "execute_result"
    }
   ],
   "source": [
    "review_2 =  data['order_reviews'].groupby('order_id')['review_score'].mean().to_frame().reset_index()\n",
    "review_2.head()"
   ]
  },
  {
   "cell_type": "code",
   "execution_count": 10,
   "id": "04c44acb",
   "metadata": {},
   "outputs": [
    {
     "data": {
      "text/html": [
       "<div>\n",
       "<style scoped>\n",
       "    .dataframe tbody tr th:only-of-type {\n",
       "        vertical-align: middle;\n",
       "    }\n",
       "\n",
       "    .dataframe tbody tr th {\n",
       "        vertical-align: top;\n",
       "    }\n",
       "\n",
       "    .dataframe thead th {\n",
       "        text-align: right;\n",
       "    }\n",
       "</style>\n",
       "<table border=\"1\" class=\"dataframe\">\n",
       "  <thead>\n",
       "    <tr style=\"text-align: right;\">\n",
       "      <th></th>\n",
       "      <th>order_id</th>\n",
       "      <th>price</th>\n",
       "      <th>customer_id</th>\n",
       "      <th>order_delivered_customer_date</th>\n",
       "      <th>customer_unique_id</th>\n",
       "      <th>review_score</th>\n",
       "    </tr>\n",
       "  </thead>\n",
       "  <tbody>\n",
       "    <tr>\n",
       "      <th>0</th>\n",
       "      <td>00010242fe8c5a6d1ba2dd792cb16214</td>\n",
       "      <td>58.90</td>\n",
       "      <td>3ce436f183e68e07877b285a838db11a</td>\n",
       "      <td>2017-09-20 23:43:48</td>\n",
       "      <td>871766c5855e863f6eccc05f988b23cb</td>\n",
       "      <td>5.0</td>\n",
       "    </tr>\n",
       "    <tr>\n",
       "      <th>1</th>\n",
       "      <td>00018f77f2f0320c557190d7a144bdd3</td>\n",
       "      <td>239.90</td>\n",
       "      <td>f6dd3ec061db4e3987629fe6b26e5cce</td>\n",
       "      <td>2017-05-12 16:04:24</td>\n",
       "      <td>eb28e67c4c0b83846050ddfb8a35d051</td>\n",
       "      <td>4.0</td>\n",
       "    </tr>\n",
       "    <tr>\n",
       "      <th>2</th>\n",
       "      <td>000229ec398224ef6ca0657da4fc703e</td>\n",
       "      <td>199.00</td>\n",
       "      <td>6489ae5e4333f3693df5ad4372dab6d3</td>\n",
       "      <td>2018-01-22 13:19:16</td>\n",
       "      <td>3818d81c6709e39d06b2738a8d3a2474</td>\n",
       "      <td>5.0</td>\n",
       "    </tr>\n",
       "    <tr>\n",
       "      <th>3</th>\n",
       "      <td>00024acbcdf0a6daa1e931b038114c75</td>\n",
       "      <td>12.99</td>\n",
       "      <td>d4eb9395c8c0431ee92fce09860c5a06</td>\n",
       "      <td>2018-08-14 13:32:39</td>\n",
       "      <td>af861d436cfc08b2c2ddefd0ba074622</td>\n",
       "      <td>4.0</td>\n",
       "    </tr>\n",
       "    <tr>\n",
       "      <th>4</th>\n",
       "      <td>00042b26cf59d7ce69dfabb4e55b4fd9</td>\n",
       "      <td>199.90</td>\n",
       "      <td>58dbd0b2d70206bf40e62cd34e84d795</td>\n",
       "      <td>2017-03-01 16:42:31</td>\n",
       "      <td>64b576fb70d441e8f1b2d7d446e483c5</td>\n",
       "      <td>5.0</td>\n",
       "    </tr>\n",
       "  </tbody>\n",
       "</table>\n",
       "</div>"
      ],
      "text/plain": [
       "                           order_id   price                       customer_id  \\\n",
       "0  00010242fe8c5a6d1ba2dd792cb16214   58.90  3ce436f183e68e07877b285a838db11a   \n",
       "1  00018f77f2f0320c557190d7a144bdd3  239.90  f6dd3ec061db4e3987629fe6b26e5cce   \n",
       "2  000229ec398224ef6ca0657da4fc703e  199.00  6489ae5e4333f3693df5ad4372dab6d3   \n",
       "3  00024acbcdf0a6daa1e931b038114c75   12.99  d4eb9395c8c0431ee92fce09860c5a06   \n",
       "4  00042b26cf59d7ce69dfabb4e55b4fd9  199.90  58dbd0b2d70206bf40e62cd34e84d795   \n",
       "\n",
       "  order_delivered_customer_date                customer_unique_id  \\\n",
       "0           2017-09-20 23:43:48  871766c5855e863f6eccc05f988b23cb   \n",
       "1           2017-05-12 16:04:24  eb28e67c4c0b83846050ddfb8a35d051   \n",
       "2           2018-01-22 13:19:16  3818d81c6709e39d06b2738a8d3a2474   \n",
       "3           2018-08-14 13:32:39  af861d436cfc08b2c2ddefd0ba074622   \n",
       "4           2017-03-01 16:42:31  64b576fb70d441e8f1b2d7d446e483c5   \n",
       "\n",
       "   review_score  \n",
       "0           5.0  \n",
       "1           4.0  \n",
       "2           5.0  \n",
       "3           4.0  \n",
       "4           5.0  "
      ]
     },
     "execution_count": 10,
     "metadata": {},
     "output_type": "execute_result"
    }
   ],
   "source": [
    "order_4 = order_3.merge(review_2,on='order_id', how='left')\n",
    "order_4.head()"
   ]
  },
  {
   "cell_type": "markdown",
   "id": "d81fc586",
   "metadata": {},
   "source": [
    "# RFM"
   ]
  },
  {
   "cell_type": "code",
   "execution_count": 11,
   "id": "afa6cd8a",
   "metadata": {},
   "outputs": [],
   "source": [
    "order_4['order_delivered_customer_date'] = pd.to_datetime(order_4['order_delivered_customer_date']).astype('datetime64[D]')\n",
    "\n",
    "order_4['nb_days'] = (datetime.now() - order_4['order_delivered_customer_date']).astype('timedelta64[D]')\n",
    "\n",
    "order_4 = order_4.dropna()"
   ]
  },
  {
   "cell_type": "code",
   "execution_count": 12,
   "id": "8561b8c0",
   "metadata": {},
   "outputs": [
    {
     "data": {
      "text/html": [
       "<div>\n",
       "<style scoped>\n",
       "    .dataframe tbody tr th:only-of-type {\n",
       "        vertical-align: middle;\n",
       "    }\n",
       "\n",
       "    .dataframe tbody tr th {\n",
       "        vertical-align: top;\n",
       "    }\n",
       "\n",
       "    .dataframe thead th {\n",
       "        text-align: right;\n",
       "    }\n",
       "</style>\n",
       "<table border=\"1\" class=\"dataframe\">\n",
       "  <thead>\n",
       "    <tr style=\"text-align: right;\">\n",
       "      <th></th>\n",
       "      <th>order_id</th>\n",
       "      <th>price</th>\n",
       "      <th>customer_id</th>\n",
       "      <th>order_delivered_customer_date</th>\n",
       "      <th>customer_unique_id</th>\n",
       "      <th>review_score</th>\n",
       "      <th>nb_days</th>\n",
       "    </tr>\n",
       "  </thead>\n",
       "  <tbody>\n",
       "    <tr>\n",
       "      <th>0</th>\n",
       "      <td>00010242fe8c5a6d1ba2dd792cb16214</td>\n",
       "      <td>58.90</td>\n",
       "      <td>3ce436f183e68e07877b285a838db11a</td>\n",
       "      <td>2017-09-20</td>\n",
       "      <td>871766c5855e863f6eccc05f988b23cb</td>\n",
       "      <td>5.0</td>\n",
       "      <td>2058.0</td>\n",
       "    </tr>\n",
       "    <tr>\n",
       "      <th>1</th>\n",
       "      <td>00018f77f2f0320c557190d7a144bdd3</td>\n",
       "      <td>239.90</td>\n",
       "      <td>f6dd3ec061db4e3987629fe6b26e5cce</td>\n",
       "      <td>2017-05-12</td>\n",
       "      <td>eb28e67c4c0b83846050ddfb8a35d051</td>\n",
       "      <td>4.0</td>\n",
       "      <td>2189.0</td>\n",
       "    </tr>\n",
       "    <tr>\n",
       "      <th>2</th>\n",
       "      <td>000229ec398224ef6ca0657da4fc703e</td>\n",
       "      <td>199.00</td>\n",
       "      <td>6489ae5e4333f3693df5ad4372dab6d3</td>\n",
       "      <td>2018-01-22</td>\n",
       "      <td>3818d81c6709e39d06b2738a8d3a2474</td>\n",
       "      <td>5.0</td>\n",
       "      <td>1934.0</td>\n",
       "    </tr>\n",
       "    <tr>\n",
       "      <th>3</th>\n",
       "      <td>00024acbcdf0a6daa1e931b038114c75</td>\n",
       "      <td>12.99</td>\n",
       "      <td>d4eb9395c8c0431ee92fce09860c5a06</td>\n",
       "      <td>2018-08-14</td>\n",
       "      <td>af861d436cfc08b2c2ddefd0ba074622</td>\n",
       "      <td>4.0</td>\n",
       "      <td>1730.0</td>\n",
       "    </tr>\n",
       "    <tr>\n",
       "      <th>4</th>\n",
       "      <td>00042b26cf59d7ce69dfabb4e55b4fd9</td>\n",
       "      <td>199.90</td>\n",
       "      <td>58dbd0b2d70206bf40e62cd34e84d795</td>\n",
       "      <td>2017-03-01</td>\n",
       "      <td>64b576fb70d441e8f1b2d7d446e483c5</td>\n",
       "      <td>5.0</td>\n",
       "      <td>2261.0</td>\n",
       "    </tr>\n",
       "    <tr>\n",
       "      <th>...</th>\n",
       "      <td>...</td>\n",
       "      <td>...</td>\n",
       "      <td>...</td>\n",
       "      <td>...</td>\n",
       "      <td>...</td>\n",
       "      <td>...</td>\n",
       "      <td>...</td>\n",
       "    </tr>\n",
       "    <tr>\n",
       "      <th>98661</th>\n",
       "      <td>fffc94f6ce00a00581880bf54a75a037</td>\n",
       "      <td>299.99</td>\n",
       "      <td>b51593916b4b8e0d6f66f2ae24f2673d</td>\n",
       "      <td>2018-05-10</td>\n",
       "      <td>0c9aeda10a71f369396d0c04dce13a64</td>\n",
       "      <td>5.0</td>\n",
       "      <td>1826.0</td>\n",
       "    </tr>\n",
       "    <tr>\n",
       "      <th>98662</th>\n",
       "      <td>fffcd46ef2263f404302a634eb57f7eb</td>\n",
       "      <td>350.00</td>\n",
       "      <td>84c5d4fbaf120aae381fad077416eaa0</td>\n",
       "      <td>2018-07-23</td>\n",
       "      <td>0da9fe112eae0c74d3ba1fe16de0988b</td>\n",
       "      <td>5.0</td>\n",
       "      <td>1752.0</td>\n",
       "    </tr>\n",
       "    <tr>\n",
       "      <th>98663</th>\n",
       "      <td>fffce4705a9662cd70adb13d4a31832d</td>\n",
       "      <td>99.90</td>\n",
       "      <td>29309aa813182aaddc9b259e31b870e6</td>\n",
       "      <td>2017-10-28</td>\n",
       "      <td>cd79b407828f02fdbba457111c38e4c4</td>\n",
       "      <td>5.0</td>\n",
       "      <td>2020.0</td>\n",
       "    </tr>\n",
       "    <tr>\n",
       "      <th>98664</th>\n",
       "      <td>fffe18544ffabc95dfada21779c9644f</td>\n",
       "      <td>55.99</td>\n",
       "      <td>b5e6afd5a41800fdf401e0272ca74655</td>\n",
       "      <td>2017-08-16</td>\n",
       "      <td>eb803377c9315b564bdedad672039306</td>\n",
       "      <td>5.0</td>\n",
       "      <td>2093.0</td>\n",
       "    </tr>\n",
       "    <tr>\n",
       "      <th>98665</th>\n",
       "      <td>fffe41c64501cc87c801fd61db3f6244</td>\n",
       "      <td>43.00</td>\n",
       "      <td>96d649da0cc4ff33bb408b199d4c7dcf</td>\n",
       "      <td>2018-06-14</td>\n",
       "      <td>cd76a00d8e3ca5e6ab9ed9ecb6667ac4</td>\n",
       "      <td>5.0</td>\n",
       "      <td>1791.0</td>\n",
       "    </tr>\n",
       "  </tbody>\n",
       "</table>\n",
       "<p>95830 rows × 7 columns</p>\n",
       "</div>"
      ],
      "text/plain": [
       "                               order_id   price  \\\n",
       "0      00010242fe8c5a6d1ba2dd792cb16214   58.90   \n",
       "1      00018f77f2f0320c557190d7a144bdd3  239.90   \n",
       "2      000229ec398224ef6ca0657da4fc703e  199.00   \n",
       "3      00024acbcdf0a6daa1e931b038114c75   12.99   \n",
       "4      00042b26cf59d7ce69dfabb4e55b4fd9  199.90   \n",
       "...                                 ...     ...   \n",
       "98661  fffc94f6ce00a00581880bf54a75a037  299.99   \n",
       "98662  fffcd46ef2263f404302a634eb57f7eb  350.00   \n",
       "98663  fffce4705a9662cd70adb13d4a31832d   99.90   \n",
       "98664  fffe18544ffabc95dfada21779c9644f   55.99   \n",
       "98665  fffe41c64501cc87c801fd61db3f6244   43.00   \n",
       "\n",
       "                            customer_id order_delivered_customer_date  \\\n",
       "0      3ce436f183e68e07877b285a838db11a                    2017-09-20   \n",
       "1      f6dd3ec061db4e3987629fe6b26e5cce                    2017-05-12   \n",
       "2      6489ae5e4333f3693df5ad4372dab6d3                    2018-01-22   \n",
       "3      d4eb9395c8c0431ee92fce09860c5a06                    2018-08-14   \n",
       "4      58dbd0b2d70206bf40e62cd34e84d795                    2017-03-01   \n",
       "...                                 ...                           ...   \n",
       "98661  b51593916b4b8e0d6f66f2ae24f2673d                    2018-05-10   \n",
       "98662  84c5d4fbaf120aae381fad077416eaa0                    2018-07-23   \n",
       "98663  29309aa813182aaddc9b259e31b870e6                    2017-10-28   \n",
       "98664  b5e6afd5a41800fdf401e0272ca74655                    2017-08-16   \n",
       "98665  96d649da0cc4ff33bb408b199d4c7dcf                    2018-06-14   \n",
       "\n",
       "                     customer_unique_id  review_score  nb_days  \n",
       "0      871766c5855e863f6eccc05f988b23cb           5.0   2058.0  \n",
       "1      eb28e67c4c0b83846050ddfb8a35d051           4.0   2189.0  \n",
       "2      3818d81c6709e39d06b2738a8d3a2474           5.0   1934.0  \n",
       "3      af861d436cfc08b2c2ddefd0ba074622           4.0   1730.0  \n",
       "4      64b576fb70d441e8f1b2d7d446e483c5           5.0   2261.0  \n",
       "...                                 ...           ...      ...  \n",
       "98661  0c9aeda10a71f369396d0c04dce13a64           5.0   1826.0  \n",
       "98662  0da9fe112eae0c74d3ba1fe16de0988b           5.0   1752.0  \n",
       "98663  cd79b407828f02fdbba457111c38e4c4           5.0   2020.0  \n",
       "98664  eb803377c9315b564bdedad672039306           5.0   2093.0  \n",
       "98665  cd76a00d8e3ca5e6ab9ed9ecb6667ac4           5.0   1791.0  \n",
       "\n",
       "[95830 rows x 7 columns]"
      ]
     },
     "execution_count": 12,
     "metadata": {},
     "output_type": "execute_result"
    }
   ],
   "source": [
    "order_4"
   ]
  },
  {
   "cell_type": "code",
   "execution_count": 13,
   "id": "fad599a4",
   "metadata": {},
   "outputs": [
    {
     "data": {
      "text/plain": [
       "order_id                         0.0\n",
       "price                            0.0\n",
       "customer_id                      0.0\n",
       "order_delivered_customer_date    0.0\n",
       "customer_unique_id               0.0\n",
       "review_score                     0.0\n",
       "nb_days                          0.0\n",
       "dtype: float64"
      ]
     },
     "execution_count": 13,
     "metadata": {},
     "output_type": "execute_result"
    }
   ],
   "source": [
    "order_4.isna().mean()"
   ]
  },
  {
   "cell_type": "code",
   "execution_count": 14,
   "id": "8ecaad18",
   "metadata": {},
   "outputs": [],
   "source": [
    "# rfm = order_4.groupby('customer_unique_id').agg({'nb_days' : np.min, \n",
    "#                                       'order_delivered_customer_date' : len,\n",
    "#                                       'price' : np.sum,\n",
    "#                                       'review_score'  : np.mean    \n",
    "#                                      }).reset_index()\n",
    "\n",
    "# rfm = rfm.rename(columns={'nb_days' : 'r', # récence\n",
    "#             'order_delivered_customer_date' : 'f', # fréquence\n",
    "#             'price' : 'm' }) # montant\n",
    "# rfm"
   ]
  },
  {
   "cell_type": "code",
   "execution_count": 15,
   "id": "1511f821",
   "metadata": {
    "scrolled": true
   },
   "outputs": [],
   "source": [
    "# rfm.isna().mean()"
   ]
  },
  {
   "cell_type": "code",
   "execution_count": 16,
   "id": "6d27a195",
   "metadata": {},
   "outputs": [],
   "source": [
    "# rfm = rfm.dropna()"
   ]
  },
  {
   "cell_type": "code",
   "execution_count": 17,
   "id": "1f279b73",
   "metadata": {},
   "outputs": [],
   "source": [
    "# imputation_mode = rfm.mode()\n",
    "# rfm = rfm.fillna(imputation_mode)"
   ]
  },
  {
   "cell_type": "code",
   "execution_count": 18,
   "id": "9dacc90b",
   "metadata": {},
   "outputs": [],
   "source": [
    "# rfm.isna().mean()"
   ]
  },
  {
   "cell_type": "code",
   "execution_count": 19,
   "id": "877765e6",
   "metadata": {},
   "outputs": [],
   "source": [
    "# # Score par quantile\n",
    "# rfm['rq'] = pd.cut(rfm.r,bins=np.quantile(rfm.r, q = [0,0.33,0.66,1]),labels=['2','1','0'])#.astype('str')\n",
    "\n",
    "# rfm['fq'] = pd.cut(rfm.f, bins= [0,1,2,100], labels=['0','1','2'])#.astype('str')\n",
    "\n",
    "# rfm['mq'] = pd.cut(rfm.m,bins=np.quantile(rfm.m, q = [0,0.33,0.66,1]),labels=['0','1','2'])#.astype('str')\n",
    "\n",
    "# #rfm =  rfm.dropna()\n",
    "\n",
    "# rfm[['rq','fq','mq']] =  rfm[['rq','fq','mq']].astype('str')\n",
    "\n",
    "# # rfm['rq'] = rfm['rq'].astype('str')\n",
    "# # rfm['fq'] = rfm['fq'].astype('str')\n",
    "# # rfm['mq'] = rfm['mq'].astype('str')\n",
    "\n",
    "\n",
    "# rfm['log_r'] = np.log(rfm.r)\n",
    "# rfm['log_f'] = np.log(rfm.f)\n",
    "# rfm['log_m'] = np.log(rfm.m)\n",
    "\n",
    "\n",
    "# # Score composite\n",
    "# rfm['score'] = rfm['rq'] + rfm['fq'] + rfm['mq']\n",
    "\n",
    "# rfm"
   ]
  },
  {
   "cell_type": "code",
   "execution_count": 20,
   "id": "2280f9f5",
   "metadata": {},
   "outputs": [],
   "source": [
    "# rfm.describe()"
   ]
  },
  {
   "cell_type": "markdown",
   "id": "671f213b",
   "metadata": {},
   "source": [
    "# Fonction RFM"
   ]
  },
  {
   "cell_type": "code",
   "execution_count": 21,
   "id": "96dc6abf",
   "metadata": {},
   "outputs": [],
   "source": [
    "def fonction_rfm (data):\n",
    "    \n",
    "    rfm = data.groupby('customer_unique_id').agg({'nb_days' : np.min, # minimum soit le dernier achat \n",
    "                                      'order_delivered_customer_date' : len, # fréquence\n",
    "                                      'price' : np.sum, # Somme des montants des achats\n",
    "                                      'review_score'  : np.mean    # Moyenne des notes clients\n",
    "                                     }).reset_index()\n",
    "\n",
    "    rfm = rfm.rename(columns={'nb_days' : 'r', # récence\n",
    "            'order_delivered_customer_date' : 'f', # fréquence\n",
    "            'price' : 'm' }) # montant\n",
    "    \n",
    "    rfm = rfm.dropna() # Suppression des NA\n",
    "    \n",
    "    # Score par quantile\n",
    "#     rfm['rq'] = pd.cut(rfm.r,bins=np.quantile(rfm.r, q = [0,0.33,0.66,1]),labels=['2','1','0'])#.astype('str')\n",
    "\n",
    "#     rfm['fq'] = pd.cut(rfm.f, bins= [0,1,2,100], labels=['0','1','2'])#.astype('str')\n",
    "\n",
    "#     rfm['mq'] = pd.cut(rfm.m,bins=np.quantile(rfm.m, q = [0,0.33,0.66,1]),labels=['0','1','2'])#.astype('str')\n",
    "\n",
    "    # Format string pour les sommer \n",
    "\n",
    "#     rfm[['rq','fq','mq']] =  rfm[['rq','fq','mq']].astype('str')\n",
    "\n",
    "    # rfm['rq'] = rfm['rq'].astype('str')\n",
    "    # rfm['fq'] = rfm['fq'].astype('str')\n",
    "    # rfm['mq'] = rfm['mq'].astype('str')\n",
    "\n",
    "    # Passage en log \n",
    "    rfm['log_r'] = np.log(rfm.r)\n",
    "    rfm['log_f'] = np.log(rfm.f)\n",
    "    rfm['log_m'] = np.log(rfm.m)\n",
    "\n",
    "\n",
    "    # Score composite\n",
    "#     rfm['score'] = rfm['rq'] + rfm['fq'] + rfm['mq']\n",
    "    \n",
    "    \n",
    "    return rfm\n",
    "    "
   ]
  },
  {
   "cell_type": "code",
   "execution_count": 22,
   "id": "73dc6f13",
   "metadata": {
    "scrolled": false
   },
   "outputs": [
    {
     "data": {
      "text/html": [
       "<div>\n",
       "<style scoped>\n",
       "    .dataframe tbody tr th:only-of-type {\n",
       "        vertical-align: middle;\n",
       "    }\n",
       "\n",
       "    .dataframe tbody tr th {\n",
       "        vertical-align: top;\n",
       "    }\n",
       "\n",
       "    .dataframe thead th {\n",
       "        text-align: right;\n",
       "    }\n",
       "</style>\n",
       "<table border=\"1\" class=\"dataframe\">\n",
       "  <thead>\n",
       "    <tr style=\"text-align: right;\">\n",
       "      <th></th>\n",
       "      <th>customer_unique_id</th>\n",
       "      <th>r</th>\n",
       "      <th>f</th>\n",
       "      <th>m</th>\n",
       "      <th>review_score</th>\n",
       "      <th>log_r</th>\n",
       "      <th>log_f</th>\n",
       "      <th>log_m</th>\n",
       "    </tr>\n",
       "  </thead>\n",
       "  <tbody>\n",
       "    <tr>\n",
       "      <th>0</th>\n",
       "      <td>0000366f3b9a7992bf8c76cfdf3221e2</td>\n",
       "      <td>1820.0</td>\n",
       "      <td>1</td>\n",
       "      <td>129.90</td>\n",
       "      <td>5.0</td>\n",
       "      <td>7.506592</td>\n",
       "      <td>0.0</td>\n",
       "      <td>4.866765</td>\n",
       "    </tr>\n",
       "    <tr>\n",
       "      <th>1</th>\n",
       "      <td>0000b849f77a49e4a4ce2b2a4ca5be3f</td>\n",
       "      <td>1826.0</td>\n",
       "      <td>1</td>\n",
       "      <td>18.90</td>\n",
       "      <td>4.0</td>\n",
       "      <td>7.509883</td>\n",
       "      <td>0.0</td>\n",
       "      <td>2.939162</td>\n",
       "    </tr>\n",
       "    <tr>\n",
       "      <th>2</th>\n",
       "      <td>0000f46a3911fa3c0805444483337064</td>\n",
       "      <td>2226.0</td>\n",
       "      <td>1</td>\n",
       "      <td>69.00</td>\n",
       "      <td>3.0</td>\n",
       "      <td>7.707962</td>\n",
       "      <td>0.0</td>\n",
       "      <td>4.234107</td>\n",
       "    </tr>\n",
       "    <tr>\n",
       "      <th>3</th>\n",
       "      <td>0000f6ccb0745a6a4b88665a16c9f078</td>\n",
       "      <td>2016.0</td>\n",
       "      <td>1</td>\n",
       "      <td>25.99</td>\n",
       "      <td>4.0</td>\n",
       "      <td>7.608871</td>\n",
       "      <td>0.0</td>\n",
       "      <td>3.257712</td>\n",
       "    </tr>\n",
       "    <tr>\n",
       "      <th>4</th>\n",
       "      <td>0004aac84e0df4da2b147fca70cf8255</td>\n",
       "      <td>1990.0</td>\n",
       "      <td>1</td>\n",
       "      <td>180.00</td>\n",
       "      <td>5.0</td>\n",
       "      <td>7.595890</td>\n",
       "      <td>0.0</td>\n",
       "      <td>5.192957</td>\n",
       "    </tr>\n",
       "    <tr>\n",
       "      <th>...</th>\n",
       "      <td>...</td>\n",
       "      <td>...</td>\n",
       "      <td>...</td>\n",
       "      <td>...</td>\n",
       "      <td>...</td>\n",
       "      <td>...</td>\n",
       "      <td>...</td>\n",
       "      <td>...</td>\n",
       "    </tr>\n",
       "    <tr>\n",
       "      <th>92748</th>\n",
       "      <td>fffcf5a5ff07b0908bd4e2dbc735a684</td>\n",
       "      <td>2134.0</td>\n",
       "      <td>1</td>\n",
       "      <td>1570.00</td>\n",
       "      <td>5.0</td>\n",
       "      <td>7.665753</td>\n",
       "      <td>0.0</td>\n",
       "      <td>7.358831</td>\n",
       "    </tr>\n",
       "    <tr>\n",
       "      <th>92749</th>\n",
       "      <td>fffea47cd6d3cc0a88bd621562a9d061</td>\n",
       "      <td>1947.0</td>\n",
       "      <td>1</td>\n",
       "      <td>64.89</td>\n",
       "      <td>4.0</td>\n",
       "      <td>7.574045</td>\n",
       "      <td>0.0</td>\n",
       "      <td>4.172694</td>\n",
       "    </tr>\n",
       "    <tr>\n",
       "      <th>92750</th>\n",
       "      <td>ffff371b4d645b6ecea244b27531430a</td>\n",
       "      <td>2268.0</td>\n",
       "      <td>1</td>\n",
       "      <td>89.90</td>\n",
       "      <td>5.0</td>\n",
       "      <td>7.726654</td>\n",
       "      <td>0.0</td>\n",
       "      <td>4.498698</td>\n",
       "    </tr>\n",
       "    <tr>\n",
       "      <th>92751</th>\n",
       "      <td>ffff5962728ec6157033ef9805bacc48</td>\n",
       "      <td>1822.0</td>\n",
       "      <td>1</td>\n",
       "      <td>115.00</td>\n",
       "      <td>5.0</td>\n",
       "      <td>7.507690</td>\n",
       "      <td>0.0</td>\n",
       "      <td>4.744932</td>\n",
       "    </tr>\n",
       "    <tr>\n",
       "      <th>92752</th>\n",
       "      <td>ffffd2657e2aad2907e67c3e9daecbeb</td>\n",
       "      <td>2191.0</td>\n",
       "      <td>1</td>\n",
       "      <td>56.99</td>\n",
       "      <td>5.0</td>\n",
       "      <td>7.692113</td>\n",
       "      <td>0.0</td>\n",
       "      <td>4.042876</td>\n",
       "    </tr>\n",
       "  </tbody>\n",
       "</table>\n",
       "<p>92753 rows × 8 columns</p>\n",
       "</div>"
      ],
      "text/plain": [
       "                     customer_unique_id       r  f        m  review_score  \\\n",
       "0      0000366f3b9a7992bf8c76cfdf3221e2  1820.0  1   129.90           5.0   \n",
       "1      0000b849f77a49e4a4ce2b2a4ca5be3f  1826.0  1    18.90           4.0   \n",
       "2      0000f46a3911fa3c0805444483337064  2226.0  1    69.00           3.0   \n",
       "3      0000f6ccb0745a6a4b88665a16c9f078  2016.0  1    25.99           4.0   \n",
       "4      0004aac84e0df4da2b147fca70cf8255  1990.0  1   180.00           5.0   \n",
       "...                                 ...     ... ..      ...           ...   \n",
       "92748  fffcf5a5ff07b0908bd4e2dbc735a684  2134.0  1  1570.00           5.0   \n",
       "92749  fffea47cd6d3cc0a88bd621562a9d061  1947.0  1    64.89           4.0   \n",
       "92750  ffff371b4d645b6ecea244b27531430a  2268.0  1    89.90           5.0   \n",
       "92751  ffff5962728ec6157033ef9805bacc48  1822.0  1   115.00           5.0   \n",
       "92752  ffffd2657e2aad2907e67c3e9daecbeb  2191.0  1    56.99           5.0   \n",
       "\n",
       "          log_r  log_f     log_m  \n",
       "0      7.506592    0.0  4.866765  \n",
       "1      7.509883    0.0  2.939162  \n",
       "2      7.707962    0.0  4.234107  \n",
       "3      7.608871    0.0  3.257712  \n",
       "4      7.595890    0.0  5.192957  \n",
       "...         ...    ...       ...  \n",
       "92748  7.665753    0.0  7.358831  \n",
       "92749  7.574045    0.0  4.172694  \n",
       "92750  7.726654    0.0  4.498698  \n",
       "92751  7.507690    0.0  4.744932  \n",
       "92752  7.692113    0.0  4.042876  \n",
       "\n",
       "[92753 rows x 8 columns]"
      ]
     },
     "execution_count": 22,
     "metadata": {},
     "output_type": "execute_result"
    }
   ],
   "source": [
    "# Test fonction rfm\n",
    "rfm = fonction_rfm(order_4)\n",
    "rfm"
   ]
  },
  {
   "cell_type": "markdown",
   "id": "05fe06cb",
   "metadata": {},
   "source": [
    "# Fonction K means"
   ]
  },
  {
   "cell_type": "code",
   "execution_count": 23,
   "id": "f7c5bc3d",
   "metadata": {},
   "outputs": [],
   "source": [
    "from sklearn.cluster import KMeans\n",
    "from sklearn.datasets import make_blobs\n",
    "\n",
    "from yellowbrick.cluster import KElbowVisualizer, SilhouetteVisualizer\n",
    "\n",
    "from sklearn.metrics.cluster import adjusted_rand_score"
   ]
  },
  {
   "cell_type": "code",
   "execution_count": 24,
   "id": "b2262112",
   "metadata": {},
   "outputs": [
    {
     "data": {
      "image/png": "[encoded data removed]",
      "text/plain": [
       "<Figure size 800x550 with 2 Axes>"
      ]
     },
     "metadata": {},
     "output_type": "display_data"
    }
   ],
   "source": [
    "# Instantiate the clustering model and visualizer\n",
    "model = KMeans()\n",
    "\n",
    "X = np.array(rfm[['log_r','log_f','log_m','review_score']])\n",
    "\n",
    "visualizer = KElbowVisualizer(model, k=(2,12))\n",
    "\n",
    "visualizer.fit(X)    # Fit the data to the visualizer\n",
    "visualizer.poof()    # Draw/show/poof the data\n",
    "\n",
    "plt.show()"
   ]
  },
  {
   "cell_type": "code",
   "execution_count": 25,
   "id": "5339e247",
   "metadata": {},
   "outputs": [],
   "source": [
    "def cluster_kmeans(rfm = rfm , k=5):\n",
    "    \n",
    "    # Features : la version log rfm\n",
    "    X = np.array(rfm[['log_r','log_f','log_m','review_score']])\n",
    "    \n",
    "    # Model Kmeans défaut k = 5 \n",
    "    model = KMeans(n_clusters = k, random_state=1990).fit(X)\n",
    "    y_pred = model.predict(X)\n",
    "    \n",
    "    return y_pred "
   ]
  },
  {
   "cell_type": "code",
   "execution_count": 26,
   "id": "48b20691",
   "metadata": {},
   "outputs": [],
   "source": [
    "y_pred  = cluster_kmeans(rfm,5)"
   ]
  },
  {
   "cell_type": "code",
   "execution_count": 27,
   "id": "20f0c891",
   "metadata": {},
   "outputs": [],
   "source": [
    "rfm['cluster'] = y_pred"
   ]
  },
  {
   "cell_type": "code",
   "execution_count": 28,
   "id": "e1281fa8",
   "metadata": {
    "scrolled": true
   },
   "outputs": [
    {
     "data": {
      "text/plain": [
       "0    29539\n",
       "1    21092\n",
       "3    18944\n",
       "2    11771\n",
       "4    11407\n",
       "Name: cluster, dtype: int64"
      ]
     },
     "execution_count": 28,
     "metadata": {},
     "output_type": "execute_result"
    }
   ],
   "source": [
    "rfm['cluster'].value_counts()"
   ]
  },
  {
   "cell_type": "markdown",
   "id": "8fd2da86",
   "metadata": {},
   "source": [
    "# ARI"
   ]
  },
  {
   "cell_type": "code",
   "execution_count": 29,
   "id": "30c5f91c",
   "metadata": {},
   "outputs": [
    {
     "data": {
      "text/plain": [
       "DatetimeIndex(['2019-02-28', '2019-03-31', '2019-04-30', '2019-05-31',\n",
       "               '2019-06-30', '2019-07-31', '2019-08-31', '2019-09-30',\n",
       "               '2019-10-31', '2019-11-30', '2019-12-31', '2020-01-31'],\n",
       "              dtype='datetime64[ns]', freq='M')"
      ]
     },
     "execution_count": 29,
     "metadata": {},
     "output_type": "execute_result"
    }
   ],
   "source": [
    "pd.date_range(start='2/2/2019', end='2/08/2020', freq = \"M\")\n"
   ]
  },
  {
   "cell_type": "code",
   "execution_count": 30,
   "id": "d4f87d7b",
   "metadata": {},
   "outputs": [],
   "source": [
    "df = order_4.copy()\n",
    "\n",
    "df['order_delivered_customer_date'] = pd.to_datetime(df['order_delivered_customer_date'] )"
   ]
  },
  {
   "cell_type": "code",
   "execution_count": 31,
   "id": "dd954e1c",
   "metadata": {
    "scrolled": true
   },
   "outputs": [
    {
     "name": "stdout",
     "output_type": "stream",
     "text": [
      "Date de début :  2016-10-11 00:00:00\n",
      "Date de fin :  2018-10-17 00:00:00\n"
     ]
    }
   ],
   "source": [
    "print('Date de début : ',df['order_delivered_customer_date'].min()) \n",
    "print('Date de fin : ',df['order_delivered_customer_date'].max()) "
   ]
  },
  {
   "cell_type": "markdown",
   "id": "3e551f44",
   "metadata": {},
   "source": [
    "## Baseline \n",
    "    1ère année comme référence \n",
    "    Teste ARI sur différentes périodes (mois) sur la deuxième année "
   ]
  },
  {
   "cell_type": "code",
   "execution_count": 72,
   "id": "bde833e0",
   "metadata": {
    "scrolled": true
   },
   "outputs": [
    {
     "data": {
      "text/plain": [
       "(26037, 7)"
      ]
     },
     "execution_count": 72,
     "metadata": {},
     "output_type": "execute_result"
    }
   ],
   "source": [
    "# 1ere année\n",
    "start_date = pd.to_datetime('10/11/2016') # M J Y\n",
    "end_date = pd.to_datetime('10/11/2017')\n",
    "\n",
    "# Dernière date dans nos données \n",
    "final_date = pd.to_datetime('10/17/2018')\n",
    "\n",
    "\n",
    "baseline = df.loc[(df['order_delivered_customer_date'] > start_date) &\n",
    "                  (df['order_delivered_customer_date'] < end_date)].copy()\n",
    "\n",
    "baseline.shape"
   ]
  },
  {
   "cell_type": "markdown",
   "id": "2547fdd4",
   "metadata": {},
   "source": [
    "### Test 1 semaine\n",
    "    Baseline prédict ==> s1"
   ]
  },
  {
   "cell_type": "code",
   "execution_count": 55,
   "id": "8775529d",
   "metadata": {
    "scrolled": true
   },
   "outputs": [
    {
     "data": {
      "text/plain": [
       "Timestamp('2018-01-07 00:00:00', freq='W-SUN')"
      ]
     },
     "execution_count": 55,
     "metadata": {},
     "output_type": "execute_result"
    }
   ],
   "source": [
    "pd.date_range(start=end_date, freq = \"W\", periods = 1)[0]"
   ]
  },
  {
   "cell_type": "code",
   "execution_count": 56,
   "id": "ce8173bc",
   "metadata": {},
   "outputs": [],
   "source": [
    "t1 = pd.to_datetime('10/18/2017')\n",
    "\n",
    "s1 = df.loc[(df['order_delivered_customer_date'] > end_date) &\n",
    "       (df['order_delivered_customer_date'] < t1)]\n",
    "\n",
    "test = df.loc[\n",
    "       (df['order_delivered_customer_date'] < t1)]\n",
    "\n",
    "#s1"
   ]
  },
  {
   "cell_type": "code",
   "execution_count": 57,
   "id": "d63cd4bc",
   "metadata": {},
   "outputs": [
    {
     "data": {
      "text/plain": [
       "(95830, 7)"
      ]
     },
     "execution_count": 57,
     "metadata": {},
     "output_type": "execute_result"
    }
   ],
   "source": [
    "df.shape"
   ]
  },
  {
   "cell_type": "code",
   "execution_count": 73,
   "id": "d18865b1",
   "metadata": {},
   "outputs": [],
   "source": [
    "rfm_baseline = fonction_rfm(baseline)\n",
    "#rfm_s1 = fonction_rfm(s1)\n",
    "rfm_test = fonction_rfm(test)\n",
    "\n",
    "#rfm_baseline.merge(rfm_s1)\n",
    "#rfm['cluster'] = cluster_kmeans(rfm_baseline)\n",
    "#rfm_baseline"
   ]
  },
  {
   "cell_type": "code",
   "execution_count": 37,
   "id": "b059f628",
   "metadata": {},
   "outputs": [
    {
     "data": {
      "text/plain": [
       "((26951, 7), (74885, 7), (0, 7))"
      ]
     },
     "execution_count": 37,
     "metadata": {},
     "output_type": "execute_result"
    }
   ],
   "source": [
    "test.shape,baseline.shape,s1.shape"
   ]
  },
  {
   "cell_type": "code",
   "execution_count": 38,
   "id": "8c1016b5",
   "metadata": {},
   "outputs": [
    {
     "data": {
      "text/plain": [
       "array([3, 0, 1, ..., 3, 3, 3])"
      ]
     },
     "execution_count": 38,
     "metadata": {},
     "output_type": "execute_result"
    }
   ],
   "source": [
    "cluster_kmeans(rfm_baseline)"
   ]
  },
  {
   "cell_type": "code",
   "execution_count": 39,
   "id": "a71c3bdf",
   "metadata": {},
   "outputs": [
    {
     "data": {
      "text/plain": [
       "(0, 7)"
      ]
     },
     "execution_count": 39,
     "metadata": {},
     "output_type": "execute_result"
    }
   ],
   "source": [
    "s1.shape"
   ]
  },
  {
   "cell_type": "code",
   "execution_count": 40,
   "id": "12aacc84",
   "metadata": {},
   "outputs": [],
   "source": [
    "#cluster_kmeans_predict(rfm,rfm_s1)\n",
    "\n",
    "rfm_baseline = fonction_rfm(baseline)\n",
    "#rfm_s1 = fonction_rfm(s1)\n",
    "rfm_test = fonction_rfm(test)"
   ]
  },
  {
   "cell_type": "code",
   "execution_count": 74,
   "id": "f853cdaa",
   "metadata": {},
   "outputs": [],
   "source": [
    "\n",
    "def cluster_kmeans_predict(rfm = rfm_baseline ,s1 = rfm_test , k=5):\n",
    "    \n",
    "    # Features : la version log rfm + review\n",
    "    #features = ['log_r','log_f','log_m','review_score']\n",
    "    \n",
    "    features = ['r','f','m','review_score']\n",
    "    \n",
    "    X_baseline = np.array(rfm[features]) # t0\n",
    "    \n",
    "    X_test = np.array(s1[features]) # t+1\n",
    "    \n",
    "    \n",
    "    # Model Kmeans défaut k = 5 \n",
    "    \n",
    "    # 1. On entraine la baseline \n",
    "    model = KMeans(n_clusters = k, random_state=1990).fit(X_baseline)\n",
    "    \n",
    "\n",
    "    # 2. Prédiction sur t+1\n",
    "    pred_s1 = model.predict(X_test)\n",
    "    \n",
    "    # 3. fit & prediction sur t+1\n",
    "    \n",
    "    model2 = KMeans(n_clusters = k, random_state=1990).fit(X_test)\n",
    "    \n",
    "    pred_test = model2.predict(X_test)\n",
    "    \n",
    "    \n",
    "    \n",
    "    print(adjusted_rand_score(pred_test, pred_s1))\n",
    "    \n",
    "    result = (adjusted_rand_score(pred_s1, pred_test))\n",
    "    \n",
    "    return result"
   ]
  },
  {
   "cell_type": "code",
   "execution_count": 44,
   "id": "7bb6c6f6",
   "metadata": {
    "scrolled": true
   },
   "outputs": [],
   "source": [
    "# pred_test,pred_s1"
   ]
  },
  {
   "cell_type": "code",
   "execution_count": 75,
   "id": "ba528e72",
   "metadata": {},
   "outputs": [
    {
     "name": "stdout",
     "output_type": "stream",
     "text": [
      "0.23564542508532738\n"
     ]
    },
    {
     "data": {
      "text/plain": [
       "0.23564542508532738"
      ]
     },
     "execution_count": 75,
     "metadata": {},
     "output_type": "execute_result"
    }
   ],
   "source": [
    "cluster_kmeans_predict(rfm_baseline,rfm_test)"
   ]
  },
  {
   "cell_type": "markdown",
   "id": "f55077ea",
   "metadata": {},
   "source": [
    "### Test mois"
   ]
  },
  {
   "cell_type": "code",
   "execution_count": 63,
   "id": "ef7ef91f",
   "metadata": {},
   "outputs": [
    {
     "data": {
      "text/plain": [
       "(Timestamp('2018-10-17 00:00:00'), Timestamp('2018-01-01 00:00:00'))"
      ]
     },
     "execution_count": 63,
     "metadata": {},
     "output_type": "execute_result"
    }
   ],
   "source": [
    "final_date, end_date"
   ]
  },
  {
   "cell_type": "code",
   "execution_count": 64,
   "id": "2aafe2bc",
   "metadata": {
    "scrolled": false
   },
   "outputs": [
    {
     "data": {
      "text/plain": [
       "DatetimeIndex(['2018-01-31', '2018-02-28', '2018-03-31', '2018-04-30',\n",
       "               '2018-05-31', '2018-06-30', '2018-07-31', '2018-08-31',\n",
       "               '2018-09-30'],\n",
       "              dtype='datetime64[ns]', freq='M')"
      ]
     },
     "execution_count": 64,
     "metadata": {},
     "output_type": "execute_result"
    }
   ],
   "source": [
    "pd.date_range(start=end_date, freq = \"M\", end = final_date)"
   ]
  },
  {
   "cell_type": "code",
   "execution_count": 76,
   "id": "bbdf5b06",
   "metadata": {
    "scrolled": false
   },
   "outputs": [
    {
     "data": {
      "text/plain": [
       "DatetimeIndex(['2017-10-11', '2017-11-10', '2017-12-10', '2018-01-09',\n",
       "               '2018-02-08', '2018-03-10', '2018-04-09', '2018-05-09',\n",
       "               '2018-06-08', '2018-07-08', '2018-08-07', '2018-09-06',\n",
       "               '2018-10-06'],\n",
       "              dtype='datetime64[ns]', freq='30D')"
      ]
     },
     "execution_count": 76,
     "metadata": {},
     "output_type": "execute_result"
    }
   ],
   "source": [
    "futur_mois = pd.date_range(start=end_date, freq = \"15D\", end = final_date)\n",
    "futur_mois"
   ]
  },
  {
   "cell_type": "code",
   "execution_count": 77,
   "id": "4ad58300",
   "metadata": {
    "scrolled": false
   },
   "outputs": [
    {
     "name": "stdout",
     "output_type": "stream",
     "text": [
      "0.9973836210571083\n",
      "(25305, 8) (25307, 8)\n",
      "0.7510303992732267\n",
      "(25305, 8) (29447, 8)\n",
      "0.6408243740802853\n",
      "(25305, 8) (34836, 8)\n",
      "0.5254812398012533\n",
      "(25305, 8) (40985, 8)\n",
      "0.47195525254021065\n",
      "(25305, 8) (47488, 8)\n",
      "0.47170032695604164\n",
      "(25305, 8) (53602, 8)\n",
      "0.4472333334695377\n",
      "(25305, 8) (60082, 8)\n",
      "0.4515629245730196\n",
      "(25305, 8) (67692, 8)\n",
      "0.40687588460441654\n",
      "(25305, 8) (74116, 8)\n",
      "0.39917651075802907\n",
      "(25305, 8) (80434, 8)\n",
      "0.4007180409098189\n",
      "(25305, 8) (85956, 8)\n",
      "0.23168666490824685\n",
      "(25305, 8) (92726, 8)\n",
      "0.23172193621367368\n",
      "(25305, 8) (92751, 8)\n"
     ]
    }
   ],
   "source": [
    "res = []\n",
    "\n",
    "for t in futur_mois:\n",
    "\n",
    "    testing = df.loc[(df['order_delivered_customer_date'] < t)]\n",
    "    \n",
    "    # fonction rfm\n",
    "    \n",
    "    rfm_testing = fonction_rfm(testing)\n",
    "        \n",
    "    res.append(cluster_kmeans_predict(rfm_baseline,rfm_testing,k=5))\n",
    "    \n",
    "    print(rfm_baseline.shape,rfm_testing.shape)\n",
    "    \n"
   ]
  },
  {
   "cell_type": "code",
   "execution_count": 78,
   "id": "983f4175",
   "metadata": {
    "scrolled": false
   },
   "outputs": [
    {
     "data": {
      "text/plain": [
       "[]"
      ]
     },
     "execution_count": 78,
     "metadata": {},
     "output_type": "execute_result"
    },
    {
     "data": {
      "image/png": "[encoded data removed]",
      "text/plain": [
       "<Figure size 800x550 with 1 Axes>"
      ]
     },
     "metadata": {},
     "output_type": "display_data"
    }
   ],
   "source": [
    "pd.DataFrame({'res' : res }, index = futur_mois).plot()\n",
    "plt.plot()"
   ]
  },
  {
   "cell_type": "code",
   "execution_count": 79,
   "id": "61e371c3",
   "metadata": {
    "scrolled": false
   },
   "outputs": [
    {
     "name": "stdout",
     "output_type": "stream",
     "text": [
      "0.9973836210571083\n",
      "(25305, 8) (25307, 8)\n",
      "0.8129239743211479\n",
      "(25305, 8) (27470, 8)\n",
      "0.7510303992732267\n",
      "(25305, 8) (29447, 8)\n",
      "0.6995154524462192\n",
      "(25305, 8) (31591, 8)\n",
      "0.6408243740802853\n",
      "(25305, 8) (34836, 8)\n",
      "0.5671615092960274\n",
      "(25305, 8) (38418, 8)\n",
      "0.5254812398012533\n",
      "(25305, 8) (40985, 8)\n",
      "0.5132905318984112\n",
      "(25305, 8) (44099, 8)\n",
      "0.47195525254021065\n",
      "(25305, 8) (47488, 8)\n",
      "0.46156479243001153\n",
      "(25305, 8) (50330, 8)\n",
      "0.47170032695604164\n",
      "(25305, 8) (53602, 8)\n",
      "0.47470310138204586\n",
      "(25305, 8) (56722, 8)\n",
      "0.4472333334695377\n",
      "(25305, 8) (60082, 8)\n",
      "0.4554401423493638\n",
      "(25305, 8) (63926, 8)\n",
      "0.4515629245730196\n",
      "(25305, 8) (67692, 8)\n",
      "0.41768219959422287\n",
      "(25305, 8) (71855, 8)\n",
      "0.40687588460441654\n",
      "(25305, 8) (74116, 8)\n",
      "0.39875137046071535\n",
      "(25305, 8) (77522, 8)\n",
      "0.39917651075802907\n",
      "(25305, 8) (80434, 8)\n",
      "0.4042760897446569\n",
      "(25305, 8) (82228, 8)\n",
      "0.4007180409098189\n",
      "(25305, 8) (85956, 8)\n",
      "0.366048845465795\n",
      "(25305, 8) (90023, 8)\n",
      "0.23168666490824685\n",
      "(25305, 8) (92726, 8)\n",
      "0.2241354764882599\n",
      "(25305, 8) (92746, 8)\n",
      "0.23172193621367368\n",
      "(25305, 8) (92751, 8)\n"
     ]
    }
   ],
   "source": [
    "futur_mois = pd.date_range(start=end_date, freq = \"15D\", end = final_date)\n",
    "futur_mois\n",
    "\n",
    "\n",
    "res = []\n",
    "\n",
    "for t in futur_mois:\n",
    "\n",
    "    testing = df.loc[(df['order_delivered_customer_date'] < t)]\n",
    "    \n",
    "    # fonction rfm\n",
    "    \n",
    "    rfm_testing = fonction_rfm(testing)\n",
    "        \n",
    "    res.append(cluster_kmeans_predict(rfm_baseline,rfm_testing,k=5))\n",
    "    \n",
    "    print(rfm_baseline.shape,rfm_testing.shape)\n",
    "    \n"
   ]
  },
  {
   "cell_type": "code",
   "execution_count": 80,
   "id": "b8f94679",
   "metadata": {
    "scrolled": true
   },
   "outputs": [
    {
     "data": {
      "text/plain": [
       "[]"
      ]
     },
     "execution_count": 80,
     "metadata": {},
     "output_type": "execute_result"
    },
    {
     "data": {
      "image/png": "[encoded data removed]",
      "text/plain": [
       "<Figure size 800x550 with 1 Axes>"
      ]
     },
     "metadata": {},
     "output_type": "display_data"
    }
   ],
   "source": [
    "pd.DataFrame({'res' : res }, index = futur_mois).plot()\n",
    "plt.plot()"
   ]
  },
  {
   "cell_type": "markdown",
   "id": "a7920e0a",
   "metadata": {},
   "source": [
    "# Dépot "
   ]
  },
  {
   "cell_type": "code",
   "execution_count": null,
   "id": "4c5d7ee2",
   "metadata": {},
   "outputs": [],
   "source": [
    "# def fonction_finale(periode=futur_mois):\n",
    "    \n",
    "#     # On choisit la période\n",
    "    \n",
    "#     futur_mois = pd.date_range(start=end_date, freq = \"M\",periods = 12)\n",
    "    \n",
    "#     res = []\n",
    "    \n",
    "#         for t in futur_mois:\n",
    "\n",
    "#             test = df.loc[(df['order_delivered_customer_date'] < t)]\n",
    "    \n",
    "#     # fonction rfm\n",
    "    \n",
    "#             rfm_test = fonction_rfm(test)\n",
    "        \n",
    "#         #res = []\n",
    "        \n",
    "#             res.append(cluster_kmeans_predict(rfm_baseline,rfm_test))\n",
    "        \n",
    "        \n",
    "#     #data_res = pd.DataFrame( {'mois' : futur_mois,'ARI' : res})    \n",
    "    \n",
    "#     return res "
   ]
  },
  {
   "cell_type": "code",
   "execution_count": null,
   "id": "ab10df69",
   "metadata": {},
   "outputs": [],
   "source": [
    "# tt"
   ]
  },
  {
   "cell_type": "code",
   "execution_count": null,
   "id": "453505cf",
   "metadata": {
    "scrolled": true
   },
   "outputs": [],
   "source": [
    "# tt = fonction_finale(futur_mois)"
   ]
  },
  {
   "cell_type": "code",
   "execution_count": null,
   "id": "ffdc3eb7",
   "metadata": {},
   "outputs": [],
   "source": [
    "# L = [2,3,4,5]\n",
    " \n",
    "# R = []\n",
    "# for v in L:\n",
    "#     R.append(2**v)\n",
    "# print(R)\n",
    "# [4, 8, 16, 32]"
   ]
  },
  {
   "cell_type": "code",
   "execution_count": null,
   "id": "b1f50832",
   "metadata": {},
   "outputs": [],
   "source": [
    "# k=5\n",
    "# # Features : la version log rfm + review\n",
    "# features = ['log_r','log_f','log_m','review_score']\n",
    "    \n",
    "# X_baseline = np.array(rfm_baseline[features]) # t0\n",
    "    \n",
    "# X_test = np.array(rfm_test[features]) # t+1\n",
    "    \n",
    "    \n",
    "#     # Model Kmeans défaut k = 5 \n",
    "    \n",
    "#     # 1. On entraine la baseline \n",
    "# model = KMeans(n_clusters = k, random_state=1990).fit(X_baseline)\n",
    "    \n",
    "\n",
    "#     # 2. Prédiction sur t+1\n",
    "# pred_s1 = model.predict(X_test)\n",
    "    \n",
    "#     # 3. fit & prediction sur t+1\n",
    "    \n",
    "# model2 = KMeans(n_clusters = k, random_state=1990).fit(X_test)\n",
    "    \n",
    "# pred_test = model2.predict(X_test)"
   ]
  },
  {
   "cell_type": "code",
   "execution_count": null,
   "id": "1ef7c3d1",
   "metadata": {},
   "outputs": [],
   "source": [
    "# def cluster_kmeans_predict(rfm = rfm ,s1 = rfm_s1, k=5):\n",
    "    \n",
    "#     # Features : la version log rfm\n",
    "#     X = np.array(rfm[['log_r','log_f','log_m','review_score']])\n",
    "    \n",
    "#     # à prédire \n",
    "#     y = np.array(rfm_s1[['log_r','log_f','log_m','review_score']])\n",
    "    \n",
    "#     # Model Kmeans défaut k = 5 \n",
    "#     model = KMeans(n_clusters = k, random_state=1990).fit(X)\n",
    "    \n",
    "#     y_pred = model.predict(X)\n",
    "#     y_pred_s1 = model.fit_predict(y)\n",
    "    \n",
    "#     print(adjusted_rand_score(y_pred, y_pred_s1))\n",
    "    \n",
    "#     return y_pred , y_pred_s1 , adjusted_rand_score(y_pred, y_pred_s1)"
   ]
  }
 ],
 "metadata": {
  "kernelspec": {
   "display_name": "Python 3 (ipykernel)",
   "language": "python",
   "name": "python3"
  },
  "language_info": {
   "codemirror_mode": {
    "name": "ipython",
    "version": 3
   },
   "file_extension": ".py",
   "mimetype": "text/x-python",
   "name": "python",
   "nbconvert_exporter": "python",
   "pygments_lexer": "ipython3",
   "version": "3.9.13"
  }
 },
 "nbformat": 4,
 "nbformat_minor": 5
}
