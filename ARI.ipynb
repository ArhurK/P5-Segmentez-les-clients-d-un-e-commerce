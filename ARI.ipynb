{
 "cells": [
  {
   "cell_type": "code",
   "execution_count": 1,
   "id": "103b9fbc",
   "metadata": {},
   "outputs": [],
   "source": [
    "import pandas as pd\n",
    "import numpy as np \n",
    "import matplotlib.pyplot as plt \n",
    "import seaborn as sns\n",
    "from datetime import datetime\n",
    "sns.set_theme(style=\"darkgrid\")\n"
   ]
  },
  {
   "cell_type": "markdown",
   "id": "22abe61a",
   "metadata": {},
   "source": [
    "# Importation\n"
   ]
  },
  {
   "cell_type": "code",
   "execution_count": 2,
   "id": "78323c48",
   "metadata": {},
   "outputs": [],
   "source": [
    "dataset_list = [\n",
    "    'olist_order_reviews_dataset.csv.zip',\n",
    "    'olist_customers_dataset.csv.zip',\n",
    "    'olist_geolocation_dataset.csv.zip',\n",
    "    'olist_order_items_dataset.csv.zip',\n",
    "    'olist_order_payments_dataset.csv.zip'  ,\n",
    "    'olist_orders_dataset.csv.zip',\n",
    "    'olist_products_dataset.csv.zip',\n",
    "    'olist_sellers_dataset.csv',\n",
    "    'product_category_name_translation.csv'\n",
    "]\n",
    "\n",
    "data_name_list = [\n",
    "    'order_reviews',\n",
    "    'customers',\n",
    "    'geolocalisation',\n",
    "    'order_items',\n",
    "    'order_payments',\n",
    "    'orders',\n",
    "    'products',\n",
    "    'sellers',\n",
    "    'translation'\n",
    "]\n",
    "\n",
    "data =   {key : pd.read_csv(path) for key, path in zip(data_name_list, dataset_list)}"
   ]
  },
  {
   "cell_type": "code",
   "execution_count": 4,
   "id": "cc88f695",
   "metadata": {
    "scrolled": false
   },
   "outputs": [
    {
     "data": {
      "text/html": [
       "<div>\n",
       "<style scoped>\n",
       "    .dataframe tbody tr th:only-of-type {\n",
       "        vertical-align: middle;\n",
       "    }\n",
       "\n",
       "    .dataframe tbody tr th {\n",
       "        vertical-align: top;\n",
       "    }\n",
       "\n",
       "    .dataframe thead th {\n",
       "        text-align: right;\n",
       "    }\n",
       "</style>\n",
       "<table border=\"1\" class=\"dataframe\">\n",
       "  <thead>\n",
       "    <tr style=\"text-align: right;\">\n",
       "      <th></th>\n",
       "      <th>order_id</th>\n",
       "      <th>price</th>\n",
       "    </tr>\n",
       "  </thead>\n",
       "  <tbody>\n",
       "    <tr>\n",
       "      <th>0</th>\n",
       "      <td>00010242fe8c5a6d1ba2dd792cb16214</td>\n",
       "      <td>72.19</td>\n",
       "    </tr>\n",
       "    <tr>\n",
       "      <th>1</th>\n",
       "      <td>00018f77f2f0320c557190d7a144bdd3</td>\n",
       "      <td>259.83</td>\n",
       "    </tr>\n",
       "    <tr>\n",
       "      <th>2</th>\n",
       "      <td>000229ec398224ef6ca0657da4fc703e</td>\n",
       "      <td>216.87</td>\n",
       "    </tr>\n",
       "    <tr>\n",
       "      <th>3</th>\n",
       "      <td>00024acbcdf0a6daa1e931b038114c75</td>\n",
       "      <td>25.78</td>\n",
       "    </tr>\n",
       "    <tr>\n",
       "      <th>4</th>\n",
       "      <td>00042b26cf59d7ce69dfabb4e55b4fd9</td>\n",
       "      <td>218.04</td>\n",
       "    </tr>\n",
       "  </tbody>\n",
       "</table>\n",
       "</div>"
      ],
      "text/plain": [
       "                           order_id   price\n",
       "0  00010242fe8c5a6d1ba2dd792cb16214   72.19\n",
       "1  00018f77f2f0320c557190d7a144bdd3  259.83\n",
       "2  000229ec398224ef6ca0657da4fc703e  216.87\n",
       "3  00024acbcdf0a6daa1e931b038114c75   25.78\n",
       "4  00042b26cf59d7ce69dfabb4e55b4fd9  218.04"
      ]
     },
     "execution_count": 4,
     "metadata": {},
     "output_type": "execute_result"
    }
   ],
   "source": [
    "# Prix + fais de livraison\n",
    "data['order_items']['price'] = data['order_items']['price'] + data['order_items']['freight_value']\n",
    "\n",
    "# Agrégation : Somme des prix par order_id\n",
    "order = data['order_items'].groupby('order_id')['price'].sum().to_frame().reset_index()\n",
    "order.head()"
   ]
  },
  {
   "cell_type": "code",
   "execution_count": 6,
   "id": "51c3c75f",
   "metadata": {},
   "outputs": [],
   "source": [
    "order_2 = order.merge(\n",
    "    data['orders'], on ='order_id', how='left')[\n",
    "    ['order_id',\n",
    "     'price',\n",
    "     'customer_id',\n",
    "     'order_delivered_customer_date',\n",
    "       ]]"
   ]
  },
  {
   "cell_type": "code",
   "execution_count": 7,
   "id": "c27bfee1",
   "metadata": {
    "scrolled": true
   },
   "outputs": [
    {
     "data": {
      "text/html": [
       "<div>\n",
       "<style scoped>\n",
       "    .dataframe tbody tr th:only-of-type {\n",
       "        vertical-align: middle;\n",
       "    }\n",
       "\n",
       "    .dataframe tbody tr th {\n",
       "        vertical-align: top;\n",
       "    }\n",
       "\n",
       "    .dataframe thead th {\n",
       "        text-align: right;\n",
       "    }\n",
       "</style>\n",
       "<table border=\"1\" class=\"dataframe\">\n",
       "  <thead>\n",
       "    <tr style=\"text-align: right;\">\n",
       "      <th></th>\n",
       "      <th>order_id</th>\n",
       "      <th>price</th>\n",
       "      <th>customer_id</th>\n",
       "      <th>order_delivered_customer_date</th>\n",
       "    </tr>\n",
       "  </thead>\n",
       "  <tbody>\n",
       "    <tr>\n",
       "      <th>0</th>\n",
       "      <td>00010242fe8c5a6d1ba2dd792cb16214</td>\n",
       "      <td>72.19</td>\n",
       "      <td>3ce436f183e68e07877b285a838db11a</td>\n",
       "      <td>2017-09-20 23:43:48</td>\n",
       "    </tr>\n",
       "    <tr>\n",
       "      <th>1</th>\n",
       "      <td>00018f77f2f0320c557190d7a144bdd3</td>\n",
       "      <td>259.83</td>\n",
       "      <td>f6dd3ec061db4e3987629fe6b26e5cce</td>\n",
       "      <td>2017-05-12 16:04:24</td>\n",
       "    </tr>\n",
       "    <tr>\n",
       "      <th>2</th>\n",
       "      <td>000229ec398224ef6ca0657da4fc703e</td>\n",
       "      <td>216.87</td>\n",
       "      <td>6489ae5e4333f3693df5ad4372dab6d3</td>\n",
       "      <td>2018-01-22 13:19:16</td>\n",
       "    </tr>\n",
       "    <tr>\n",
       "      <th>3</th>\n",
       "      <td>00024acbcdf0a6daa1e931b038114c75</td>\n",
       "      <td>25.78</td>\n",
       "      <td>d4eb9395c8c0431ee92fce09860c5a06</td>\n",
       "      <td>2018-08-14 13:32:39</td>\n",
       "    </tr>\n",
       "    <tr>\n",
       "      <th>4</th>\n",
       "      <td>00042b26cf59d7ce69dfabb4e55b4fd9</td>\n",
       "      <td>218.04</td>\n",
       "      <td>58dbd0b2d70206bf40e62cd34e84d795</td>\n",
       "      <td>2017-03-01 16:42:31</td>\n",
       "    </tr>\n",
       "  </tbody>\n",
       "</table>\n",
       "</div>"
      ],
      "text/plain": [
       "                           order_id   price                       customer_id  \\\n",
       "0  00010242fe8c5a6d1ba2dd792cb16214   72.19  3ce436f183e68e07877b285a838db11a   \n",
       "1  00018f77f2f0320c557190d7a144bdd3  259.83  f6dd3ec061db4e3987629fe6b26e5cce   \n",
       "2  000229ec398224ef6ca0657da4fc703e  216.87  6489ae5e4333f3693df5ad4372dab6d3   \n",
       "3  00024acbcdf0a6daa1e931b038114c75   25.78  d4eb9395c8c0431ee92fce09860c5a06   \n",
       "4  00042b26cf59d7ce69dfabb4e55b4fd9  218.04  58dbd0b2d70206bf40e62cd34e84d795   \n",
       "\n",
       "  order_delivered_customer_date  \n",
       "0           2017-09-20 23:43:48  \n",
       "1           2017-05-12 16:04:24  \n",
       "2           2018-01-22 13:19:16  \n",
       "3           2018-08-14 13:32:39  \n",
       "4           2017-03-01 16:42:31  "
      ]
     },
     "execution_count": 7,
     "metadata": {},
     "output_type": "execute_result"
    }
   ],
   "source": [
    "order_2.head()"
   ]
  },
  {
   "cell_type": "code",
   "execution_count": 8,
   "id": "41c5f37e",
   "metadata": {},
   "outputs": [
    {
     "data": {
      "text/html": [
       "<div>\n",
       "<style scoped>\n",
       "    .dataframe tbody tr th:only-of-type {\n",
       "        vertical-align: middle;\n",
       "    }\n",
       "\n",
       "    .dataframe tbody tr th {\n",
       "        vertical-align: top;\n",
       "    }\n",
       "\n",
       "    .dataframe thead th {\n",
       "        text-align: right;\n",
       "    }\n",
       "</style>\n",
       "<table border=\"1\" class=\"dataframe\">\n",
       "  <thead>\n",
       "    <tr style=\"text-align: right;\">\n",
       "      <th></th>\n",
       "      <th>order_id</th>\n",
       "      <th>price</th>\n",
       "      <th>customer_id</th>\n",
       "      <th>order_delivered_customer_date</th>\n",
       "      <th>customer_unique_id</th>\n",
       "    </tr>\n",
       "  </thead>\n",
       "  <tbody>\n",
       "    <tr>\n",
       "      <th>0</th>\n",
       "      <td>00010242fe8c5a6d1ba2dd792cb16214</td>\n",
       "      <td>72.19</td>\n",
       "      <td>3ce436f183e68e07877b285a838db11a</td>\n",
       "      <td>2017-09-20 23:43:48</td>\n",
       "      <td>871766c5855e863f6eccc05f988b23cb</td>\n",
       "    </tr>\n",
       "    <tr>\n",
       "      <th>1</th>\n",
       "      <td>00018f77f2f0320c557190d7a144bdd3</td>\n",
       "      <td>259.83</td>\n",
       "      <td>f6dd3ec061db4e3987629fe6b26e5cce</td>\n",
       "      <td>2017-05-12 16:04:24</td>\n",
       "      <td>eb28e67c4c0b83846050ddfb8a35d051</td>\n",
       "    </tr>\n",
       "    <tr>\n",
       "      <th>2</th>\n",
       "      <td>000229ec398224ef6ca0657da4fc703e</td>\n",
       "      <td>216.87</td>\n",
       "      <td>6489ae5e4333f3693df5ad4372dab6d3</td>\n",
       "      <td>2018-01-22 13:19:16</td>\n",
       "      <td>3818d81c6709e39d06b2738a8d3a2474</td>\n",
       "    </tr>\n",
       "    <tr>\n",
       "      <th>3</th>\n",
       "      <td>00024acbcdf0a6daa1e931b038114c75</td>\n",
       "      <td>25.78</td>\n",
       "      <td>d4eb9395c8c0431ee92fce09860c5a06</td>\n",
       "      <td>2018-08-14 13:32:39</td>\n",
       "      <td>af861d436cfc08b2c2ddefd0ba074622</td>\n",
       "    </tr>\n",
       "    <tr>\n",
       "      <th>4</th>\n",
       "      <td>00042b26cf59d7ce69dfabb4e55b4fd9</td>\n",
       "      <td>218.04</td>\n",
       "      <td>58dbd0b2d70206bf40e62cd34e84d795</td>\n",
       "      <td>2017-03-01 16:42:31</td>\n",
       "      <td>64b576fb70d441e8f1b2d7d446e483c5</td>\n",
       "    </tr>\n",
       "  </tbody>\n",
       "</table>\n",
       "</div>"
      ],
      "text/plain": [
       "                           order_id   price                       customer_id  \\\n",
       "0  00010242fe8c5a6d1ba2dd792cb16214   72.19  3ce436f183e68e07877b285a838db11a   \n",
       "1  00018f77f2f0320c557190d7a144bdd3  259.83  f6dd3ec061db4e3987629fe6b26e5cce   \n",
       "2  000229ec398224ef6ca0657da4fc703e  216.87  6489ae5e4333f3693df5ad4372dab6d3   \n",
       "3  00024acbcdf0a6daa1e931b038114c75   25.78  d4eb9395c8c0431ee92fce09860c5a06   \n",
       "4  00042b26cf59d7ce69dfabb4e55b4fd9  218.04  58dbd0b2d70206bf40e62cd34e84d795   \n",
       "\n",
       "  order_delivered_customer_date                customer_unique_id  \n",
       "0           2017-09-20 23:43:48  871766c5855e863f6eccc05f988b23cb  \n",
       "1           2017-05-12 16:04:24  eb28e67c4c0b83846050ddfb8a35d051  \n",
       "2           2018-01-22 13:19:16  3818d81c6709e39d06b2738a8d3a2474  \n",
       "3           2018-08-14 13:32:39  af861d436cfc08b2c2ddefd0ba074622  \n",
       "4           2017-03-01 16:42:31  64b576fb70d441e8f1b2d7d446e483c5  "
      ]
     },
     "execution_count": 8,
     "metadata": {},
     "output_type": "execute_result"
    }
   ],
   "source": [
    "order_3 = order_2.merge(data['customers'][['customer_id','customer_unique_id']],on='customer_id',how='left')\n",
    "order_3.head()"
   ]
  },
  {
   "cell_type": "code",
   "execution_count": 9,
   "id": "c30145db",
   "metadata": {},
   "outputs": [
    {
     "data": {
      "text/html": [
       "<div>\n",
       "<style scoped>\n",
       "    .dataframe tbody tr th:only-of-type {\n",
       "        vertical-align: middle;\n",
       "    }\n",
       "\n",
       "    .dataframe tbody tr th {\n",
       "        vertical-align: top;\n",
       "    }\n",
       "\n",
       "    .dataframe thead th {\n",
       "        text-align: right;\n",
       "    }\n",
       "</style>\n",
       "<table border=\"1\" class=\"dataframe\">\n",
       "  <thead>\n",
       "    <tr style=\"text-align: right;\">\n",
       "      <th></th>\n",
       "      <th>order_id</th>\n",
       "      <th>review_score</th>\n",
       "    </tr>\n",
       "  </thead>\n",
       "  <tbody>\n",
       "    <tr>\n",
       "      <th>0</th>\n",
       "      <td>00010242fe8c5a6d1ba2dd792cb16214</td>\n",
       "      <td>5.0</td>\n",
       "    </tr>\n",
       "    <tr>\n",
       "      <th>1</th>\n",
       "      <td>00018f77f2f0320c557190d7a144bdd3</td>\n",
       "      <td>4.0</td>\n",
       "    </tr>\n",
       "    <tr>\n",
       "      <th>2</th>\n",
       "      <td>000229ec398224ef6ca0657da4fc703e</td>\n",
       "      <td>5.0</td>\n",
       "    </tr>\n",
       "    <tr>\n",
       "      <th>3</th>\n",
       "      <td>00024acbcdf0a6daa1e931b038114c75</td>\n",
       "      <td>4.0</td>\n",
       "    </tr>\n",
       "    <tr>\n",
       "      <th>4</th>\n",
       "      <td>00042b26cf59d7ce69dfabb4e55b4fd9</td>\n",
       "      <td>5.0</td>\n",
       "    </tr>\n",
       "  </tbody>\n",
       "</table>\n",
       "</div>"
      ],
      "text/plain": [
       "                           order_id  review_score\n",
       "0  00010242fe8c5a6d1ba2dd792cb16214           5.0\n",
       "1  00018f77f2f0320c557190d7a144bdd3           4.0\n",
       "2  000229ec398224ef6ca0657da4fc703e           5.0\n",
       "3  00024acbcdf0a6daa1e931b038114c75           4.0\n",
       "4  00042b26cf59d7ce69dfabb4e55b4fd9           5.0"
      ]
     },
     "execution_count": 9,
     "metadata": {},
     "output_type": "execute_result"
    }
   ],
   "source": [
    "review_2 =  data['order_reviews'].groupby('order_id')['review_score'].mean().to_frame().reset_index()\n",
    "review_2.head()"
   ]
  },
  {
   "cell_type": "code",
   "execution_count": 10,
   "id": "04c44acb",
   "metadata": {},
   "outputs": [
    {
     "data": {
      "text/html": [
       "<div>\n",
       "<style scoped>\n",
       "    .dataframe tbody tr th:only-of-type {\n",
       "        vertical-align: middle;\n",
       "    }\n",
       "\n",
       "    .dataframe tbody tr th {\n",
       "        vertical-align: top;\n",
       "    }\n",
       "\n",
       "    .dataframe thead th {\n",
       "        text-align: right;\n",
       "    }\n",
       "</style>\n",
       "<table border=\"1\" class=\"dataframe\">\n",
       "  <thead>\n",
       "    <tr style=\"text-align: right;\">\n",
       "      <th></th>\n",
       "      <th>order_id</th>\n",
       "      <th>price</th>\n",
       "      <th>customer_id</th>\n",
       "      <th>order_delivered_customer_date</th>\n",
       "      <th>customer_unique_id</th>\n",
       "      <th>review_score</th>\n",
       "    </tr>\n",
       "  </thead>\n",
       "  <tbody>\n",
       "    <tr>\n",
       "      <th>0</th>\n",
       "      <td>00010242fe8c5a6d1ba2dd792cb16214</td>\n",
       "      <td>72.19</td>\n",
       "      <td>3ce436f183e68e07877b285a838db11a</td>\n",
       "      <td>2017-09-20 23:43:48</td>\n",
       "      <td>871766c5855e863f6eccc05f988b23cb</td>\n",
       "      <td>5.0</td>\n",
       "    </tr>\n",
       "    <tr>\n",
       "      <th>1</th>\n",
       "      <td>00018f77f2f0320c557190d7a144bdd3</td>\n",
       "      <td>259.83</td>\n",
       "      <td>f6dd3ec061db4e3987629fe6b26e5cce</td>\n",
       "      <td>2017-05-12 16:04:24</td>\n",
       "      <td>eb28e67c4c0b83846050ddfb8a35d051</td>\n",
       "      <td>4.0</td>\n",
       "    </tr>\n",
       "    <tr>\n",
       "      <th>2</th>\n",
       "      <td>000229ec398224ef6ca0657da4fc703e</td>\n",
       "      <td>216.87</td>\n",
       "      <td>6489ae5e4333f3693df5ad4372dab6d3</td>\n",
       "      <td>2018-01-22 13:19:16</td>\n",
       "      <td>3818d81c6709e39d06b2738a8d3a2474</td>\n",
       "      <td>5.0</td>\n",
       "    </tr>\n",
       "    <tr>\n",
       "      <th>3</th>\n",
       "      <td>00024acbcdf0a6daa1e931b038114c75</td>\n",
       "      <td>25.78</td>\n",
       "      <td>d4eb9395c8c0431ee92fce09860c5a06</td>\n",
       "      <td>2018-08-14 13:32:39</td>\n",
       "      <td>af861d436cfc08b2c2ddefd0ba074622</td>\n",
       "      <td>4.0</td>\n",
       "    </tr>\n",
       "    <tr>\n",
       "      <th>4</th>\n",
       "      <td>00042b26cf59d7ce69dfabb4e55b4fd9</td>\n",
       "      <td>218.04</td>\n",
       "      <td>58dbd0b2d70206bf40e62cd34e84d795</td>\n",
       "      <td>2017-03-01 16:42:31</td>\n",
       "      <td>64b576fb70d441e8f1b2d7d446e483c5</td>\n",
       "      <td>5.0</td>\n",
       "    </tr>\n",
       "  </tbody>\n",
       "</table>\n",
       "</div>"
      ],
      "text/plain": [
       "                           order_id   price                       customer_id  \\\n",
       "0  00010242fe8c5a6d1ba2dd792cb16214   72.19  3ce436f183e68e07877b285a838db11a   \n",
       "1  00018f77f2f0320c557190d7a144bdd3  259.83  f6dd3ec061db4e3987629fe6b26e5cce   \n",
       "2  000229ec398224ef6ca0657da4fc703e  216.87  6489ae5e4333f3693df5ad4372dab6d3   \n",
       "3  00024acbcdf0a6daa1e931b038114c75   25.78  d4eb9395c8c0431ee92fce09860c5a06   \n",
       "4  00042b26cf59d7ce69dfabb4e55b4fd9  218.04  58dbd0b2d70206bf40e62cd34e84d795   \n",
       "\n",
       "  order_delivered_customer_date                customer_unique_id  \\\n",
       "0           2017-09-20 23:43:48  871766c5855e863f6eccc05f988b23cb   \n",
       "1           2017-05-12 16:04:24  eb28e67c4c0b83846050ddfb8a35d051   \n",
       "2           2018-01-22 13:19:16  3818d81c6709e39d06b2738a8d3a2474   \n",
       "3           2018-08-14 13:32:39  af861d436cfc08b2c2ddefd0ba074622   \n",
       "4           2017-03-01 16:42:31  64b576fb70d441e8f1b2d7d446e483c5   \n",
       "\n",
       "   review_score  \n",
       "0           5.0  \n",
       "1           4.0  \n",
       "2           5.0  \n",
       "3           4.0  \n",
       "4           5.0  "
      ]
     },
     "execution_count": 10,
     "metadata": {},
     "output_type": "execute_result"
    }
   ],
   "source": [
    "order_4 = order_3.merge(review_2,on='order_id', how='left')\n",
    "order_4.head()"
   ]
  },
  {
   "cell_type": "code",
   "execution_count": 11,
   "id": "afa6cd8a",
   "metadata": {},
   "outputs": [],
   "source": [
    "order_4['order_delivered_customer_date'] = pd.to_datetime(order_4['order_delivered_customer_date']).astype('datetime64[D]')\n",
    "\n",
    "order_4['nb_days'] = (datetime.now() - order_4['order_delivered_customer_date']).astype('timedelta64[D]')\n",
    "\n",
    "order_4 = order_4.dropna()"
   ]
  },
  {
   "cell_type": "code",
   "execution_count": 52,
   "id": "8561b8c0",
   "metadata": {},
   "outputs": [
    {
     "name": "stdout",
     "output_type": "stream",
     "text": [
      "<class 'pandas.core.frame.DataFrame'>\n",
      "Int64Index: 95830 entries, 0 to 98665\n",
      "Data columns (total 7 columns):\n",
      " #   Column                         Non-Null Count  Dtype         \n",
      "---  ------                         --------------  -----         \n",
      " 0   order_id                       95830 non-null  object        \n",
      " 1   price                          95830 non-null  float64       \n",
      " 2   customer_id                    95830 non-null  object        \n",
      " 3   order_delivered_customer_date  95830 non-null  datetime64[ns]\n",
      " 4   customer_unique_id             95830 non-null  object        \n",
      " 5   review_score                   95830 non-null  float64       \n",
      " 6   nb_days                        95830 non-null  float64       \n",
      "dtypes: datetime64[ns](1), float64(3), object(3)\n",
      "memory usage: 5.8+ MB\n"
     ]
    }
   ],
   "source": [
    "order_4.info()"
   ]
  },
  {
   "cell_type": "code",
   "execution_count": 13,
   "id": "fad599a4",
   "metadata": {},
   "outputs": [
    {
     "data": {
      "text/plain": [
       "order_id                         0.0\n",
       "price                            0.0\n",
       "customer_id                      0.0\n",
       "order_delivered_customer_date    0.0\n",
       "customer_unique_id               0.0\n",
       "review_score                     0.0\n",
       "nb_days                          0.0\n",
       "dtype: float64"
      ]
     },
     "execution_count": 13,
     "metadata": {},
     "output_type": "execute_result"
    }
   ],
   "source": [
    "order_4.isna().mean()"
   ]
  },
  {
   "cell_type": "markdown",
   "id": "671f213b",
   "metadata": {},
   "source": [
    "# Fonction RFM"
   ]
  },
  {
   "cell_type": "code",
   "execution_count": 21,
   "id": "96dc6abf",
   "metadata": {},
   "outputs": [],
   "source": [
    "def fonction_rfm (data):\n",
    "    \n",
    "    rfm = data.groupby('customer_unique_id').agg({'nb_days' : np.min, # minimum soit le dernier achat \n",
    "                                      'order_delivered_customer_date' : len, # fréquence\n",
    "                                      'price' : np.sum, # Somme des montants des achats\n",
    "                                      'review_score'  : np.mean    # Moyenne des notes clients\n",
    "                                     }).reset_index()\n",
    "\n",
    "    rfm = rfm.rename(columns={'nb_days' : 'r', # récence\n",
    "            'order_delivered_customer_date' : 'f', # fréquence\n",
    "            'price' : 'm' }) # montant\n",
    "    \n",
    "    rfm = rfm.dropna() # Suppression des NA\n",
    "    \n",
    "    # Score par quantile\n",
    "#     rfm['rq'] = pd.cut(rfm.r,bins=np.quantile(rfm.r, q = [0,0.33,0.66,1]),labels=['2','1','0'])#.astype('str')\n",
    "\n",
    "#     rfm['fq'] = pd.cut(rfm.f, bins= [0,1,2,100], labels=['0','1','2'])#.astype('str')\n",
    "\n",
    "#     rfm['mq'] = pd.cut(rfm.m,bins=np.quantile(rfm.m, q = [0,0.33,0.66,1]),labels=['0','1','2'])#.astype('str')\n",
    "\n",
    "    # Format string pour les sommer \n",
    "\n",
    "#     rfm[['rq','fq','mq']] =  rfm[['rq','fq','mq']].astype('str')\n",
    "\n",
    "    # rfm['rq'] = rfm['rq'].astype('str')\n",
    "    # rfm['fq'] = rfm['fq'].astype('str')\n",
    "    # rfm['mq'] = rfm['mq'].astype('str')\n",
    "\n",
    "    # Passage en log \n",
    "    rfm['log_r'] = np.log(rfm.r)\n",
    "    rfm['log_f'] = np.log(rfm.f)\n",
    "    rfm['log_m'] = np.log(rfm.m)\n",
    "\n",
    "\n",
    "    # Score composite\n",
    "#     rfm['score'] = rfm['rq'] + rfm['fq'] + rfm['mq']\n",
    "    \n",
    "    \n",
    "    return rfm\n",
    "    "
   ]
  },
  {
   "cell_type": "code",
   "execution_count": 22,
   "id": "73dc6f13",
   "metadata": {
    "scrolled": false
   },
   "outputs": [
    {
     "data": {
      "text/html": [
       "<div>\n",
       "<style scoped>\n",
       "    .dataframe tbody tr th:only-of-type {\n",
       "        vertical-align: middle;\n",
       "    }\n",
       "\n",
       "    .dataframe tbody tr th {\n",
       "        vertical-align: top;\n",
       "    }\n",
       "\n",
       "    .dataframe thead th {\n",
       "        text-align: right;\n",
       "    }\n",
       "</style>\n",
       "<table border=\"1\" class=\"dataframe\">\n",
       "  <thead>\n",
       "    <tr style=\"text-align: right;\">\n",
       "      <th></th>\n",
       "      <th>customer_unique_id</th>\n",
       "      <th>r</th>\n",
       "      <th>f</th>\n",
       "      <th>m</th>\n",
       "      <th>review_score</th>\n",
       "      <th>log_r</th>\n",
       "      <th>log_f</th>\n",
       "      <th>log_m</th>\n",
       "    </tr>\n",
       "  </thead>\n",
       "  <tbody>\n",
       "    <tr>\n",
       "      <th>0</th>\n",
       "      <td>0000366f3b9a7992bf8c76cfdf3221e2</td>\n",
       "      <td>1832.0</td>\n",
       "      <td>1</td>\n",
       "      <td>141.90</td>\n",
       "      <td>5.0</td>\n",
       "      <td>7.513164</td>\n",
       "      <td>0.0</td>\n",
       "      <td>4.955123</td>\n",
       "    </tr>\n",
       "    <tr>\n",
       "      <th>1</th>\n",
       "      <td>0000b849f77a49e4a4ce2b2a4ca5be3f</td>\n",
       "      <td>1838.0</td>\n",
       "      <td>1</td>\n",
       "      <td>27.19</td>\n",
       "      <td>4.0</td>\n",
       "      <td>7.516433</td>\n",
       "      <td>0.0</td>\n",
       "      <td>3.302849</td>\n",
       "    </tr>\n",
       "    <tr>\n",
       "      <th>2</th>\n",
       "      <td>0000f46a3911fa3c0805444483337064</td>\n",
       "      <td>2238.0</td>\n",
       "      <td>1</td>\n",
       "      <td>86.22</td>\n",
       "      <td>3.0</td>\n",
       "      <td>7.713338</td>\n",
       "      <td>0.0</td>\n",
       "      <td>4.456902</td>\n",
       "    </tr>\n",
       "    <tr>\n",
       "      <th>3</th>\n",
       "      <td>0000f6ccb0745a6a4b88665a16c9f078</td>\n",
       "      <td>2028.0</td>\n",
       "      <td>1</td>\n",
       "      <td>43.62</td>\n",
       "      <td>4.0</td>\n",
       "      <td>7.614805</td>\n",
       "      <td>0.0</td>\n",
       "      <td>3.775516</td>\n",
       "    </tr>\n",
       "    <tr>\n",
       "      <th>4</th>\n",
       "      <td>0004aac84e0df4da2b147fca70cf8255</td>\n",
       "      <td>2002.0</td>\n",
       "      <td>1</td>\n",
       "      <td>196.89</td>\n",
       "      <td>5.0</td>\n",
       "      <td>7.601902</td>\n",
       "      <td>0.0</td>\n",
       "      <td>5.282645</td>\n",
       "    </tr>\n",
       "    <tr>\n",
       "      <th>...</th>\n",
       "      <td>...</td>\n",
       "      <td>...</td>\n",
       "      <td>...</td>\n",
       "      <td>...</td>\n",
       "      <td>...</td>\n",
       "      <td>...</td>\n",
       "      <td>...</td>\n",
       "      <td>...</td>\n",
       "    </tr>\n",
       "    <tr>\n",
       "      <th>92748</th>\n",
       "      <td>fffcf5a5ff07b0908bd4e2dbc735a684</td>\n",
       "      <td>2146.0</td>\n",
       "      <td>1</td>\n",
       "      <td>2067.42</td>\n",
       "      <td>5.0</td>\n",
       "      <td>7.671361</td>\n",
       "      <td>0.0</td>\n",
       "      <td>7.634057</td>\n",
       "    </tr>\n",
       "    <tr>\n",
       "      <th>92749</th>\n",
       "      <td>fffea47cd6d3cc0a88bd621562a9d061</td>\n",
       "      <td>1959.0</td>\n",
       "      <td>1</td>\n",
       "      <td>84.58</td>\n",
       "      <td>4.0</td>\n",
       "      <td>7.580189</td>\n",
       "      <td>0.0</td>\n",
       "      <td>4.437698</td>\n",
       "    </tr>\n",
       "    <tr>\n",
       "      <th>92750</th>\n",
       "      <td>ffff371b4d645b6ecea244b27531430a</td>\n",
       "      <td>2280.0</td>\n",
       "      <td>1</td>\n",
       "      <td>112.46</td>\n",
       "      <td>5.0</td>\n",
       "      <td>7.731931</td>\n",
       "      <td>0.0</td>\n",
       "      <td>4.722598</td>\n",
       "    </tr>\n",
       "    <tr>\n",
       "      <th>92751</th>\n",
       "      <td>ffff5962728ec6157033ef9805bacc48</td>\n",
       "      <td>1834.0</td>\n",
       "      <td>1</td>\n",
       "      <td>133.69</td>\n",
       "      <td>5.0</td>\n",
       "      <td>7.514255</td>\n",
       "      <td>0.0</td>\n",
       "      <td>4.895524</td>\n",
       "    </tr>\n",
       "    <tr>\n",
       "      <th>92752</th>\n",
       "      <td>ffffd2657e2aad2907e67c3e9daecbeb</td>\n",
       "      <td>2203.0</td>\n",
       "      <td>1</td>\n",
       "      <td>71.56</td>\n",
       "      <td>5.0</td>\n",
       "      <td>7.697575</td>\n",
       "      <td>0.0</td>\n",
       "      <td>4.270536</td>\n",
       "    </tr>\n",
       "  </tbody>\n",
       "</table>\n",
       "<p>92753 rows × 8 columns</p>\n",
       "</div>"
      ],
      "text/plain": [
       "                     customer_unique_id       r  f        m  review_score  \\\n",
       "0      0000366f3b9a7992bf8c76cfdf3221e2  1832.0  1   141.90           5.0   \n",
       "1      0000b849f77a49e4a4ce2b2a4ca5be3f  1838.0  1    27.19           4.0   \n",
       "2      0000f46a3911fa3c0805444483337064  2238.0  1    86.22           3.0   \n",
       "3      0000f6ccb0745a6a4b88665a16c9f078  2028.0  1    43.62           4.0   \n",
       "4      0004aac84e0df4da2b147fca70cf8255  2002.0  1   196.89           5.0   \n",
       "...                                 ...     ... ..      ...           ...   \n",
       "92748  fffcf5a5ff07b0908bd4e2dbc735a684  2146.0  1  2067.42           5.0   \n",
       "92749  fffea47cd6d3cc0a88bd621562a9d061  1959.0  1    84.58           4.0   \n",
       "92750  ffff371b4d645b6ecea244b27531430a  2280.0  1   112.46           5.0   \n",
       "92751  ffff5962728ec6157033ef9805bacc48  1834.0  1   133.69           5.0   \n",
       "92752  ffffd2657e2aad2907e67c3e9daecbeb  2203.0  1    71.56           5.0   \n",
       "\n",
       "          log_r  log_f     log_m  \n",
       "0      7.513164    0.0  4.955123  \n",
       "1      7.516433    0.0  3.302849  \n",
       "2      7.713338    0.0  4.456902  \n",
       "3      7.614805    0.0  3.775516  \n",
       "4      7.601902    0.0  5.282645  \n",
       "...         ...    ...       ...  \n",
       "92748  7.671361    0.0  7.634057  \n",
       "92749  7.580189    0.0  4.437698  \n",
       "92750  7.731931    0.0  4.722598  \n",
       "92751  7.514255    0.0  4.895524  \n",
       "92752  7.697575    0.0  4.270536  \n",
       "\n",
       "[92753 rows x 8 columns]"
      ]
     },
     "execution_count": 22,
     "metadata": {},
     "output_type": "execute_result"
    }
   ],
   "source": [
    "# Test fonction rfm\n",
    "rfm = fonction_rfm(order_4)\n",
    "rfm"
   ]
  },
  {
   "cell_type": "markdown",
   "id": "05fe06cb",
   "metadata": {},
   "source": [
    "# Fonction K means"
   ]
  },
  {
   "cell_type": "code",
   "execution_count": 23,
   "id": "f7c5bc3d",
   "metadata": {},
   "outputs": [],
   "source": [
    "from sklearn.cluster import KMeans\n",
    "from sklearn.datasets import make_blobs\n",
    "\n",
    "from yellowbrick.cluster import KElbowVisualizer, SilhouetteVisualizer\n",
    "\n",
    "from sklearn.metrics.cluster import adjusted_rand_score"
   ]
  },
  {
   "cell_type": "code",
   "execution_count": 24,
   "id": "b2262112",
   "metadata": {},
   "outputs": [
    {
     "data": {
      "image/png": "[encoded data removed]",
      "text/plain": [
       "<Figure size 800x550 with 2 Axes>"
      ]
     },
     "metadata": {},
     "output_type": "display_data"
    }
   ],
   "source": [
    "# Instantiate the clustering model and visualizer\n",
    "model = KMeans()\n",
    "\n",
    "X = np.array(rfm[['log_r','log_f','log_m','review_score']])\n",
    "\n",
    "visualizer = KElbowVisualizer(model, k=(2,12))\n",
    "\n",
    "visualizer.fit(X)    # Fit the data to the visualizer\n",
    "visualizer.poof()    # Draw/show/poof the data\n",
    "\n",
    "plt.show()"
   ]
  },
  {
   "cell_type": "code",
   "execution_count": 25,
   "id": "5339e247",
   "metadata": {},
   "outputs": [],
   "source": [
    "def cluster_kmeans(rfm = rfm , k=5):\n",
    "    \n",
    "    # Features : la version log rfm\n",
    "    X = np.array(rfm[['log_r','log_f','log_m','review_score']])\n",
    "    \n",
    "    # Model Kmeans défaut k = 5 \n",
    "    model = KMeans(n_clusters = k, random_state=1990).fit(X)\n",
    "    y_pred = model.predict(X)\n",
    "    \n",
    "    return y_pred "
   ]
  },
  {
   "cell_type": "code",
   "execution_count": 26,
   "id": "48b20691",
   "metadata": {},
   "outputs": [],
   "source": [
    "y_pred  = cluster_kmeans(rfm,5)"
   ]
  },
  {
   "cell_type": "code",
   "execution_count": 27,
   "id": "20f0c891",
   "metadata": {},
   "outputs": [],
   "source": [
    "rfm['cluster'] = y_pred"
   ]
  },
  {
   "cell_type": "code",
   "execution_count": 28,
   "id": "e1281fa8",
   "metadata": {
    "scrolled": true
   },
   "outputs": [
    {
     "data": {
      "text/plain": [
       "2    27387\n",
       "0    22966\n",
       "3    20578\n",
       "1    11816\n",
       "4    10006\n",
       "Name: cluster, dtype: int64"
      ]
     },
     "execution_count": 28,
     "metadata": {},
     "output_type": "execute_result"
    }
   ],
   "source": [
    "rfm['cluster'].value_counts()"
   ]
  },
  {
   "cell_type": "markdown",
   "id": "8fd2da86",
   "metadata": {},
   "source": [
    "# ARI"
   ]
  },
  {
   "cell_type": "code",
   "execution_count": 29,
   "id": "30c5f91c",
   "metadata": {},
   "outputs": [
    {
     "data": {
      "text/plain": [
       "DatetimeIndex(['2019-02-28', '2019-03-31', '2019-04-30', '2019-05-31',\n",
       "               '2019-06-30', '2019-07-31', '2019-08-31', '2019-09-30',\n",
       "               '2019-10-31', '2019-11-30', '2019-12-31', '2020-01-31'],\n",
       "              dtype='datetime64[ns]', freq='M')"
      ]
     },
     "execution_count": 29,
     "metadata": {},
     "output_type": "execute_result"
    }
   ],
   "source": [
    "pd.date_range(start='2/2/2019', end='2/08/2020', freq = \"M\")\n"
   ]
  },
  {
   "cell_type": "code",
   "execution_count": 30,
   "id": "d4f87d7b",
   "metadata": {},
   "outputs": [],
   "source": [
    "df = order_4.copy()\n",
    "\n",
    "df['order_delivered_customer_date'] = pd.to_datetime(df['order_delivered_customer_date'] )"
   ]
  },
  {
   "cell_type": "code",
   "execution_count": 31,
   "id": "dd954e1c",
   "metadata": {
    "scrolled": true
   },
   "outputs": [
    {
     "name": "stdout",
     "output_type": "stream",
     "text": [
      "Date de début :  2016-10-11 00:00:00\n",
      "Date de fin :  2018-10-17 00:00:00\n"
     ]
    }
   ],
   "source": [
    "print('Date de début : ',df['order_delivered_customer_date'].min()) \n",
    "print('Date de fin : ',df['order_delivered_customer_date'].max()) "
   ]
  },
  {
   "cell_type": "markdown",
   "id": "3e551f44",
   "metadata": {},
   "source": [
    "## Baseline \n",
    "    1ère année comme référence \n",
    "    Teste ARI sur différentes périodes (mois) sur la deuxième année "
   ]
  },
  {
   "cell_type": "code",
   "execution_count": 32,
   "id": "bde833e0",
   "metadata": {
    "scrolled": true
   },
   "outputs": [
    {
     "data": {
      "text/plain": [
       "(26037, 7)"
      ]
     },
     "execution_count": 32,
     "metadata": {},
     "output_type": "execute_result"
    }
   ],
   "source": [
    "# 1ere année\n",
    "start_date = pd.to_datetime('10/11/2016') # M J Y\n",
    "end_date = pd.to_datetime('10/11/2017')\n",
    "\n",
    "# Dernière date dans nos données \n",
    "final_date = pd.to_datetime('10/17/2018')\n",
    "\n",
    "\n",
    "baseline = df.loc[(df['order_delivered_customer_date'] > start_date) &\n",
    "                  (df['order_delivered_customer_date'] < end_date)].copy()\n",
    "\n",
    "baseline.shape"
   ]
  },
  {
   "cell_type": "markdown",
   "id": "2547fdd4",
   "metadata": {},
   "source": [
    "### Test 1 semaine\n",
    "    Baseline prédict ==> s1"
   ]
  },
  {
   "cell_type": "code",
   "execution_count": 33,
   "id": "8775529d",
   "metadata": {
    "scrolled": true
   },
   "outputs": [
    {
     "data": {
      "text/plain": [
       "Timestamp('2017-10-15 00:00:00', freq='W-SUN')"
      ]
     },
     "execution_count": 33,
     "metadata": {},
     "output_type": "execute_result"
    }
   ],
   "source": [
    "pd.date_range(start=end_date, freq = \"W\", periods = 1)[0]"
   ]
  },
  {
   "cell_type": "code",
   "execution_count": 34,
   "id": "ce8173bc",
   "metadata": {},
   "outputs": [],
   "source": [
    "t1 = pd.to_datetime('10/18/2017')\n",
    "\n",
    "s1 = df.loc[(df['order_delivered_customer_date'] > end_date) &\n",
    "       (df['order_delivered_customer_date'] < t1)]\n",
    "\n",
    "test = df.loc[\n",
    "       (df['order_delivered_customer_date'] < t1)]\n",
    "\n",
    "#s1"
   ]
  },
  {
   "cell_type": "code",
   "execution_count": 35,
   "id": "d63cd4bc",
   "metadata": {},
   "outputs": [
    {
     "data": {
      "text/plain": [
       "(95830, 7)"
      ]
     },
     "execution_count": 35,
     "metadata": {},
     "output_type": "execute_result"
    }
   ],
   "source": [
    "df.shape"
   ]
  },
  {
   "cell_type": "code",
   "execution_count": 36,
   "id": "d18865b1",
   "metadata": {},
   "outputs": [],
   "source": [
    "rfm_baseline = fonction_rfm(baseline)\n",
    "#rfm_s1 = fonction_rfm(s1)\n",
    "rfm_test = fonction_rfm(test)\n",
    "\n",
    "#rfm_baseline.merge(rfm_s1)\n",
    "#rfm['cluster'] = cluster_kmeans(rfm_baseline)\n",
    "#rfm_baseline"
   ]
  },
  {
   "cell_type": "code",
   "execution_count": 37,
   "id": "b059f628",
   "metadata": {},
   "outputs": [
    {
     "data": {
      "text/plain": [
       "((26951, 7), (26037, 7), (720, 7))"
      ]
     },
     "execution_count": 37,
     "metadata": {},
     "output_type": "execute_result"
    }
   ],
   "source": [
    "test.shape,baseline.shape,s1.shape"
   ]
  },
  {
   "cell_type": "code",
   "execution_count": 38,
   "id": "8c1016b5",
   "metadata": {},
   "outputs": [
    {
     "data": {
      "text/plain": [
       "array([2, 2, 2, ..., 3, 0, 4])"
      ]
     },
     "execution_count": 38,
     "metadata": {},
     "output_type": "execute_result"
    }
   ],
   "source": [
    "cluster_kmeans(rfm_baseline)"
   ]
  },
  {
   "cell_type": "code",
   "execution_count": 39,
   "id": "a71c3bdf",
   "metadata": {},
   "outputs": [
    {
     "data": {
      "text/plain": [
       "(720, 7)"
      ]
     },
     "execution_count": 39,
     "metadata": {},
     "output_type": "execute_result"
    }
   ],
   "source": [
    "s1.shape"
   ]
  },
  {
   "cell_type": "code",
   "execution_count": 40,
   "id": "12aacc84",
   "metadata": {},
   "outputs": [],
   "source": [
    "#cluster_kmeans_predict(rfm,rfm_s1)\n",
    "\n",
    "rfm_baseline = fonction_rfm(baseline)\n",
    "#rfm_s1 = fonction_rfm(s1)\n",
    "rfm_test = fonction_rfm(test)"
   ]
  },
  {
   "cell_type": "code",
   "execution_count": 41,
   "id": "f853cdaa",
   "metadata": {},
   "outputs": [],
   "source": [
    "\n",
    "def cluster_kmeans_predict(rfm = rfm_baseline ,s1 = rfm_test , k=5):\n",
    "    \n",
    "    # Features : la version log rfm + review\n",
    "    #features = ['log_r','log_f','log_m','review_score']\n",
    "    \n",
    "    features = ['r','f','m','review_score']\n",
    "    \n",
    "    X_baseline = np.array(rfm[features]) # t0\n",
    "    \n",
    "    X_test = np.array(s1[features]) # t+1\n",
    "    \n",
    "    \n",
    "    # Model Kmeans défaut k = 5 \n",
    "    \n",
    "    # 1. On entraine la baseline \n",
    "    model = KMeans(n_clusters = k, random_state=1990).fit(X_baseline)\n",
    "    \n",
    "\n",
    "    # 2. Prédiction sur t+1\n",
    "    pred_s1 = model.predict(X_test)\n",
    "    \n",
    "    # 3. fit & prediction sur t+1\n",
    "    \n",
    "    model2 = KMeans(n_clusters = k, random_state=1990).fit(X_test)\n",
    "    \n",
    "    pred_test = model2.predict(X_test)\n",
    "    \n",
    "    \n",
    "    \n",
    "    print(adjusted_rand_score(pred_test, pred_s1))\n",
    "    \n",
    "    result = (adjusted_rand_score(pred_s1, pred_test))\n",
    "    \n",
    "    return result"
   ]
  },
  {
   "cell_type": "code",
   "execution_count": 42,
   "id": "7bb6c6f6",
   "metadata": {
    "scrolled": true
   },
   "outputs": [],
   "source": [
    "# pred_test,pred_s1"
   ]
  },
  {
   "cell_type": "code",
   "execution_count": 43,
   "id": "ba528e72",
   "metadata": {},
   "outputs": [
    {
     "name": "stdout",
     "output_type": "stream",
     "text": [
      "0.23616579274738728\n"
     ]
    },
    {
     "data": {
      "text/plain": [
       "0.23616579274738728"
      ]
     },
     "execution_count": 43,
     "metadata": {},
     "output_type": "execute_result"
    }
   ],
   "source": [
    "cluster_kmeans_predict(rfm_baseline,rfm_test)"
   ]
  },
  {
   "cell_type": "markdown",
   "id": "f55077ea",
   "metadata": {},
   "source": [
    "### Test mois"
   ]
  },
  {
   "cell_type": "code",
   "execution_count": 44,
   "id": "ef7ef91f",
   "metadata": {},
   "outputs": [
    {
     "data": {
      "text/plain": [
       "(Timestamp('2018-10-17 00:00:00'), Timestamp('2017-10-11 00:00:00'))"
      ]
     },
     "execution_count": 44,
     "metadata": {},
     "output_type": "execute_result"
    }
   ],
   "source": [
    "final_date, end_date"
   ]
  },
  {
   "cell_type": "code",
   "execution_count": 45,
   "id": "2aafe2bc",
   "metadata": {
    "scrolled": false
   },
   "outputs": [
    {
     "data": {
      "text/plain": [
       "DatetimeIndex(['2017-10-31', '2017-11-30', '2017-12-31', '2018-01-31',\n",
       "               '2018-02-28', '2018-03-31', '2018-04-30', '2018-05-31',\n",
       "               '2018-06-30', '2018-07-31', '2018-08-31', '2018-09-30'],\n",
       "              dtype='datetime64[ns]', freq='M')"
      ]
     },
     "execution_count": 45,
     "metadata": {},
     "output_type": "execute_result"
    }
   ],
   "source": [
    "pd.date_range(start=end_date, freq = \"M\", end = final_date)"
   ]
  },
  {
   "cell_type": "code",
   "execution_count": 46,
   "id": "bbdf5b06",
   "metadata": {
    "scrolled": false
   },
   "outputs": [
    {
     "data": {
      "text/plain": [
       "DatetimeIndex(['2017-10-11', '2017-10-26', '2017-11-10', '2017-11-25',\n",
       "               '2017-12-10', '2017-12-25', '2018-01-09', '2018-01-24',\n",
       "               '2018-02-08', '2018-02-23', '2018-03-10', '2018-03-25',\n",
       "               '2018-04-09', '2018-04-24', '2018-05-09', '2018-05-24',\n",
       "               '2018-06-08', '2018-06-23', '2018-07-08', '2018-07-23',\n",
       "               '2018-08-07', '2018-08-22', '2018-09-06', '2018-09-21',\n",
       "               '2018-10-06'],\n",
       "              dtype='datetime64[ns]', freq='15D')"
      ]
     },
     "execution_count": 46,
     "metadata": {},
     "output_type": "execute_result"
    }
   ],
   "source": [
    "futur_mois = pd.date_range(start=end_date, freq = \"15D\", end = final_date)\n",
    "futur_mois"
   ]
  },
  {
   "cell_type": "code",
   "execution_count": 47,
   "id": "4ad58300",
   "metadata": {
    "scrolled": false
   },
   "outputs": [
    {
     "name": "stdout",
     "output_type": "stream",
     "text": [
      "0.999800517829632\n",
      "(25305, 8) (25307, 8)\n",
      "0.2399163143100465\n",
      "(25305, 8) (27470, 8)\n",
      "0.2456931249316757\n",
      "(25305, 8) (29447, 8)\n",
      "0.7152895155493951\n",
      "(25305, 8) (31591, 8)\n",
      "0.6911942105930391\n",
      "(25305, 8) (34836, 8)\n",
      "0.6200721266781403\n",
      "(25305, 8) (38418, 8)\n",
      "0.5451125939144437\n",
      "(25305, 8) (40985, 8)\n",
      "0.5138225281383395\n",
      "(25305, 8) (44099, 8)\n",
      "0.5059681573901372\n",
      "(25305, 8) (47488, 8)\n",
      "0.5015873478108188\n",
      "(25305, 8) (50330, 8)\n",
      "0.49089225736394637\n",
      "(25305, 8) (53602, 8)\n",
      "0.4773485698742036\n",
      "(25305, 8) (56722, 8)\n",
      "0.4441373494948403\n",
      "(25305, 8) (60082, 8)\n",
      "0.45757103805524024\n",
      "(25305, 8) (63926, 8)\n",
      "0.4042262204706068\n",
      "(25305, 8) (67692, 8)\n",
      "0.3969030720208367\n",
      "(25305, 8) (71855, 8)\n",
      "0.40173288613503366\n",
      "(25305, 8) (74116, 8)\n",
      "0.40229175274906526\n",
      "(25305, 8) (77522, 8)\n",
      "0.38427418918427775\n",
      "(25305, 8) (80434, 8)\n",
      "0.384017141272761\n",
      "(25305, 8) (82228, 8)\n",
      "0.39443100852530394\n",
      "(25305, 8) (85956, 8)\n",
      "0.3704811609238461\n",
      "(25305, 8) (90023, 8)\n",
      "0.323252578911371\n",
      "(25305, 8) (92726, 8)\n",
      "0.3323990991486437\n",
      "(25305, 8) (92746, 8)\n",
      "0.3335205060230616\n",
      "(25305, 8) (92751, 8)\n"
     ]
    }
   ],
   "source": [
    "res = []\n",
    "\n",
    "for t in futur_mois:\n",
    "\n",
    "    testing = df.loc[(df['order_delivered_customer_date'] < t)]\n",
    "    \n",
    "    # fonction rfm\n",
    "    \n",
    "    rfm_testing = fonction_rfm(testing)\n",
    "        \n",
    "    res.append(cluster_kmeans_predict(rfm_baseline,rfm_testing,k=5))\n",
    "    \n",
    "    print(rfm_baseline.shape,rfm_testing.shape)\n",
    "    \n"
   ]
  },
  {
   "cell_type": "code",
   "execution_count": 48,
   "id": "983f4175",
   "metadata": {
    "scrolled": false
   },
   "outputs": [
    {
     "data": {
      "text/plain": [
       "[]"
      ]
     },
     "execution_count": 48,
     "metadata": {},
     "output_type": "execute_result"
    },
    {
     "data": {
      "image/png": "[encoded data removed]",
      "text/plain": [
       "<Figure size 800x550 with 1 Axes>"
      ]
     },
     "metadata": {},
     "output_type": "display_data"
    }
   ],
   "source": [
    "pd.DataFrame({'res' : res }, index = futur_mois).plot()\n",
    "plt.plot()"
   ]
  },
  {
   "cell_type": "markdown",
   "id": "23577beb",
   "metadata": {},
   "source": [
    "## Regardons de plus près \n",
    "    De t0 à décembre 2017"
   ]
  },
  {
   "cell_type": "code",
   "execution_count": 49,
   "id": "61e371c3",
   "metadata": {
    "scrolled": false
   },
   "outputs": [
    {
     "name": "stdout",
     "output_type": "stream",
     "text": [
      "0.999800517829632\n",
      "(25305, 8) (25307, 8)\n",
      "0.23947803562299413\n",
      "(25305, 8) (26756, 8)\n",
      "0.24127485452372022\n",
      "(25305, 8) (28059, 8)\n",
      "0.2456931249316757\n",
      "(25305, 8) (29447, 8)\n",
      "0.7381880606542256\n",
      "(25305, 8) (30494, 8)\n",
      "0.7339711499449582\n",
      "(25305, 8) (32483, 8)\n",
      "0.6911942105930391\n",
      "(25305, 8) (34836, 8)\n",
      "0.6212014501784471\n",
      "(25305, 8) (37424, 8)\n",
      "0.5840676494224137\n",
      "(25305, 8) (39602, 8)\n"
     ]
    }
   ],
   "source": [
    "decembre_2017 = pd.to_datetime('01/01/2018') \n",
    "\n",
    "futur_mois = pd.date_range(start=end_date, freq = \"10D\", end = decembre_2017)\n",
    "futur_mois\n",
    "\n",
    "\n",
    "res = []\n",
    "\n",
    "for t in futur_mois:\n",
    "\n",
    "    testing = df.loc[(df['order_delivered_customer_date'] < t)]\n",
    "    \n",
    "    # fonction rfm\n",
    "    \n",
    "    rfm_testing = fonction_rfm(testing)\n",
    "        \n",
    "    res.append(cluster_kmeans_predict(rfm_baseline,rfm_testing,k=5))\n",
    "    \n",
    "    print(rfm_baseline.shape,rfm_testing.shape)\n",
    "    \n"
   ]
  },
  {
   "cell_type": "code",
   "execution_count": 50,
   "id": "1b164b59",
   "metadata": {
    "scrolled": true
   },
   "outputs": [
    {
     "data": {
      "text/plain": [
       "DatetimeIndex(['2017-10-11', '2017-10-21', '2017-10-31', '2017-11-10',\n",
       "               '2017-11-20', '2017-11-30', '2017-12-10', '2017-12-20',\n",
       "               '2017-12-30'],\n",
       "              dtype='datetime64[ns]', freq='10D')"
      ]
     },
     "execution_count": 50,
     "metadata": {},
     "output_type": "execute_result"
    }
   ],
   "source": [
    "futur_mois"
   ]
  },
  {
   "cell_type": "code",
   "execution_count": 51,
   "id": "b8f94679",
   "metadata": {
    "scrolled": false
   },
   "outputs": [
    {
     "data": {
      "text/plain": [
       "[]"
      ]
     },
     "execution_count": 51,
     "metadata": {},
     "output_type": "execute_result"
    },
    {
     "data": {
      "image/png": "[encoded data removed]",
      "text/plain": [
       "<Figure size 800x550 with 1 Axes>"
      ]
     },
     "metadata": {},
     "output_type": "display_data"
    }
   ],
   "source": [
    "pd.DataFrame({'res' : res }, index = (futur_mois - end_date).astype('timedelta64[D]')).plot()\n",
    "plt.plot()"
   ]
  }
 ],
 "metadata": {
  "kernelspec": {
   "display_name": "Python 3 (ipykernel)",
   "language": "python",
   "name": "python3"
  },
  "language_info": {
   "codemirror_mode": {
    "name": "ipython",
    "version": 3
   },
   "file_extension": ".py",
   "mimetype": "text/x-python",
   "name": "python",
   "nbconvert_exporter": "python",
   "pygments_lexer": "ipython3",
   "version": "3.9.13"
  }
 },
 "nbformat": 4,
 "nbformat_minor": 5
}
