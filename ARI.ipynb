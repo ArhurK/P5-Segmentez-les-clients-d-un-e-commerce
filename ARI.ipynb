{
 "cells": [
  {
   "cell_type": "code",
   "execution_count": 1,
   "id": "103b9fbc",
   "metadata": {},
   "outputs": [],
   "source": [
    "import pandas as pd\n",
    "import numpy as np \n",
    "import matplotlib.pyplot as plt \n",
    "import seaborn as sns\n",
    "from datetime import datetime\n",
    "sns.set_theme(style=\"darkgrid\")\n"
   ]
  },
  {
   "cell_type": "markdown",
   "id": "22abe61a",
   "metadata": {},
   "source": [
    "# Importation\n"
   ]
  },
  {
   "cell_type": "code",
   "execution_count": 2,
   "id": "78323c48",
   "metadata": {},
   "outputs": [],
   "source": [
    "dataset_list = [\n",
    "    'olist_order_reviews_dataset.csv.zip',\n",
    "    'olist_customers_dataset.csv.zip',\n",
    "    'olist_geolocation_dataset.csv.zip',\n",
    "    'olist_order_items_dataset.csv.zip',\n",
    "    'olist_order_payments_dataset.csv.zip'  ,\n",
    "    'olist_orders_dataset.csv.zip',\n",
    "    'olist_products_dataset.csv.zip',\n",
    "    'olist_sellers_dataset.csv',\n",
    "    'product_category_name_translation.csv'\n",
    "]\n",
    "\n",
    "data_name_list = [\n",
    "    'order_reviews',\n",
    "    'customers',\n",
    "    'geolocalisation',\n",
    "    'order_items',\n",
    "    'order_payments',\n",
    "    'orders',\n",
    "    'products',\n",
    "    'sellers',\n",
    "    'translation'\n",
    "]\n",
    "\n",
    "data =   {key : pd.read_csv(path) for key, path in zip(data_name_list, dataset_list)}"
   ]
  },
  {
   "cell_type": "code",
   "execution_count": 3,
   "id": "3db0bc93",
   "metadata": {},
   "outputs": [
    {
     "data": {
      "text/html": [
       "<div>\n",
       "<style scoped>\n",
       "    .dataframe tbody tr th:only-of-type {\n",
       "        vertical-align: middle;\n",
       "    }\n",
       "\n",
       "    .dataframe tbody tr th {\n",
       "        vertical-align: top;\n",
       "    }\n",
       "\n",
       "    .dataframe thead th {\n",
       "        text-align: right;\n",
       "    }\n",
       "</style>\n",
       "<table border=\"1\" class=\"dataframe\">\n",
       "  <thead>\n",
       "    <tr style=\"text-align: right;\">\n",
       "      <th></th>\n",
       "      <th>order_id</th>\n",
       "      <th>customer_id</th>\n",
       "      <th>order_status</th>\n",
       "      <th>order_purchase_timestamp</th>\n",
       "      <th>order_approved_at</th>\n",
       "      <th>order_delivered_carrier_date</th>\n",
       "      <th>order_delivered_customer_date</th>\n",
       "      <th>order_estimated_delivery_date</th>\n",
       "    </tr>\n",
       "  </thead>\n",
       "  <tbody>\n",
       "    <tr>\n",
       "      <th>0</th>\n",
       "      <td>e481f51cbdc54678b7cc49136f2d6af7</td>\n",
       "      <td>9ef432eb6251297304e76186b10a928d</td>\n",
       "      <td>delivered</td>\n",
       "      <td>2017-10-02 10:56:33</td>\n",
       "      <td>2017-10-02 11:07:15</td>\n",
       "      <td>2017-10-04 19:55:00</td>\n",
       "      <td>2017-10-10 21:25:13</td>\n",
       "      <td>2017-10-18 00:00:00</td>\n",
       "    </tr>\n",
       "    <tr>\n",
       "      <th>1</th>\n",
       "      <td>53cdb2fc8bc7dce0b6741e2150273451</td>\n",
       "      <td>b0830fb4747a6c6d20dea0b8c802d7ef</td>\n",
       "      <td>delivered</td>\n",
       "      <td>2018-07-24 20:41:37</td>\n",
       "      <td>2018-07-26 03:24:27</td>\n",
       "      <td>2018-07-26 14:31:00</td>\n",
       "      <td>2018-08-07 15:27:45</td>\n",
       "      <td>2018-08-13 00:00:00</td>\n",
       "    </tr>\n",
       "    <tr>\n",
       "      <th>2</th>\n",
       "      <td>47770eb9100c2d0c44946d9cf07ec65d</td>\n",
       "      <td>41ce2a54c0b03bf3443c3d931a367089</td>\n",
       "      <td>delivered</td>\n",
       "      <td>2018-08-08 08:38:49</td>\n",
       "      <td>2018-08-08 08:55:23</td>\n",
       "      <td>2018-08-08 13:50:00</td>\n",
       "      <td>2018-08-17 18:06:29</td>\n",
       "      <td>2018-09-04 00:00:00</td>\n",
       "    </tr>\n",
       "    <tr>\n",
       "      <th>3</th>\n",
       "      <td>949d5b44dbf5de918fe9c16f97b45f8a</td>\n",
       "      <td>f88197465ea7920adcdbec7375364d82</td>\n",
       "      <td>delivered</td>\n",
       "      <td>2017-11-18 19:28:06</td>\n",
       "      <td>2017-11-18 19:45:59</td>\n",
       "      <td>2017-11-22 13:39:59</td>\n",
       "      <td>2017-12-02 00:28:42</td>\n",
       "      <td>2017-12-15 00:00:00</td>\n",
       "    </tr>\n",
       "    <tr>\n",
       "      <th>4</th>\n",
       "      <td>ad21c59c0840e6cb83a9ceb5573f8159</td>\n",
       "      <td>8ab97904e6daea8866dbdbc4fb7aad2c</td>\n",
       "      <td>delivered</td>\n",
       "      <td>2018-02-13 21:18:39</td>\n",
       "      <td>2018-02-13 22:20:29</td>\n",
       "      <td>2018-02-14 19:46:34</td>\n",
       "      <td>2018-02-16 18:17:02</td>\n",
       "      <td>2018-02-26 00:00:00</td>\n",
       "    </tr>\n",
       "    <tr>\n",
       "      <th>...</th>\n",
       "      <td>...</td>\n",
       "      <td>...</td>\n",
       "      <td>...</td>\n",
       "      <td>...</td>\n",
       "      <td>...</td>\n",
       "      <td>...</td>\n",
       "      <td>...</td>\n",
       "      <td>...</td>\n",
       "    </tr>\n",
       "    <tr>\n",
       "      <th>99436</th>\n",
       "      <td>9c5dedf39a927c1b2549525ed64a053c</td>\n",
       "      <td>39bd1228ee8140590ac3aca26f2dfe00</td>\n",
       "      <td>delivered</td>\n",
       "      <td>2017-03-09 09:54:05</td>\n",
       "      <td>2017-03-09 09:54:05</td>\n",
       "      <td>2017-03-10 11:18:03</td>\n",
       "      <td>2017-03-17 15:08:01</td>\n",
       "      <td>2017-03-28 00:00:00</td>\n",
       "    </tr>\n",
       "    <tr>\n",
       "      <th>99437</th>\n",
       "      <td>63943bddc261676b46f01ca7ac2f7bd8</td>\n",
       "      <td>1fca14ff2861355f6e5f14306ff977a7</td>\n",
       "      <td>delivered</td>\n",
       "      <td>2018-02-06 12:58:58</td>\n",
       "      <td>2018-02-06 13:10:37</td>\n",
       "      <td>2018-02-07 23:22:42</td>\n",
       "      <td>2018-02-28 17:37:56</td>\n",
       "      <td>2018-03-02 00:00:00</td>\n",
       "    </tr>\n",
       "    <tr>\n",
       "      <th>99438</th>\n",
       "      <td>83c1379a015df1e13d02aae0204711ab</td>\n",
       "      <td>1aa71eb042121263aafbe80c1b562c9c</td>\n",
       "      <td>delivered</td>\n",
       "      <td>2017-08-27 14:46:43</td>\n",
       "      <td>2017-08-27 15:04:16</td>\n",
       "      <td>2017-08-28 20:52:26</td>\n",
       "      <td>2017-09-21 11:24:17</td>\n",
       "      <td>2017-09-27 00:00:00</td>\n",
       "    </tr>\n",
       "    <tr>\n",
       "      <th>99439</th>\n",
       "      <td>11c177c8e97725db2631073c19f07b62</td>\n",
       "      <td>b331b74b18dc79bcdf6532d51e1637c1</td>\n",
       "      <td>delivered</td>\n",
       "      <td>2018-01-08 21:28:27</td>\n",
       "      <td>2018-01-08 21:36:21</td>\n",
       "      <td>2018-01-12 15:35:03</td>\n",
       "      <td>2018-01-25 23:32:54</td>\n",
       "      <td>2018-02-15 00:00:00</td>\n",
       "    </tr>\n",
       "    <tr>\n",
       "      <th>99440</th>\n",
       "      <td>66dea50a8b16d9b4dee7af250b4be1a5</td>\n",
       "      <td>edb027a75a1449115f6b43211ae02a24</td>\n",
       "      <td>delivered</td>\n",
       "      <td>2018-03-08 20:57:30</td>\n",
       "      <td>2018-03-09 11:20:28</td>\n",
       "      <td>2018-03-09 22:11:59</td>\n",
       "      <td>2018-03-16 13:08:30</td>\n",
       "      <td>2018-04-03 00:00:00</td>\n",
       "    </tr>\n",
       "  </tbody>\n",
       "</table>\n",
       "<p>99441 rows × 8 columns</p>\n",
       "</div>"
      ],
      "text/plain": [
       "                               order_id                       customer_id  \\\n",
       "0      e481f51cbdc54678b7cc49136f2d6af7  9ef432eb6251297304e76186b10a928d   \n",
       "1      53cdb2fc8bc7dce0b6741e2150273451  b0830fb4747a6c6d20dea0b8c802d7ef   \n",
       "2      47770eb9100c2d0c44946d9cf07ec65d  41ce2a54c0b03bf3443c3d931a367089   \n",
       "3      949d5b44dbf5de918fe9c16f97b45f8a  f88197465ea7920adcdbec7375364d82   \n",
       "4      ad21c59c0840e6cb83a9ceb5573f8159  8ab97904e6daea8866dbdbc4fb7aad2c   \n",
       "...                                 ...                               ...   \n",
       "99436  9c5dedf39a927c1b2549525ed64a053c  39bd1228ee8140590ac3aca26f2dfe00   \n",
       "99437  63943bddc261676b46f01ca7ac2f7bd8  1fca14ff2861355f6e5f14306ff977a7   \n",
       "99438  83c1379a015df1e13d02aae0204711ab  1aa71eb042121263aafbe80c1b562c9c   \n",
       "99439  11c177c8e97725db2631073c19f07b62  b331b74b18dc79bcdf6532d51e1637c1   \n",
       "99440  66dea50a8b16d9b4dee7af250b4be1a5  edb027a75a1449115f6b43211ae02a24   \n",
       "\n",
       "      order_status order_purchase_timestamp    order_approved_at  \\\n",
       "0        delivered      2017-10-02 10:56:33  2017-10-02 11:07:15   \n",
       "1        delivered      2018-07-24 20:41:37  2018-07-26 03:24:27   \n",
       "2        delivered      2018-08-08 08:38:49  2018-08-08 08:55:23   \n",
       "3        delivered      2017-11-18 19:28:06  2017-11-18 19:45:59   \n",
       "4        delivered      2018-02-13 21:18:39  2018-02-13 22:20:29   \n",
       "...            ...                      ...                  ...   \n",
       "99436    delivered      2017-03-09 09:54:05  2017-03-09 09:54:05   \n",
       "99437    delivered      2018-02-06 12:58:58  2018-02-06 13:10:37   \n",
       "99438    delivered      2017-08-27 14:46:43  2017-08-27 15:04:16   \n",
       "99439    delivered      2018-01-08 21:28:27  2018-01-08 21:36:21   \n",
       "99440    delivered      2018-03-08 20:57:30  2018-03-09 11:20:28   \n",
       "\n",
       "      order_delivered_carrier_date order_delivered_customer_date  \\\n",
       "0              2017-10-04 19:55:00           2017-10-10 21:25:13   \n",
       "1              2018-07-26 14:31:00           2018-08-07 15:27:45   \n",
       "2              2018-08-08 13:50:00           2018-08-17 18:06:29   \n",
       "3              2017-11-22 13:39:59           2017-12-02 00:28:42   \n",
       "4              2018-02-14 19:46:34           2018-02-16 18:17:02   \n",
       "...                            ...                           ...   \n",
       "99436          2017-03-10 11:18:03           2017-03-17 15:08:01   \n",
       "99437          2018-02-07 23:22:42           2018-02-28 17:37:56   \n",
       "99438          2017-08-28 20:52:26           2017-09-21 11:24:17   \n",
       "99439          2018-01-12 15:35:03           2018-01-25 23:32:54   \n",
       "99440          2018-03-09 22:11:59           2018-03-16 13:08:30   \n",
       "\n",
       "      order_estimated_delivery_date  \n",
       "0               2017-10-18 00:00:00  \n",
       "1               2018-08-13 00:00:00  \n",
       "2               2018-09-04 00:00:00  \n",
       "3               2017-12-15 00:00:00  \n",
       "4               2018-02-26 00:00:00  \n",
       "...                             ...  \n",
       "99436           2017-03-28 00:00:00  \n",
       "99437           2018-03-02 00:00:00  \n",
       "99438           2017-09-27 00:00:00  \n",
       "99439           2018-02-15 00:00:00  \n",
       "99440           2018-04-03 00:00:00  \n",
       "\n",
       "[99441 rows x 8 columns]"
      ]
     },
     "execution_count": 3,
     "metadata": {},
     "output_type": "execute_result"
    }
   ],
   "source": [
    "data['orders']"
   ]
  },
  {
   "cell_type": "code",
   "execution_count": 4,
   "id": "cc88f695",
   "metadata": {
    "scrolled": false
   },
   "outputs": [
    {
     "data": {
      "text/html": [
       "<div>\n",
       "<style scoped>\n",
       "    .dataframe tbody tr th:only-of-type {\n",
       "        vertical-align: middle;\n",
       "    }\n",
       "\n",
       "    .dataframe tbody tr th {\n",
       "        vertical-align: top;\n",
       "    }\n",
       "\n",
       "    .dataframe thead th {\n",
       "        text-align: right;\n",
       "    }\n",
       "</style>\n",
       "<table border=\"1\" class=\"dataframe\">\n",
       "  <thead>\n",
       "    <tr style=\"text-align: right;\">\n",
       "      <th></th>\n",
       "      <th>order_id</th>\n",
       "      <th>price</th>\n",
       "    </tr>\n",
       "  </thead>\n",
       "  <tbody>\n",
       "    <tr>\n",
       "      <th>0</th>\n",
       "      <td>00010242fe8c5a6d1ba2dd792cb16214</td>\n",
       "      <td>72.19</td>\n",
       "    </tr>\n",
       "    <tr>\n",
       "      <th>1</th>\n",
       "      <td>00018f77f2f0320c557190d7a144bdd3</td>\n",
       "      <td>259.83</td>\n",
       "    </tr>\n",
       "    <tr>\n",
       "      <th>2</th>\n",
       "      <td>000229ec398224ef6ca0657da4fc703e</td>\n",
       "      <td>216.87</td>\n",
       "    </tr>\n",
       "    <tr>\n",
       "      <th>3</th>\n",
       "      <td>00024acbcdf0a6daa1e931b038114c75</td>\n",
       "      <td>25.78</td>\n",
       "    </tr>\n",
       "    <tr>\n",
       "      <th>4</th>\n",
       "      <td>00042b26cf59d7ce69dfabb4e55b4fd9</td>\n",
       "      <td>218.04</td>\n",
       "    </tr>\n",
       "  </tbody>\n",
       "</table>\n",
       "</div>"
      ],
      "text/plain": [
       "                           order_id   price\n",
       "0  00010242fe8c5a6d1ba2dd792cb16214   72.19\n",
       "1  00018f77f2f0320c557190d7a144bdd3  259.83\n",
       "2  000229ec398224ef6ca0657da4fc703e  216.87\n",
       "3  00024acbcdf0a6daa1e931b038114c75   25.78\n",
       "4  00042b26cf59d7ce69dfabb4e55b4fd9  218.04"
      ]
     },
     "execution_count": 4,
     "metadata": {},
     "output_type": "execute_result"
    }
   ],
   "source": [
    "# Prix + fais de livraison\n",
    "data['order_items']['price'] = data['order_items']['price'] + data['order_items']['freight_value']\n",
    "\n",
    "# Agrégation : Somme des prix par order_id\n",
    "order = data['order_items'].groupby('order_id')['price'].sum().to_frame().reset_index()\n",
    "order.head()"
   ]
  },
  {
   "cell_type": "code",
   "execution_count": 5,
   "id": "51c3c75f",
   "metadata": {},
   "outputs": [],
   "source": [
    "order_2 = order.merge(\n",
    "    data['orders'], on ='order_id', how='left')[\n",
    "    ['order_id',\n",
    "     'price',\n",
    "     'customer_id',\n",
    "     'order_purchase_timestamp'\n",
    "     #'order_delivered_customer_date',\n",
    "       ]]"
   ]
  },
  {
   "cell_type": "code",
   "execution_count": 6,
   "id": "c27bfee1",
   "metadata": {
    "scrolled": true
   },
   "outputs": [
    {
     "data": {
      "text/html": [
       "<div>\n",
       "<style scoped>\n",
       "    .dataframe tbody tr th:only-of-type {\n",
       "        vertical-align: middle;\n",
       "    }\n",
       "\n",
       "    .dataframe tbody tr th {\n",
       "        vertical-align: top;\n",
       "    }\n",
       "\n",
       "    .dataframe thead th {\n",
       "        text-align: right;\n",
       "    }\n",
       "</style>\n",
       "<table border=\"1\" class=\"dataframe\">\n",
       "  <thead>\n",
       "    <tr style=\"text-align: right;\">\n",
       "      <th></th>\n",
       "      <th>order_id</th>\n",
       "      <th>price</th>\n",
       "      <th>customer_id</th>\n",
       "      <th>order_purchase_timestamp</th>\n",
       "    </tr>\n",
       "  </thead>\n",
       "  <tbody>\n",
       "    <tr>\n",
       "      <th>0</th>\n",
       "      <td>00010242fe8c5a6d1ba2dd792cb16214</td>\n",
       "      <td>72.19</td>\n",
       "      <td>3ce436f183e68e07877b285a838db11a</td>\n",
       "      <td>2017-09-13 08:59:02</td>\n",
       "    </tr>\n",
       "    <tr>\n",
       "      <th>1</th>\n",
       "      <td>00018f77f2f0320c557190d7a144bdd3</td>\n",
       "      <td>259.83</td>\n",
       "      <td>f6dd3ec061db4e3987629fe6b26e5cce</td>\n",
       "      <td>2017-04-26 10:53:06</td>\n",
       "    </tr>\n",
       "    <tr>\n",
       "      <th>2</th>\n",
       "      <td>000229ec398224ef6ca0657da4fc703e</td>\n",
       "      <td>216.87</td>\n",
       "      <td>6489ae5e4333f3693df5ad4372dab6d3</td>\n",
       "      <td>2018-01-14 14:33:31</td>\n",
       "    </tr>\n",
       "    <tr>\n",
       "      <th>3</th>\n",
       "      <td>00024acbcdf0a6daa1e931b038114c75</td>\n",
       "      <td>25.78</td>\n",
       "      <td>d4eb9395c8c0431ee92fce09860c5a06</td>\n",
       "      <td>2018-08-08 10:00:35</td>\n",
       "    </tr>\n",
       "    <tr>\n",
       "      <th>4</th>\n",
       "      <td>00042b26cf59d7ce69dfabb4e55b4fd9</td>\n",
       "      <td>218.04</td>\n",
       "      <td>58dbd0b2d70206bf40e62cd34e84d795</td>\n",
       "      <td>2017-02-04 13:57:51</td>\n",
       "    </tr>\n",
       "  </tbody>\n",
       "</table>\n",
       "</div>"
      ],
      "text/plain": [
       "                           order_id   price                       customer_id  \\\n",
       "0  00010242fe8c5a6d1ba2dd792cb16214   72.19  3ce436f183e68e07877b285a838db11a   \n",
       "1  00018f77f2f0320c557190d7a144bdd3  259.83  f6dd3ec061db4e3987629fe6b26e5cce   \n",
       "2  000229ec398224ef6ca0657da4fc703e  216.87  6489ae5e4333f3693df5ad4372dab6d3   \n",
       "3  00024acbcdf0a6daa1e931b038114c75   25.78  d4eb9395c8c0431ee92fce09860c5a06   \n",
       "4  00042b26cf59d7ce69dfabb4e55b4fd9  218.04  58dbd0b2d70206bf40e62cd34e84d795   \n",
       "\n",
       "  order_purchase_timestamp  \n",
       "0      2017-09-13 08:59:02  \n",
       "1      2017-04-26 10:53:06  \n",
       "2      2018-01-14 14:33:31  \n",
       "3      2018-08-08 10:00:35  \n",
       "4      2017-02-04 13:57:51  "
      ]
     },
     "execution_count": 6,
     "metadata": {},
     "output_type": "execute_result"
    }
   ],
   "source": [
    "order_2.head()"
   ]
  },
  {
   "cell_type": "code",
   "execution_count": 7,
   "id": "41c5f37e",
   "metadata": {},
   "outputs": [
    {
     "data": {
      "text/html": [
       "<div>\n",
       "<style scoped>\n",
       "    .dataframe tbody tr th:only-of-type {\n",
       "        vertical-align: middle;\n",
       "    }\n",
       "\n",
       "    .dataframe tbody tr th {\n",
       "        vertical-align: top;\n",
       "    }\n",
       "\n",
       "    .dataframe thead th {\n",
       "        text-align: right;\n",
       "    }\n",
       "</style>\n",
       "<table border=\"1\" class=\"dataframe\">\n",
       "  <thead>\n",
       "    <tr style=\"text-align: right;\">\n",
       "      <th></th>\n",
       "      <th>order_id</th>\n",
       "      <th>price</th>\n",
       "      <th>customer_id</th>\n",
       "      <th>order_purchase_timestamp</th>\n",
       "      <th>customer_unique_id</th>\n",
       "    </tr>\n",
       "  </thead>\n",
       "  <tbody>\n",
       "    <tr>\n",
       "      <th>0</th>\n",
       "      <td>00010242fe8c5a6d1ba2dd792cb16214</td>\n",
       "      <td>72.19</td>\n",
       "      <td>3ce436f183e68e07877b285a838db11a</td>\n",
       "      <td>2017-09-13 08:59:02</td>\n",
       "      <td>871766c5855e863f6eccc05f988b23cb</td>\n",
       "    </tr>\n",
       "    <tr>\n",
       "      <th>1</th>\n",
       "      <td>00018f77f2f0320c557190d7a144bdd3</td>\n",
       "      <td>259.83</td>\n",
       "      <td>f6dd3ec061db4e3987629fe6b26e5cce</td>\n",
       "      <td>2017-04-26 10:53:06</td>\n",
       "      <td>eb28e67c4c0b83846050ddfb8a35d051</td>\n",
       "    </tr>\n",
       "    <tr>\n",
       "      <th>2</th>\n",
       "      <td>000229ec398224ef6ca0657da4fc703e</td>\n",
       "      <td>216.87</td>\n",
       "      <td>6489ae5e4333f3693df5ad4372dab6d3</td>\n",
       "      <td>2018-01-14 14:33:31</td>\n",
       "      <td>3818d81c6709e39d06b2738a8d3a2474</td>\n",
       "    </tr>\n",
       "    <tr>\n",
       "      <th>3</th>\n",
       "      <td>00024acbcdf0a6daa1e931b038114c75</td>\n",
       "      <td>25.78</td>\n",
       "      <td>d4eb9395c8c0431ee92fce09860c5a06</td>\n",
       "      <td>2018-08-08 10:00:35</td>\n",
       "      <td>af861d436cfc08b2c2ddefd0ba074622</td>\n",
       "    </tr>\n",
       "    <tr>\n",
       "      <th>4</th>\n",
       "      <td>00042b26cf59d7ce69dfabb4e55b4fd9</td>\n",
       "      <td>218.04</td>\n",
       "      <td>58dbd0b2d70206bf40e62cd34e84d795</td>\n",
       "      <td>2017-02-04 13:57:51</td>\n",
       "      <td>64b576fb70d441e8f1b2d7d446e483c5</td>\n",
       "    </tr>\n",
       "  </tbody>\n",
       "</table>\n",
       "</div>"
      ],
      "text/plain": [
       "                           order_id   price                       customer_id  \\\n",
       "0  00010242fe8c5a6d1ba2dd792cb16214   72.19  3ce436f183e68e07877b285a838db11a   \n",
       "1  00018f77f2f0320c557190d7a144bdd3  259.83  f6dd3ec061db4e3987629fe6b26e5cce   \n",
       "2  000229ec398224ef6ca0657da4fc703e  216.87  6489ae5e4333f3693df5ad4372dab6d3   \n",
       "3  00024acbcdf0a6daa1e931b038114c75   25.78  d4eb9395c8c0431ee92fce09860c5a06   \n",
       "4  00042b26cf59d7ce69dfabb4e55b4fd9  218.04  58dbd0b2d70206bf40e62cd34e84d795   \n",
       "\n",
       "  order_purchase_timestamp                customer_unique_id  \n",
       "0      2017-09-13 08:59:02  871766c5855e863f6eccc05f988b23cb  \n",
       "1      2017-04-26 10:53:06  eb28e67c4c0b83846050ddfb8a35d051  \n",
       "2      2018-01-14 14:33:31  3818d81c6709e39d06b2738a8d3a2474  \n",
       "3      2018-08-08 10:00:35  af861d436cfc08b2c2ddefd0ba074622  \n",
       "4      2017-02-04 13:57:51  64b576fb70d441e8f1b2d7d446e483c5  "
      ]
     },
     "execution_count": 7,
     "metadata": {},
     "output_type": "execute_result"
    }
   ],
   "source": [
    "order_3 = order_2.merge(data['customers'][['customer_id','customer_unique_id']],on='customer_id',how='left')\n",
    "order_3.head()"
   ]
  },
  {
   "cell_type": "code",
   "execution_count": 8,
   "id": "c30145db",
   "metadata": {},
   "outputs": [
    {
     "data": {
      "text/html": [
       "<div>\n",
       "<style scoped>\n",
       "    .dataframe tbody tr th:only-of-type {\n",
       "        vertical-align: middle;\n",
       "    }\n",
       "\n",
       "    .dataframe tbody tr th {\n",
       "        vertical-align: top;\n",
       "    }\n",
       "\n",
       "    .dataframe thead th {\n",
       "        text-align: right;\n",
       "    }\n",
       "</style>\n",
       "<table border=\"1\" class=\"dataframe\">\n",
       "  <thead>\n",
       "    <tr style=\"text-align: right;\">\n",
       "      <th></th>\n",
       "      <th>order_id</th>\n",
       "      <th>review_score</th>\n",
       "    </tr>\n",
       "  </thead>\n",
       "  <tbody>\n",
       "    <tr>\n",
       "      <th>0</th>\n",
       "      <td>00010242fe8c5a6d1ba2dd792cb16214</td>\n",
       "      <td>5.0</td>\n",
       "    </tr>\n",
       "    <tr>\n",
       "      <th>1</th>\n",
       "      <td>00018f77f2f0320c557190d7a144bdd3</td>\n",
       "      <td>4.0</td>\n",
       "    </tr>\n",
       "    <tr>\n",
       "      <th>2</th>\n",
       "      <td>000229ec398224ef6ca0657da4fc703e</td>\n",
       "      <td>5.0</td>\n",
       "    </tr>\n",
       "    <tr>\n",
       "      <th>3</th>\n",
       "      <td>00024acbcdf0a6daa1e931b038114c75</td>\n",
       "      <td>4.0</td>\n",
       "    </tr>\n",
       "    <tr>\n",
       "      <th>4</th>\n",
       "      <td>00042b26cf59d7ce69dfabb4e55b4fd9</td>\n",
       "      <td>5.0</td>\n",
       "    </tr>\n",
       "  </tbody>\n",
       "</table>\n",
       "</div>"
      ],
      "text/plain": [
       "                           order_id  review_score\n",
       "0  00010242fe8c5a6d1ba2dd792cb16214           5.0\n",
       "1  00018f77f2f0320c557190d7a144bdd3           4.0\n",
       "2  000229ec398224ef6ca0657da4fc703e           5.0\n",
       "3  00024acbcdf0a6daa1e931b038114c75           4.0\n",
       "4  00042b26cf59d7ce69dfabb4e55b4fd9           5.0"
      ]
     },
     "execution_count": 8,
     "metadata": {},
     "output_type": "execute_result"
    }
   ],
   "source": [
    "review_2 =  data['order_reviews'].groupby('order_id')['review_score'].mean().to_frame().reset_index()\n",
    "review_2.head()"
   ]
  },
  {
   "cell_type": "code",
   "execution_count": 9,
   "id": "04c44acb",
   "metadata": {},
   "outputs": [
    {
     "data": {
      "text/html": [
       "<div>\n",
       "<style scoped>\n",
       "    .dataframe tbody tr th:only-of-type {\n",
       "        vertical-align: middle;\n",
       "    }\n",
       "\n",
       "    .dataframe tbody tr th {\n",
       "        vertical-align: top;\n",
       "    }\n",
       "\n",
       "    .dataframe thead th {\n",
       "        text-align: right;\n",
       "    }\n",
       "</style>\n",
       "<table border=\"1\" class=\"dataframe\">\n",
       "  <thead>\n",
       "    <tr style=\"text-align: right;\">\n",
       "      <th></th>\n",
       "      <th>order_id</th>\n",
       "      <th>price</th>\n",
       "      <th>customer_id</th>\n",
       "      <th>order_purchase_timestamp</th>\n",
       "      <th>customer_unique_id</th>\n",
       "      <th>review_score</th>\n",
       "    </tr>\n",
       "  </thead>\n",
       "  <tbody>\n",
       "    <tr>\n",
       "      <th>0</th>\n",
       "      <td>00010242fe8c5a6d1ba2dd792cb16214</td>\n",
       "      <td>72.19</td>\n",
       "      <td>3ce436f183e68e07877b285a838db11a</td>\n",
       "      <td>2017-09-13 08:59:02</td>\n",
       "      <td>871766c5855e863f6eccc05f988b23cb</td>\n",
       "      <td>5.0</td>\n",
       "    </tr>\n",
       "    <tr>\n",
       "      <th>1</th>\n",
       "      <td>00018f77f2f0320c557190d7a144bdd3</td>\n",
       "      <td>259.83</td>\n",
       "      <td>f6dd3ec061db4e3987629fe6b26e5cce</td>\n",
       "      <td>2017-04-26 10:53:06</td>\n",
       "      <td>eb28e67c4c0b83846050ddfb8a35d051</td>\n",
       "      <td>4.0</td>\n",
       "    </tr>\n",
       "    <tr>\n",
       "      <th>2</th>\n",
       "      <td>000229ec398224ef6ca0657da4fc703e</td>\n",
       "      <td>216.87</td>\n",
       "      <td>6489ae5e4333f3693df5ad4372dab6d3</td>\n",
       "      <td>2018-01-14 14:33:31</td>\n",
       "      <td>3818d81c6709e39d06b2738a8d3a2474</td>\n",
       "      <td>5.0</td>\n",
       "    </tr>\n",
       "    <tr>\n",
       "      <th>3</th>\n",
       "      <td>00024acbcdf0a6daa1e931b038114c75</td>\n",
       "      <td>25.78</td>\n",
       "      <td>d4eb9395c8c0431ee92fce09860c5a06</td>\n",
       "      <td>2018-08-08 10:00:35</td>\n",
       "      <td>af861d436cfc08b2c2ddefd0ba074622</td>\n",
       "      <td>4.0</td>\n",
       "    </tr>\n",
       "    <tr>\n",
       "      <th>4</th>\n",
       "      <td>00042b26cf59d7ce69dfabb4e55b4fd9</td>\n",
       "      <td>218.04</td>\n",
       "      <td>58dbd0b2d70206bf40e62cd34e84d795</td>\n",
       "      <td>2017-02-04 13:57:51</td>\n",
       "      <td>64b576fb70d441e8f1b2d7d446e483c5</td>\n",
       "      <td>5.0</td>\n",
       "    </tr>\n",
       "  </tbody>\n",
       "</table>\n",
       "</div>"
      ],
      "text/plain": [
       "                           order_id   price                       customer_id  \\\n",
       "0  00010242fe8c5a6d1ba2dd792cb16214   72.19  3ce436f183e68e07877b285a838db11a   \n",
       "1  00018f77f2f0320c557190d7a144bdd3  259.83  f6dd3ec061db4e3987629fe6b26e5cce   \n",
       "2  000229ec398224ef6ca0657da4fc703e  216.87  6489ae5e4333f3693df5ad4372dab6d3   \n",
       "3  00024acbcdf0a6daa1e931b038114c75   25.78  d4eb9395c8c0431ee92fce09860c5a06   \n",
       "4  00042b26cf59d7ce69dfabb4e55b4fd9  218.04  58dbd0b2d70206bf40e62cd34e84d795   \n",
       "\n",
       "  order_purchase_timestamp                customer_unique_id  review_score  \n",
       "0      2017-09-13 08:59:02  871766c5855e863f6eccc05f988b23cb           5.0  \n",
       "1      2017-04-26 10:53:06  eb28e67c4c0b83846050ddfb8a35d051           4.0  \n",
       "2      2018-01-14 14:33:31  3818d81c6709e39d06b2738a8d3a2474           5.0  \n",
       "3      2018-08-08 10:00:35  af861d436cfc08b2c2ddefd0ba074622           4.0  \n",
       "4      2017-02-04 13:57:51  64b576fb70d441e8f1b2d7d446e483c5           5.0  "
      ]
     },
     "execution_count": 9,
     "metadata": {},
     "output_type": "execute_result"
    }
   ],
   "source": [
    "order_4 = order_3.merge(review_2,on='order_id', how='left')\n",
    "order_4.head()"
   ]
  },
  {
   "cell_type": "code",
   "execution_count": 10,
   "id": "e3c230c9",
   "metadata": {},
   "outputs": [],
   "source": [
    "order_4['order_purchase_timestamp'] = pd.to_datetime(order_4['order_purchase_timestamp']).astype('datetime64[D]')\n",
    "\n",
    "order_4['nb_days'] = (datetime.now() - order_4['order_purchase_timestamp']).astype('timedelta64[D]')\n",
    "\n",
    "order_4 = order_4.dropna()"
   ]
  },
  {
   "cell_type": "code",
   "execution_count": 11,
   "id": "afa6cd8a",
   "metadata": {},
   "outputs": [],
   "source": [
    "# order_4['order_delivered_customer_date'] = pd.to_datetime(order_4['order_delivered_customer_date']).astype('datetime64[D]')\n",
    "\n",
    "# order_4['nb_days'] = (datetime.now() - order_4['order_delivered_customer_date']).astype('timedelta64[D]')\n",
    "\n",
    "# order_4 = order_4.dropna()"
   ]
  },
  {
   "cell_type": "code",
   "execution_count": 12,
   "id": "8561b8c0",
   "metadata": {},
   "outputs": [
    {
     "name": "stdout",
     "output_type": "stream",
     "text": [
      "<class 'pandas.core.frame.DataFrame'>\n",
      "Int64Index: 97917 entries, 0 to 98665\n",
      "Data columns (total 7 columns):\n",
      " #   Column                    Non-Null Count  Dtype         \n",
      "---  ------                    --------------  -----         \n",
      " 0   order_id                  97917 non-null  object        \n",
      " 1   price                     97917 non-null  float64       \n",
      " 2   customer_id               97917 non-null  object        \n",
      " 3   order_purchase_timestamp  97917 non-null  datetime64[ns]\n",
      " 4   customer_unique_id        97917 non-null  object        \n",
      " 5   review_score              97917 non-null  float64       \n",
      " 6   nb_days                   97917 non-null  float64       \n",
      "dtypes: datetime64[ns](1), float64(3), object(3)\n",
      "memory usage: 6.0+ MB\n"
     ]
    }
   ],
   "source": [
    "order_4.info()"
   ]
  },
  {
   "cell_type": "code",
   "execution_count": 13,
   "id": "fad599a4",
   "metadata": {},
   "outputs": [
    {
     "data": {
      "text/plain": [
       "order_id                    0.0\n",
       "price                       0.0\n",
       "customer_id                 0.0\n",
       "order_purchase_timestamp    0.0\n",
       "customer_unique_id          0.0\n",
       "review_score                0.0\n",
       "nb_days                     0.0\n",
       "dtype: float64"
      ]
     },
     "execution_count": 13,
     "metadata": {},
     "output_type": "execute_result"
    }
   ],
   "source": [
    "order_4.isna().mean()"
   ]
  },
  {
   "cell_type": "markdown",
   "id": "671f213b",
   "metadata": {},
   "source": [
    "# Fonction RFM"
   ]
  },
  {
   "cell_type": "code",
   "execution_count": 14,
   "id": "96dc6abf",
   "metadata": {},
   "outputs": [],
   "source": [
    "def fonction_rfm (data):\n",
    "    \n",
    "    rfm = data.groupby('customer_unique_id').agg({'nb_days' : np.min, # minimum soit le dernier achat \n",
    "                                      'order_purchase_timestamp' : len, # fréquence\n",
    "                                      'price' : np.sum, # Somme des montants des achats\n",
    "                                      'review_score'  : np.mean    # Moyenne des notes clients\n",
    "                                     }).reset_index()\n",
    "\n",
    "    rfm = rfm.rename(columns={'nb_days' : 'r', # récence\n",
    "            'order_purchase_timestamp' : 'f', # fréquence\n",
    "            'price' : 'm' }) # montant\n",
    "    \n",
    "    rfm = rfm.dropna() # Suppression des NA\n",
    "    \n",
    "    # Score par quantile\n",
    "#     rfm['rq'] = pd.cut(rfm.r,bins=np.quantile(rfm.r, q = [0,0.33,0.66,1]),labels=['2','1','0'])#.astype('str')\n",
    "\n",
    "#     rfm['fq'] = pd.cut(rfm.f, bins= [0,1,2,100], labels=['0','1','2'])#.astype('str')\n",
    "\n",
    "#     rfm['mq'] = pd.cut(rfm.m,bins=np.quantile(rfm.m, q = [0,0.33,0.66,1]),labels=['0','1','2'])#.astype('str')\n",
    "\n",
    "    # Format string pour les sommer \n",
    "\n",
    "#     rfm[['rq','fq','mq']] =  rfm[['rq','fq','mq']].astype('str')\n",
    "\n",
    "    # rfm['rq'] = rfm['rq'].astype('str')\n",
    "    # rfm['fq'] = rfm['fq'].astype('str')\n",
    "    # rfm['mq'] = rfm['mq'].astype('str')\n",
    "\n",
    "    # Passage en log \n",
    "    rfm['log_r'] = np.log(rfm.r)\n",
    "    rfm['log_f'] = np.log(rfm.f)\n",
    "    rfm['log_m'] = np.log(rfm.m)\n",
    "\n",
    "\n",
    "    # Score composite\n",
    "#     rfm['score'] = rfm['rq'] + rfm['fq'] + rfm['mq']\n",
    "    \n",
    "    \n",
    "    return rfm\n",
    "    "
   ]
  },
  {
   "cell_type": "code",
   "execution_count": 15,
   "id": "73dc6f13",
   "metadata": {
    "scrolled": false
   },
   "outputs": [
    {
     "data": {
      "text/html": [
       "<div>\n",
       "<style scoped>\n",
       "    .dataframe tbody tr th:only-of-type {\n",
       "        vertical-align: middle;\n",
       "    }\n",
       "\n",
       "    .dataframe tbody tr th {\n",
       "        vertical-align: top;\n",
       "    }\n",
       "\n",
       "    .dataframe thead th {\n",
       "        text-align: right;\n",
       "    }\n",
       "</style>\n",
       "<table border=\"1\" class=\"dataframe\">\n",
       "  <thead>\n",
       "    <tr style=\"text-align: right;\">\n",
       "      <th></th>\n",
       "      <th>customer_unique_id</th>\n",
       "      <th>r</th>\n",
       "      <th>f</th>\n",
       "      <th>m</th>\n",
       "      <th>review_score</th>\n",
       "      <th>log_r</th>\n",
       "      <th>log_f</th>\n",
       "      <th>log_m</th>\n",
       "    </tr>\n",
       "  </thead>\n",
       "  <tbody>\n",
       "    <tr>\n",
       "      <th>0</th>\n",
       "      <td>0000366f3b9a7992bf8c76cfdf3221e2</td>\n",
       "      <td>1847.0</td>\n",
       "      <td>1</td>\n",
       "      <td>141.90</td>\n",
       "      <td>5.0</td>\n",
       "      <td>7.521318</td>\n",
       "      <td>0.0</td>\n",
       "      <td>4.955123</td>\n",
       "    </tr>\n",
       "    <tr>\n",
       "      <th>1</th>\n",
       "      <td>0000b849f77a49e4a4ce2b2a4ca5be3f</td>\n",
       "      <td>1850.0</td>\n",
       "      <td>1</td>\n",
       "      <td>27.19</td>\n",
       "      <td>4.0</td>\n",
       "      <td>7.522941</td>\n",
       "      <td>0.0</td>\n",
       "      <td>3.302849</td>\n",
       "    </tr>\n",
       "    <tr>\n",
       "      <th>2</th>\n",
       "      <td>0000f46a3911fa3c0805444483337064</td>\n",
       "      <td>2273.0</td>\n",
       "      <td>1</td>\n",
       "      <td>86.22</td>\n",
       "      <td>3.0</td>\n",
       "      <td>7.728856</td>\n",
       "      <td>0.0</td>\n",
       "      <td>4.456902</td>\n",
       "    </tr>\n",
       "    <tr>\n",
       "      <th>3</th>\n",
       "      <td>0000f6ccb0745a6a4b88665a16c9f078</td>\n",
       "      <td>2057.0</td>\n",
       "      <td>1</td>\n",
       "      <td>43.62</td>\n",
       "      <td>4.0</td>\n",
       "      <td>7.629004</td>\n",
       "      <td>0.0</td>\n",
       "      <td>3.775516</td>\n",
       "    </tr>\n",
       "    <tr>\n",
       "      <th>4</th>\n",
       "      <td>0004aac84e0df4da2b147fca70cf8255</td>\n",
       "      <td>2024.0</td>\n",
       "      <td>1</td>\n",
       "      <td>196.89</td>\n",
       "      <td>5.0</td>\n",
       "      <td>7.612831</td>\n",
       "      <td>0.0</td>\n",
       "      <td>5.282645</td>\n",
       "    </tr>\n",
       "    <tr>\n",
       "      <th>...</th>\n",
       "      <td>...</td>\n",
       "      <td>...</td>\n",
       "      <td>...</td>\n",
       "      <td>...</td>\n",
       "      <td>...</td>\n",
       "      <td>...</td>\n",
       "      <td>...</td>\n",
       "      <td>...</td>\n",
       "    </tr>\n",
       "    <tr>\n",
       "      <th>94716</th>\n",
       "      <td>fffcf5a5ff07b0908bd4e2dbc735a684</td>\n",
       "      <td>2183.0</td>\n",
       "      <td>1</td>\n",
       "      <td>2067.42</td>\n",
       "      <td>5.0</td>\n",
       "      <td>7.688455</td>\n",
       "      <td>0.0</td>\n",
       "      <td>7.634057</td>\n",
       "    </tr>\n",
       "    <tr>\n",
       "      <th>94717</th>\n",
       "      <td>fffea47cd6d3cc0a88bd621562a9d061</td>\n",
       "      <td>1998.0</td>\n",
       "      <td>1</td>\n",
       "      <td>84.58</td>\n",
       "      <td>4.0</td>\n",
       "      <td>7.599902</td>\n",
       "      <td>0.0</td>\n",
       "      <td>4.437698</td>\n",
       "    </tr>\n",
       "    <tr>\n",
       "      <th>94718</th>\n",
       "      <td>ffff371b4d645b6ecea244b27531430a</td>\n",
       "      <td>2304.0</td>\n",
       "      <td>1</td>\n",
       "      <td>112.46</td>\n",
       "      <td>5.0</td>\n",
       "      <td>7.742402</td>\n",
       "      <td>0.0</td>\n",
       "      <td>4.722598</td>\n",
       "    </tr>\n",
       "    <tr>\n",
       "      <th>94719</th>\n",
       "      <td>ffff5962728ec6157033ef9805bacc48</td>\n",
       "      <td>1855.0</td>\n",
       "      <td>1</td>\n",
       "      <td>133.69</td>\n",
       "      <td>5.0</td>\n",
       "      <td>7.525640</td>\n",
       "      <td>0.0</td>\n",
       "      <td>4.895524</td>\n",
       "    </tr>\n",
       "    <tr>\n",
       "      <th>94720</th>\n",
       "      <td>ffffd2657e2aad2907e67c3e9daecbeb</td>\n",
       "      <td>2220.0</td>\n",
       "      <td>1</td>\n",
       "      <td>71.56</td>\n",
       "      <td>5.0</td>\n",
       "      <td>7.705262</td>\n",
       "      <td>0.0</td>\n",
       "      <td>4.270536</td>\n",
       "    </tr>\n",
       "  </tbody>\n",
       "</table>\n",
       "<p>94721 rows × 8 columns</p>\n",
       "</div>"
      ],
      "text/plain": [
       "                     customer_unique_id       r  f        m  review_score  \\\n",
       "0      0000366f3b9a7992bf8c76cfdf3221e2  1847.0  1   141.90           5.0   \n",
       "1      0000b849f77a49e4a4ce2b2a4ca5be3f  1850.0  1    27.19           4.0   \n",
       "2      0000f46a3911fa3c0805444483337064  2273.0  1    86.22           3.0   \n",
       "3      0000f6ccb0745a6a4b88665a16c9f078  2057.0  1    43.62           4.0   \n",
       "4      0004aac84e0df4da2b147fca70cf8255  2024.0  1   196.89           5.0   \n",
       "...                                 ...     ... ..      ...           ...   \n",
       "94716  fffcf5a5ff07b0908bd4e2dbc735a684  2183.0  1  2067.42           5.0   \n",
       "94717  fffea47cd6d3cc0a88bd621562a9d061  1998.0  1    84.58           4.0   \n",
       "94718  ffff371b4d645b6ecea244b27531430a  2304.0  1   112.46           5.0   \n",
       "94719  ffff5962728ec6157033ef9805bacc48  1855.0  1   133.69           5.0   \n",
       "94720  ffffd2657e2aad2907e67c3e9daecbeb  2220.0  1    71.56           5.0   \n",
       "\n",
       "          log_r  log_f     log_m  \n",
       "0      7.521318    0.0  4.955123  \n",
       "1      7.522941    0.0  3.302849  \n",
       "2      7.728856    0.0  4.456902  \n",
       "3      7.629004    0.0  3.775516  \n",
       "4      7.612831    0.0  5.282645  \n",
       "...         ...    ...       ...  \n",
       "94716  7.688455    0.0  7.634057  \n",
       "94717  7.599902    0.0  4.437698  \n",
       "94718  7.742402    0.0  4.722598  \n",
       "94719  7.525640    0.0  4.895524  \n",
       "94720  7.705262    0.0  4.270536  \n",
       "\n",
       "[94721 rows x 8 columns]"
      ]
     },
     "execution_count": 15,
     "metadata": {},
     "output_type": "execute_result"
    }
   ],
   "source": [
    "# Test fonction rfm\n",
    "rfm = fonction_rfm(order_4)\n",
    "rfm"
   ]
  },
  {
   "cell_type": "markdown",
   "id": "05fe06cb",
   "metadata": {},
   "source": [
    "# Fonction K means"
   ]
  },
  {
   "cell_type": "code",
   "execution_count": 16,
   "id": "f7c5bc3d",
   "metadata": {},
   "outputs": [],
   "source": [
    "from sklearn.cluster import KMeans\n",
    "from sklearn.datasets import make_blobs\n",
    "\n",
    "from yellowbrick.cluster import KElbowVisualizer, SilhouetteVisualizer\n",
    "\n",
    "from sklearn.metrics.cluster import adjusted_rand_score"
   ]
  },
  {
   "cell_type": "code",
   "execution_count": 17,
   "id": "b2262112",
   "metadata": {},
   "outputs": [
    {
     "data": {
      "image/png": "[encoded data removed]",
      "text/plain": [
       "<Figure size 800x550 with 2 Axes>"
      ]
     },
     "metadata": {},
     "output_type": "display_data"
    }
   ],
   "source": [
    "# Instantiate the clustering model and visualizer\n",
    "model = KMeans()\n",
    "\n",
    "X = np.array(rfm[['log_r','log_f','log_m','review_score']].copy())\n",
    "\n",
    "visualizer = KElbowVisualizer(model, k=(2,12))\n",
    "\n",
    "visualizer.fit(X)    # Fit the data to the visualizer\n",
    "visualizer.poof()    # Draw/show/poof the data\n",
    "\n",
    "plt.show()"
   ]
  },
  {
   "cell_type": "code",
   "execution_count": 18,
   "id": "5339e247",
   "metadata": {},
   "outputs": [],
   "source": [
    "def cluster_kmeans(rfm = rfm , k=5):\n",
    "    \n",
    "    # Features : la version log rfm\n",
    "    X = np.array(rfm[['log_r','log_f','log_m','review_score']])\n",
    "    \n",
    "    # Model Kmeans défaut k = 5 \n",
    "    model = KMeans(n_clusters = k, random_state=1990).fit(X)\n",
    "    y_pred = model.predict(X)\n",
    "    \n",
    "    return y_pred "
   ]
  },
  {
   "cell_type": "code",
   "execution_count": 19,
   "id": "48b20691",
   "metadata": {},
   "outputs": [],
   "source": [
    "y_pred  = cluster_kmeans(rfm,5)"
   ]
  },
  {
   "cell_type": "code",
   "execution_count": 20,
   "id": "20f0c891",
   "metadata": {},
   "outputs": [],
   "source": [
    "rfm['cluster'] = y_pred"
   ]
  },
  {
   "cell_type": "code",
   "execution_count": 21,
   "id": "e1281fa8",
   "metadata": {
    "scrolled": true
   },
   "outputs": [
    {
     "data": {
      "text/plain": [
       "0    27422\n",
       "3    23113\n",
       "2    20660\n",
       "1    13343\n",
       "4    10183\n",
       "Name: cluster, dtype: int64"
      ]
     },
     "execution_count": 21,
     "metadata": {},
     "output_type": "execute_result"
    }
   ],
   "source": [
    "rfm['cluster'].value_counts()"
   ]
  },
  {
   "cell_type": "markdown",
   "id": "8fd2da86",
   "metadata": {},
   "source": [
    "# ARI"
   ]
  },
  {
   "cell_type": "code",
   "execution_count": 22,
   "id": "30c5f91c",
   "metadata": {},
   "outputs": [
    {
     "data": {
      "text/plain": [
       "DatetimeIndex(['2019-02-28', '2019-03-31', '2019-04-30', '2019-05-31',\n",
       "               '2019-06-30', '2019-07-31', '2019-08-31', '2019-09-30',\n",
       "               '2019-10-31', '2019-11-30', '2019-12-31', '2020-01-31'],\n",
       "              dtype='datetime64[ns]', freq='M')"
      ]
     },
     "execution_count": 22,
     "metadata": {},
     "output_type": "execute_result"
    }
   ],
   "source": [
    "pd.date_range(start='2/2/2019', end='2/08/2020', freq = \"M\")\n"
   ]
  },
  {
   "cell_type": "code",
   "execution_count": 23,
   "id": "d4f87d7b",
   "metadata": {},
   "outputs": [],
   "source": [
    "df = order_4.copy()\n",
    "\n",
    "df['order_purchase_timestamp'] = pd.to_datetime(df['order_purchase_timestamp'] )"
   ]
  },
  {
   "cell_type": "code",
   "execution_count": 24,
   "id": "dd954e1c",
   "metadata": {
    "scrolled": true
   },
   "outputs": [
    {
     "name": "stdout",
     "output_type": "stream",
     "text": [
      "Date de début :  2016-09-04 00:00:00\n",
      "Date de fin :  2018-09-03 00:00:00\n"
     ]
    }
   ],
   "source": [
    "print('Date de début : ',df['order_purchase_timestamp'].min()) \n",
    "print('Date de fin : ',df['order_purchase_timestamp'].max()) "
   ]
  },
  {
   "cell_type": "markdown",
   "id": "3e551f44",
   "metadata": {},
   "source": [
    "## Baseline \n",
    "    1ère année comme référence \n",
    "    Teste ARI sur différentes périodes (mois) sur la deuxième année "
   ]
  },
  {
   "cell_type": "code",
   "execution_count": 25,
   "id": "bde833e0",
   "metadata": {
    "scrolled": true
   },
   "outputs": [
    {
     "data": {
      "text/plain": [
       "(44206, 7)"
      ]
     },
     "execution_count": 25,
     "metadata": {},
     "output_type": "execute_result"
    }
   ],
   "source": [
    "# 1ere année\n",
    "start_date = pd.to_datetime('10/11/2016') # M J Y\n",
    "end_date = pd.to_datetime('01/01/2018')\n",
    "\n",
    "# Dernière date dans nos données \n",
    "final_date = pd.to_datetime('10/17/2018')\n",
    "\n",
    "\n",
    "baseline = df.loc[(df['order_purchase_timestamp'] > start_date) &\n",
    "                  (df['order_purchase_timestamp'] < end_date)].copy()\n",
    "\n",
    "baseline.shape"
   ]
  },
  {
   "cell_type": "markdown",
   "id": "2547fdd4",
   "metadata": {},
   "source": [
    "### Test 1 semaine\n",
    "    Baseline prédict ==> s1"
   ]
  },
  {
   "cell_type": "code",
   "execution_count": 26,
   "id": "8775529d",
   "metadata": {
    "scrolled": true
   },
   "outputs": [
    {
     "data": {
      "text/plain": [
       "Timestamp('2018-01-07 00:00:00', freq='W-SUN')"
      ]
     },
     "execution_count": 26,
     "metadata": {},
     "output_type": "execute_result"
    }
   ],
   "source": [
    "pd.date_range(start=end_date, freq = \"W\", periods = 1)[0]"
   ]
  },
  {
   "cell_type": "code",
   "execution_count": 27,
   "id": "ce8173bc",
   "metadata": {},
   "outputs": [],
   "source": [
    "t1 = pd.to_datetime('10/18/2017')\n",
    "\n",
    "s1 = df.loc[(df['order_purchase_timestamp'] > end_date) &\n",
    "       (df['order_purchase_timestamp'] < t1)]\n",
    "\n",
    "test = df.loc[\n",
    "       (df['order_purchase_timestamp'] < t1)]\n",
    "\n",
    "#s1"
   ]
  },
  {
   "cell_type": "code",
   "execution_count": 28,
   "id": "d63cd4bc",
   "metadata": {},
   "outputs": [
    {
     "data": {
      "text/plain": [
       "(97917, 7)"
      ]
     },
     "execution_count": 28,
     "metadata": {},
     "output_type": "execute_result"
    }
   ],
   "source": [
    "df.shape"
   ]
  },
  {
   "cell_type": "code",
   "execution_count": 29,
   "id": "d18865b1",
   "metadata": {},
   "outputs": [],
   "source": [
    "rfm_baseline = fonction_rfm(baseline)\n",
    "#rfm_s1 = fonction_rfm(s1)\n",
    "rfm_test = fonction_rfm(test)\n",
    "\n",
    "#rfm_baseline.merge(rfm_s1)\n",
    "#rfm['cluster'] = cluster_kmeans(rfm_baseline)\n",
    "#rfm_baseline"
   ]
  },
  {
   "cell_type": "code",
   "execution_count": 30,
   "id": "b059f628",
   "metadata": {},
   "outputs": [
    {
     "data": {
      "text/plain": [
       "((29570, 7), (44206, 7), (0, 7))"
      ]
     },
     "execution_count": 30,
     "metadata": {},
     "output_type": "execute_result"
    }
   ],
   "source": [
    "test.shape,baseline.shape,s1.shape"
   ]
  },
  {
   "cell_type": "code",
   "execution_count": 31,
   "id": "8c1016b5",
   "metadata": {},
   "outputs": [
    {
     "data": {
      "text/plain": [
       "array([2, 3, 0, ..., 2, 0, 3])"
      ]
     },
     "execution_count": 31,
     "metadata": {},
     "output_type": "execute_result"
    }
   ],
   "source": [
    "cluster_kmeans(rfm_baseline)"
   ]
  },
  {
   "cell_type": "code",
   "execution_count": 32,
   "id": "a71c3bdf",
   "metadata": {},
   "outputs": [
    {
     "data": {
      "text/plain": [
       "(0, 7)"
      ]
     },
     "execution_count": 32,
     "metadata": {},
     "output_type": "execute_result"
    }
   ],
   "source": [
    "s1.shape"
   ]
  },
  {
   "cell_type": "code",
   "execution_count": 33,
   "id": "12aacc84",
   "metadata": {},
   "outputs": [],
   "source": [
    "#cluster_kmeans_predict(rfm,rfm_s1)\n",
    "\n",
    "rfm_baseline = fonction_rfm(baseline)\n",
    "#rfm_s1 = fonction_rfm(s1)\n",
    "rfm_test = fonction_rfm(test)"
   ]
  },
  {
   "cell_type": "code",
   "execution_count": 34,
   "id": "f853cdaa",
   "metadata": {},
   "outputs": [],
   "source": [
    "\n",
    "def cluster_kmeans_predict(rfm = rfm_baseline ,s1 = rfm_test , k=5):\n",
    "    \n",
    "    # Features : la version log rfm + review\n",
    "    #features = ['log_r','log_f','log_m','review_score']\n",
    "    \n",
    "    features = ['r','f','m','review_score']\n",
    "    \n",
    "    X_baseline = np.array(rfm[features]) # t0\n",
    "    \n",
    "    X_test = np.array(s1[features]) # t+1\n",
    "    \n",
    "    \n",
    "    # Model Kmeans défaut k = 5 \n",
    "    \n",
    "    # 1. On entraine la baseline \n",
    "    model = KMeans(n_clusters = k, random_state=1990).fit(X_baseline)\n",
    "    \n",
    "\n",
    "    # 2. Prédiction sur t+1\n",
    "    pred_s1 = model.predict(X_test)\n",
    "    \n",
    "    # 3. fit & prediction sur t+1\n",
    "    \n",
    "    model2 = KMeans(n_clusters = k, random_state=1990).fit(X_test)\n",
    "    \n",
    "    pred_test = model2.predict(X_test)\n",
    "    \n",
    "    \n",
    "    \n",
    "    print(adjusted_rand_score(pred_test, pred_s1))\n",
    "    \n",
    "    result = (adjusted_rand_score(pred_s1, pred_test))\n",
    "    \n",
    "    return result"
   ]
  },
  {
   "cell_type": "code",
   "execution_count": 35,
   "id": "7bb6c6f6",
   "metadata": {
    "scrolled": true
   },
   "outputs": [],
   "source": [
    "# pred_test,pred_s1"
   ]
  },
  {
   "cell_type": "code",
   "execution_count": 36,
   "id": "ba528e72",
   "metadata": {},
   "outputs": [
    {
     "name": "stdout",
     "output_type": "stream",
     "text": [
      "0.22616637383488594\n"
     ]
    },
    {
     "data": {
      "text/plain": [
       "0.22616637383488594"
      ]
     },
     "execution_count": 36,
     "metadata": {},
     "output_type": "execute_result"
    }
   ],
   "source": [
    "cluster_kmeans_predict(rfm_baseline,rfm_test)"
   ]
  },
  {
   "cell_type": "markdown",
   "id": "f55077ea",
   "metadata": {},
   "source": [
    "### Test mois"
   ]
  },
  {
   "cell_type": "code",
   "execution_count": 37,
   "id": "ef7ef91f",
   "metadata": {},
   "outputs": [
    {
     "data": {
      "text/plain": [
       "(Timestamp('2018-10-17 00:00:00'), Timestamp('2018-01-01 00:00:00'))"
      ]
     },
     "execution_count": 37,
     "metadata": {},
     "output_type": "execute_result"
    }
   ],
   "source": [
    "final_date, end_date"
   ]
  },
  {
   "cell_type": "code",
   "execution_count": 38,
   "id": "2aafe2bc",
   "metadata": {
    "scrolled": false
   },
   "outputs": [
    {
     "data": {
      "text/plain": [
       "DatetimeIndex(['2018-01-31', '2018-02-28', '2018-03-31', '2018-04-30',\n",
       "               '2018-05-31', '2018-06-30', '2018-07-31', '2018-08-31',\n",
       "               '2018-09-30'],\n",
       "              dtype='datetime64[ns]', freq='M')"
      ]
     },
     "execution_count": 38,
     "metadata": {},
     "output_type": "execute_result"
    }
   ],
   "source": [
    "pd.date_range(start=end_date, freq = \"M\", end = final_date)"
   ]
  },
  {
   "cell_type": "code",
   "execution_count": 61,
   "id": "bbdf5b06",
   "metadata": {
    "scrolled": false
   },
   "outputs": [
    {
     "data": {
      "text/plain": [
       "DatetimeIndex(['2018-01-01', '2018-01-16', '2018-01-31', '2018-02-15',\n",
       "               '2018-03-02', '2018-03-17', '2018-04-01', '2018-04-16',\n",
       "               '2018-05-01', '2018-05-16', '2018-05-31', '2018-06-15',\n",
       "               '2018-06-30', '2018-07-15', '2018-07-30', '2018-08-14',\n",
       "               '2018-08-29', '2018-09-13', '2018-09-28', '2018-10-13'],\n",
       "              dtype='datetime64[ns]', freq='15D')"
      ]
     },
     "execution_count": 61,
     "metadata": {},
     "output_type": "execute_result"
    }
   ],
   "source": [
    "futur_mois = pd.date_range(start=end_date, freq = \"15D\", end = final_date)\n",
    "futur_mois"
   ]
  },
  {
   "cell_type": "code",
   "execution_count": 62,
   "id": "4ad58300",
   "metadata": {
    "scrolled": false
   },
   "outputs": [
    {
     "name": "stdout",
     "output_type": "stream",
     "text": [
      "0.9560951612686646\n",
      "(42869, 8) (43168, 8)\n",
      "0.9292046291619853\n",
      "(42869, 8) (46479, 8)\n",
      "0.8496347579724929\n",
      "(42869, 8) (49844, 8)\n",
      "0.800806840954088\n",
      "(42869, 8) (53084, 8)\n",
      "0.7277538245336386\n",
      "(42869, 8) (56728, 8)\n",
      "0.7078378562006045\n",
      "(42869, 8) (60111, 8)\n",
      "0.6919564565227938\n",
      "(42869, 8) (63353, 8)\n",
      "0.6704011172098314\n",
      "(42869, 8) (66559, 8)\n",
      "0.5920607860999804\n",
      "(42869, 8) (70013, 8)\n",
      "0.5708430372306749\n",
      "(42869, 8) (74064, 8)\n",
      "0.5559918646505423\n",
      "(42869, 8) (76456, 8)\n",
      "0.5387089597433252\n",
      "(42869, 8) (79423, 8)\n",
      "0.524148718093895\n",
      "(42869, 8) (82374, 8)\n",
      "0.5360919904455972\n",
      "(42869, 8) (84605, 8)\n",
      "0.5239783858761018\n",
      "(42869, 8) (87923, 8)\n",
      "0.4957497208579559\n",
      "(42869, 8) (92074, 8)\n",
      "0.38089615681925837\n",
      "(42869, 8) (94710, 8)\n",
      "0.3816796982364319\n",
      "(42869, 8) (94721, 8)\n",
      "0.3816796982364319\n",
      "(42869, 8) (94721, 8)\n",
      "0.3816796982364319\n",
      "(42869, 8) (94721, 8)\n"
     ]
    }
   ],
   "source": [
    "res = []\n",
    "\n",
    "for t in futur_mois:\n",
    "\n",
    "    testing = df.loc[(df['order_purchase_timestamp'] < t)]\n",
    "    \n",
    "    # fonction rfm\n",
    "    \n",
    "    rfm_testing = fonction_rfm(testing)\n",
    "        \n",
    "    res.append(cluster_kmeans_predict(rfm_baseline,rfm_testing,k=5))\n",
    "    \n",
    "    print(rfm_baseline.shape,rfm_testing.shape)\n",
    "    \n"
   ]
  },
  {
   "cell_type": "code",
   "execution_count": 63,
   "id": "983f4175",
   "metadata": {
    "scrolled": false
   },
   "outputs": [
    {
     "data": {
      "text/plain": [
       "[]"
      ]
     },
     "execution_count": 63,
     "metadata": {},
     "output_type": "execute_result"
    },
    {
     "data": {
      "image/png": "[encoded data removed]",
      "text/plain": [
       "<Figure size 800x550 with 1 Axes>"
      ]
     },
     "metadata": {},
     "output_type": "display_data"
    }
   ],
   "source": [
    "pd.DataFrame({'res' : res }, index = futur_mois).plot()\n",
    "plt.legend(['ARI'])\n",
    "plt.plot()"
   ]
  },
  {
   "cell_type": "markdown",
   "id": "23577beb",
   "metadata": {},
   "source": [
    "## Regardons de plus près \n",
    "    De t0 à avril 2018"
   ]
  },
  {
   "cell_type": "code",
   "execution_count": 42,
   "id": "61e371c3",
   "metadata": {
    "scrolled": false
   },
   "outputs": [
    {
     "name": "stdout",
     "output_type": "stream",
     "text": [
      "0.9560951612686646\n",
      "(42869, 8) (43168, 8)\n",
      "0.9708728854154643\n",
      "(42869, 8) (45283, 8)\n",
      "0.8948552242364458\n",
      "(42869, 8) (47664, 8)\n",
      "0.8496347579724929\n",
      "(42869, 8) (49844, 8)\n",
      "0.8171242646393375\n",
      "(42869, 8) (52060, 8)\n",
      "0.7879451151706375\n",
      "(42869, 8) (54189, 8)\n",
      "0.7277538245336386\n",
      "(42869, 8) (56728, 8)\n",
      "0.7429030784401138\n",
      "(42869, 8) (58973, 8)\n",
      "0.7200937871903484\n",
      "(42869, 8) (61340, 8)\n",
      "0.6919564565227938\n",
      "(42869, 8) (63353, 8)\n"
     ]
    }
   ],
   "source": [
    "avr_2018 = pd.to_datetime('04/01/2018') \n",
    "\n",
    "futur_mois = pd.date_range(start=end_date, freq = \"10D\", end = avr_2018)\n",
    "futur_mois\n",
    "\n",
    "\n",
    "res = []\n",
    "\n",
    "for t in futur_mois:\n",
    "\n",
    "    testing = df.loc[(df['order_purchase_timestamp'] < t)]\n",
    "    \n",
    "    # fonction rfm\n",
    "    \n",
    "    rfm_testing = fonction_rfm(testing)\n",
    "        \n",
    "    res.append(cluster_kmeans_predict(rfm_baseline,rfm_testing,k=5))\n",
    "    \n",
    "    print(rfm_baseline.shape,rfm_testing.shape)\n",
    "    \n"
   ]
  },
  {
   "cell_type": "code",
   "execution_count": 43,
   "id": "1b164b59",
   "metadata": {
    "scrolled": true
   },
   "outputs": [
    {
     "data": {
      "text/plain": [
       "DatetimeIndex(['2018-01-01', '2018-01-11', '2018-01-21', '2018-01-31',\n",
       "               '2018-02-10', '2018-02-20', '2018-03-02', '2018-03-12',\n",
       "               '2018-03-22', '2018-04-01'],\n",
       "              dtype='datetime64[ns]', freq='10D')"
      ]
     },
     "execution_count": 43,
     "metadata": {},
     "output_type": "execute_result"
    }
   ],
   "source": [
    "futur_mois"
   ]
  },
  {
   "cell_type": "code",
   "execution_count": 59,
   "id": "b8f94679",
   "metadata": {
    "scrolled": false
   },
   "outputs": [
    {
     "data": {
      "text/plain": [
       "[]"
      ]
     },
     "execution_count": 59,
     "metadata": {},
     "output_type": "execute_result"
    },
    {
     "data": {
      "text/plain": [
       "<Figure size 500x500 with 0 Axes>"
      ]
     },
     "metadata": {},
     "output_type": "display_data"
    },
    {
     "data": {
      "image/png": "[encoded data removed]",
      "text/plain": [
       "<Figure size 800x550 with 1 Axes>"
      ]
     },
     "metadata": {},
     "output_type": "display_data"
    }
   ],
   "source": [
    "plt.figure(figsize=(5,5))\n",
    "pd.DataFrame({'res' : res }, index = (futur_mois - end_date).astype('timedelta64[D]')).plot()\n",
    "# plt.legend(['ARI'])\n",
    "plt.hlines(y=0.8,xmin=0,xmax=81,color='r')\n",
    "plt.vlines(x=45,ymin=0.7,ymax=0.85,color='y')\n",
    "plt.xlabel('Nombre de jours')\n",
    "plt.ylabel('ARI')\n",
    "plt.legend(['ARI','seuil de maintenance','Nb de jours optimal'])\n",
    "plt.plot()"
   ]
  },
  {
   "cell_type": "markdown",
   "id": "3852f5cb",
   "metadata": {},
   "source": [
    "### Mise à jour à éffectuer tous les 45 jours soit 6 à 7 semaines afin de conserver un ARI supérieur à 0.8"
   ]
  }
 ],
 "metadata": {
  "kernelspec": {
   "display_name": "Python 3 (ipykernel)",
   "language": "python",
   "name": "python3"
  },
  "language_info": {
   "codemirror_mode": {
    "name": "ipython",
    "version": 3
   },
   "file_extension": ".py",
   "mimetype": "text/x-python",
   "name": "python",
   "nbconvert_exporter": "python",
   "pygments_lexer": "ipython3",
   "version": "3.9.13"
  }
 },
 "nbformat": 4,
 "nbformat_minor": 5
}
